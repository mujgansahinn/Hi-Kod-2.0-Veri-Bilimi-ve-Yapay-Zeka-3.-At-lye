{
 "cells": [
  {
   "cell_type": "code",
   "execution_count": 9,
   "id": "81505563-5777-445f-97ac-ebbc90a17bfd",
   "metadata": {},
   "outputs": [],
   "source": [
    "a = 3\n",
    "b = 3.14\n",
    "c = \"7\"\n",
    "d = True"
   ]
  },
  {
   "cell_type": "code",
   "execution_count": 10,
   "id": "3ea797dc-8934-4e61-81ba-98e583cb70c3",
   "metadata": {},
   "outputs": [
    {
     "data": {
      "text/plain": [
       "int"
      ]
     },
     "execution_count": 10,
     "metadata": {},
     "output_type": "execute_result"
    }
   ],
   "source": [
    "type(a)"
   ]
  },
  {
   "cell_type": "code",
   "execution_count": 11,
   "id": "17bcce5e-f778-4f09-ba2e-85db05f32eea",
   "metadata": {},
   "outputs": [
    {
     "data": {
      "text/plain": [
       "3.0"
      ]
     },
     "execution_count": 11,
     "metadata": {},
     "output_type": "execute_result"
    }
   ],
   "source": [
    "float(a)"
   ]
  },
  {
   "cell_type": "code",
   "execution_count": 12,
   "id": "5416f0a4-e9a1-46ae-a59c-e3233505d573",
   "metadata": {},
   "outputs": [
    {
     "data": {
      "text/plain": [
       "float"
      ]
     },
     "execution_count": 12,
     "metadata": {},
     "output_type": "execute_result"
    }
   ],
   "source": [
    "type(b)"
   ]
  },
  {
   "cell_type": "code",
   "execution_count": 13,
   "id": "13088290-a36d-4c61-bea9-8b10cc15faef",
   "metadata": {},
   "outputs": [
    {
     "data": {
      "text/plain": [
       "3"
      ]
     },
     "execution_count": 13,
     "metadata": {},
     "output_type": "execute_result"
    }
   ],
   "source": [
    "int(b)"
   ]
  },
  {
   "cell_type": "code",
   "execution_count": 14,
   "id": "9d480679-134b-4fbf-a2cf-e6d4be594181",
   "metadata": {},
   "outputs": [
    {
     "data": {
      "text/plain": [
       "str"
      ]
     },
     "execution_count": 14,
     "metadata": {},
     "output_type": "execute_result"
    }
   ],
   "source": [
    "type(c)"
   ]
  },
  {
   "cell_type": "code",
   "execution_count": 15,
   "id": "1cb802ca-7293-41a6-93a3-3bcf564c4a53",
   "metadata": {},
   "outputs": [
    {
     "data": {
      "text/plain": [
       "7"
      ]
     },
     "execution_count": 15,
     "metadata": {},
     "output_type": "execute_result"
    }
   ],
   "source": [
    "int(c)"
   ]
  },
  {
   "cell_type": "code",
   "execution_count": 16,
   "id": "731ea0ac-f9e9-4458-ada3-6defd537d5ce",
   "metadata": {},
   "outputs": [
    {
     "data": {
      "text/plain": [
       "bool"
      ]
     },
     "execution_count": 16,
     "metadata": {},
     "output_type": "execute_result"
    }
   ],
   "source": [
    "type(d)"
   ]
  },
  {
   "cell_type": "code",
   "execution_count": 17,
   "id": "69bd1479-9d2e-44e9-9d49-c84022c4ae65",
   "metadata": {},
   "outputs": [
    {
     "data": {
      "text/plain": [
       "'True'"
      ]
     },
     "execution_count": 17,
     "metadata": {},
     "output_type": "execute_result"
    }
   ],
   "source": [
    "str(d)"
   ]
  },
  {
   "cell_type": "code",
   "execution_count": 18,
   "id": "b645f969-7b7a-414e-86df-5fd26e51d067",
   "metadata": {},
   "outputs": [],
   "source": [
    "Müjgan = 20\n",
    "Gülcan = 27\n",
    "Mehmet = 28"
   ]
  },
  {
   "cell_type": "code",
   "execution_count": 19,
   "id": "2a86c24c-d275-4451-8667-c044109dbade",
   "metadata": {},
   "outputs": [
    {
     "data": {
      "text/plain": [
       "False"
      ]
     },
     "execution_count": 19,
     "metadata": {},
     "output_type": "execute_result"
    }
   ],
   "source": [
    "Müjgan >= Gülcan"
   ]
  },
  {
   "cell_type": "code",
   "execution_count": 20,
   "id": "dead24e8-2d9a-43d6-8229-afd6e128d796",
   "metadata": {},
   "outputs": [
    {
     "data": {
      "text/plain": [
       "True"
      ]
     },
     "execution_count": 20,
     "metadata": {},
     "output_type": "execute_result"
    }
   ],
   "source": [
    "Mehmet >= Gülcan"
   ]
  },
  {
   "cell_type": "code",
   "execution_count": 21,
   "id": "d1c92678-8870-4bf5-8a8b-48bad4835572",
   "metadata": {},
   "outputs": [
    {
     "data": {
      "text/plain": [
       "True"
      ]
     },
     "execution_count": 21,
     "metadata": {},
     "output_type": "execute_result"
    }
   ],
   "source": [
    "Mehmet != Müjgan"
   ]
  },
  {
   "cell_type": "code",
   "execution_count": 22,
   "id": "a222b205-89ab-4e3e-a1dd-a8cc620847dd",
   "metadata": {},
   "outputs": [
    {
     "data": {
      "text/plain": [
       "False"
      ]
     },
     "execution_count": 22,
     "metadata": {},
     "output_type": "execute_result"
    }
   ],
   "source": [
    "(Müjgan >= Gülcan) and (Mehmet <= Müjgan)"
   ]
  },
  {
   "cell_type": "code",
   "execution_count": 25,
   "id": "e10a48fe-90e8-48c7-b3f0-9d9b33e3b188",
   "metadata": {},
   "outputs": [
    {
     "data": {
      "text/plain": [
       "False"
      ]
     },
     "execution_count": 25,
     "metadata": {},
     "output_type": "execute_result"
    }
   ],
   "source": [
    "not [(Mehmet >= Gülcan) or (Müjgan != Gülcan)]"
   ]
  },
  {
   "cell_type": "code",
   "execution_count": 40,
   "id": "20224aab-31f1-4f90-bae0-b0bc9c49f404",
   "metadata": {},
   "outputs": [
    {
     "name": "stdin",
     "output_type": "stream",
     "text": [
      " 1. değeri giriniz:  4\n",
      " 2. değeri giriniz:  6\n"
     ]
    }
   ],
   "source": [
    "sayi1 = int(input(\" 1. değeri giriniz: \"))\n",
    "sayi2 = int(input(\" 2. değeri giriniz: \"))"
   ]
  },
  {
   "cell_type": "code",
   "execution_count": 67,
   "id": "7290f67a-9857-40c7-ad15-d4468c83350e",
   "metadata": {},
   "outputs": [
    {
     "data": {
      "text/plain": [
       "10"
      ]
     },
     "execution_count": 67,
     "metadata": {},
     "output_type": "execute_result"
    }
   ],
   "source": [
    "sayi1 + sayi2"
   ]
  },
  {
   "cell_type": "code",
   "execution_count": 68,
   "id": "74d37ee1-ebe3-4549-a375-1606595cbbdb",
   "metadata": {},
   "outputs": [
    {
     "data": {
      "text/plain": [
       "-2"
      ]
     },
     "execution_count": 68,
     "metadata": {},
     "output_type": "execute_result"
    }
   ],
   "source": [
    "sayi1 - sayi2"
   ]
  },
  {
   "cell_type": "code",
   "execution_count": 69,
   "id": "7fdcf0da-1682-4a60-8a2a-b7685051f4bf",
   "metadata": {},
   "outputs": [
    {
     "data": {
      "text/plain": [
       "24"
      ]
     },
     "execution_count": 69,
     "metadata": {},
     "output_type": "execute_result"
    }
   ],
   "source": [
    "sayi1 * sayi2"
   ]
  },
  {
   "cell_type": "code",
   "execution_count": 70,
   "id": "11209b80-cd85-4578-a62f-dc5af75c94cf",
   "metadata": {},
   "outputs": [
    {
     "data": {
      "text/plain": [
       "0.6666666666666666"
      ]
     },
     "execution_count": 70,
     "metadata": {},
     "output_type": "execute_result"
    }
   ],
   "source": [
    "sayi1 / sayi2"
   ]
  },
  {
   "cell_type": "code",
   "execution_count": 47,
   "id": "4681708b-6f62-470c-8d00-587e3abde70a",
   "metadata": {},
   "outputs": [
    {
     "name": "stdin",
     "output_type": "stream",
     "text": [
      "İsminiz:  Müjgan\n",
      " Yaşınız:  20\n",
      " Şehriniz:  Antalya\n",
      " Mesleğiniz:  Öğrenci\n"
     ]
    }
   ],
   "source": [
    "ad = input(\"İsminiz: \")\n",
    "yas = input(\" Yaşınız: \")\n",
    "sehir = input(\" Şehriniz: \")\n",
    "meslek = input(\" Mesleğiniz: \")"
   ]
  },
  {
   "cell_type": "code",
   "execution_count": 53,
   "id": "c8f25e78-b349-43a4-aa5e-f0d207794dcd",
   "metadata": {},
   "outputs": [
    {
     "name": "stdout",
     "output_type": "stream",
     "text": [
      "Müjgan\n",
      "20\n",
      "Antalya\n",
      "Öğrenci\n"
     ]
    }
   ],
   "source": [
    "print(ad)\n",
    "print(yas)\n",
    "print(sehir)\n",
    "print(meslek)"
   ]
  },
  {
   "cell_type": "code",
   "execution_count": 54,
   "id": "09129252-5b49-4563-aef3-3a1e49c771cb",
   "metadata": {},
   "outputs": [],
   "source": [
    "degisken= \"Hi-Kod Veri Bilimi Atölyesi\""
   ]
  },
  {
   "cell_type": "code",
   "execution_count": 55,
   "id": "332bcd02-aa23-4735-a339-b4f1c0f091f9",
   "metadata": {},
   "outputs": [
    {
     "data": {
      "text/plain": [
       "['Hi-Kod', 'Veri', 'Bilimi', 'Atölyesi']"
      ]
     },
     "execution_count": 55,
     "metadata": {},
     "output_type": "execute_result"
    }
   ],
   "source": [
    "degisken.split()"
   ]
  },
  {
   "cell_type": "code",
   "execution_count": 57,
   "id": "0414449b-9d4c-45d6-b40e-072e9e253d45",
   "metadata": {},
   "outputs": [
    {
     "data": {
      "text/plain": [
       "'HI-KOD VERI BILIMI ATÖLYESI'"
      ]
     },
     "execution_count": 57,
     "metadata": {},
     "output_type": "execute_result"
    }
   ],
   "source": [
    "degisken.upper()"
   ]
  },
  {
   "cell_type": "code",
   "execution_count": 56,
   "id": "6aee9b05-d0e9-4f19-9f9b-8a50c59ad6c1",
   "metadata": {},
   "outputs": [
    {
     "data": {
      "text/plain": [
       "'hi-kod veri bilimi atölyesi'"
      ]
     },
     "execution_count": 56,
     "metadata": {},
     "output_type": "execute_result"
    }
   ],
   "source": [
    "degisken.lower()"
   ]
  },
  {
   "cell_type": "code",
   "execution_count": 58,
   "id": "2ece353f-6658-496f-a57f-d8a983ec4e65",
   "metadata": {},
   "outputs": [],
   "source": [
    "sayilar= \"0123456789\""
   ]
  },
  {
   "cell_type": "code",
   "execution_count": 59,
   "id": "28e189d2-b585-4af8-9c3f-d0e1987f3d71",
   "metadata": {},
   "outputs": [
    {
     "data": {
      "text/plain": [
       "'02468'"
      ]
     },
     "execution_count": 59,
     "metadata": {},
     "output_type": "execute_result"
    }
   ],
   "source": [
    "sayilar[0:10:2]"
   ]
  },
  {
   "cell_type": "code",
   "execution_count": 60,
   "id": "4d1c65b3-b6ea-4ff0-8305-7ae60e4cb638",
   "metadata": {},
   "outputs": [
    {
     "data": {
      "text/plain": [
       "'13579'"
      ]
     },
     "execution_count": 60,
     "metadata": {},
     "output_type": "execute_result"
    }
   ],
   "source": [
    "sayilar[1:10:2]"
   ]
  }
 ],
 "metadata": {
  "kernelspec": {
   "display_name": "Python 3 (ipykernel)",
   "language": "python",
   "name": "python3"
  },
  "language_info": {
   "codemirror_mode": {
    "name": "ipython",
    "version": 3
   },
   "file_extension": ".py",
   "mimetype": "text/x-python",
   "name": "python",
   "nbconvert_exporter": "python",
   "pygments_lexer": "ipython3",
   "version": "3.11.7"
  }
 },
 "nbformat": 4,
 "nbformat_minor": 5
}
