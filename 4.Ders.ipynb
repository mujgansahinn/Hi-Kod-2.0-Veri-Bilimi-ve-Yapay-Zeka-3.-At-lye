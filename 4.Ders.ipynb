{
 "cells": [
  {
   "cell_type": "code",
   "execution_count": 1,
   "id": "c1adb753-07be-474a-b034-857f201ced25",
   "metadata": {},
   "outputs": [
    {
     "data": {
      "text/plain": [
       "[5, 3, 7, 8, 9, 1]"
      ]
     },
     "execution_count": 1,
     "metadata": {},
     "output_type": "execute_result"
    }
   ],
   "source": [
    "my_list = [5,3,7,8,9,1]\n",
    "my_list"
   ]
  },
  {
   "cell_type": "code",
   "execution_count": 2,
   "id": "e50cf989-be34-46d6-9e25-bc569f57b70c",
   "metadata": {},
   "outputs": [
    {
     "data": {
      "text/plain": [
       "list"
      ]
     },
     "execution_count": 2,
     "metadata": {},
     "output_type": "execute_result"
    }
   ],
   "source": [
    "type(my_list)"
   ]
  },
  {
   "cell_type": "code",
   "execution_count": 3,
   "id": "072a936b-dd3d-4dc6-964d-80d5f24d1797",
   "metadata": {},
   "outputs": [
    {
     "data": {
      "text/plain": [
       "5"
      ]
     },
     "execution_count": 3,
     "metadata": {},
     "output_type": "execute_result"
    }
   ],
   "source": [
    "my_list[0]"
   ]
  },
  {
   "cell_type": "code",
   "execution_count": 4,
   "id": "3bd08162-3e92-422e-9fa1-6af1aa6ed861",
   "metadata": {},
   "outputs": [
    {
     "data": {
      "text/plain": [
       "3"
      ]
     },
     "execution_count": 4,
     "metadata": {},
     "output_type": "execute_result"
    }
   ],
   "source": [
    "my_list[1]"
   ]
  },
  {
   "cell_type": "code",
   "execution_count": 5,
   "id": "7ec7e0bc-eb74-4b61-8ae6-d1afa1e1963d",
   "metadata": {},
   "outputs": [
    {
     "data": {
      "text/plain": [
       "7"
      ]
     },
     "execution_count": 5,
     "metadata": {},
     "output_type": "execute_result"
    }
   ],
   "source": [
    "my_list[2]"
   ]
  },
  {
   "cell_type": "code",
   "execution_count": 6,
   "id": "f81c00a3-23d0-419d-b902-a794db6bb60f",
   "metadata": {},
   "outputs": [
    {
     "data": {
      "text/plain": [
       "1"
      ]
     },
     "execution_count": 6,
     "metadata": {},
     "output_type": "execute_result"
    }
   ],
   "source": [
    "my_list[-1]"
   ]
  },
  {
   "cell_type": "code",
   "execution_count": 7,
   "id": "807af47c-c8c6-41ff-8241-b073927226a1",
   "metadata": {},
   "outputs": [
    {
     "data": {
      "text/plain": [
       "[5, 3, 7, 8]"
      ]
     },
     "execution_count": 7,
     "metadata": {},
     "output_type": "execute_result"
    }
   ],
   "source": [
    "my_list[:4]"
   ]
  },
  {
   "cell_type": "code",
   "execution_count": 8,
   "id": "6655f3d9-f340-4447-a51a-862a15ecaa7f",
   "metadata": {},
   "outputs": [
    {
     "data": {
      "text/plain": [
       "[7, 8, 9]"
      ]
     },
     "execution_count": 8,
     "metadata": {},
     "output_type": "execute_result"
    }
   ],
   "source": [
    "my_list[2:5]"
   ]
  },
  {
   "cell_type": "code",
   "execution_count": 9,
   "id": "b0d1f30e-222b-4562-b7ed-23d3791ad6f8",
   "metadata": {},
   "outputs": [
    {
     "data": {
      "text/plain": [
       "[5, 3, 7, 8, 9, 1]"
      ]
     },
     "execution_count": 9,
     "metadata": {},
     "output_type": "execute_result"
    }
   ],
   "source": [
    "my_list"
   ]
  },
  {
   "cell_type": "code",
   "execution_count": 10,
   "id": "1f03568c-0fb1-4931-b800-690075c6d8e9",
   "metadata": {},
   "outputs": [
    {
     "data": {
      "text/plain": [
       "[3, 7, 8]"
      ]
     },
     "execution_count": 10,
     "metadata": {},
     "output_type": "execute_result"
    }
   ],
   "source": [
    "my_list[1:-2]"
   ]
  },
  {
   "cell_type": "code",
   "execution_count": 11,
   "id": "f4eb34ab-d199-41f3-8cb4-1deec0fe902d",
   "metadata": {},
   "outputs": [
    {
     "data": {
      "text/plain": [
       "[3, 6, 'Python', 5.1, 'Hi']"
      ]
     },
     "execution_count": 11,
     "metadata": {},
     "output_type": "execute_result"
    }
   ],
   "source": [
    "yeni_list = [3,6,\"Python\",5.1,\"Hi\"]\n",
    "yeni_list"
   ]
  },
  {
   "cell_type": "code",
   "execution_count": 12,
   "id": "a3a63881-e5c6-411d-be1f-8fb01d1d4dd4",
   "metadata": {},
   "outputs": [
    {
     "data": {
      "text/plain": [
       "[5, 3, 7, 8, 9, 1]"
      ]
     },
     "execution_count": 12,
     "metadata": {},
     "output_type": "execute_result"
    }
   ],
   "source": [
    "my_list"
   ]
  },
  {
   "cell_type": "code",
   "execution_count": 13,
   "id": "515052e2-b6eb-4430-acc1-cbd1db060bfd",
   "metadata": {},
   "outputs": [
    {
     "data": {
      "text/plain": [
       "[5, 3, 'Merhaba', 8, 9, 1]"
      ]
     },
     "execution_count": 13,
     "metadata": {},
     "output_type": "execute_result"
    }
   ],
   "source": [
    "my_list[2] = \"Merhaba\"\n",
    "my_list"
   ]
  },
  {
   "cell_type": "code",
   "execution_count": 16,
   "id": "aa757f92-dc33-4432-8f76-e3e5e5c6fddf",
   "metadata": {},
   "outputs": [
    {
     "data": {
      "text/plain": [
       "[2, 4, 'Elma', 7, [1, 4.3, 'Armut'], [2, 8, 9.0]]"
      ]
     },
     "execution_count": 16,
     "metadata": {},
     "output_type": "execute_result"
    }
   ],
   "source": [
    "my_list2 = [2,4,\"Elma\",7,[1,4.3,\"Armut\"],[2,8,9.0]]\n",
    "my_list2"
   ]
  },
  {
   "cell_type": "code",
   "execution_count": 17,
   "id": "06404067-3456-4c65-89b3-4af58cfec452",
   "metadata": {},
   "outputs": [
    {
     "data": {
      "text/plain": [
       "['Hi-Kod', 'Veri', 'Bilimi', 'Atölyesi']"
      ]
     },
     "execution_count": 17,
     "metadata": {},
     "output_type": "execute_result"
    }
   ],
   "source": [
    "atolye = \"Hi-Kod Veri Bilimi Atölyesi\"\n",
    "atolye_list = atolye.split()\n",
    "atolye_list"
   ]
  },
  {
   "cell_type": "code",
   "execution_count": 18,
   "id": "69c22c84-1969-4932-8262-cdbb39cbfe9a",
   "metadata": {},
   "outputs": [
    {
     "data": {
      "text/plain": [
       "list"
      ]
     },
     "execution_count": 18,
     "metadata": {},
     "output_type": "execute_result"
    }
   ],
   "source": [
    "type(atolye_list)"
   ]
  },
  {
   "cell_type": "code",
   "execution_count": 19,
   "id": "eda3d8de-40ff-4bf0-b9f7-b8efec2ef565",
   "metadata": {},
   "outputs": [
    {
     "data": {
      "text/plain": [
       "'Hi-Kod'"
      ]
     },
     "execution_count": 19,
     "metadata": {},
     "output_type": "execute_result"
    }
   ],
   "source": [
    "atolye_list[0]"
   ]
  },
  {
   "cell_type": "code",
   "execution_count": 24,
   "id": "643a8178-bbcb-49e9-a69c-48bf3da82e3a",
   "metadata": {},
   "outputs": [
    {
     "data": {
      "text/plain": [
       "['elma', 'armut', 'çilek']"
      ]
     },
     "execution_count": 24,
     "metadata": {},
     "output_type": "execute_result"
    }
   ],
   "source": [
    "meyveler=\"elma,armut,çilek\"\n",
    "meyveler_list=meyveler.split(\",\")\n",
    "meyveler_list"
   ]
  },
  {
   "cell_type": "code",
   "execution_count": 25,
   "id": "53380fff-2d95-4599-a885-acc7874c6d92",
   "metadata": {},
   "outputs": [
    {
     "data": {
      "text/plain": [
       "['elma,armut,çilek']"
      ]
     },
     "execution_count": 25,
     "metadata": {},
     "output_type": "execute_result"
    }
   ],
   "source": [
    "meyveler=\"elma,armut,çilek\"\n",
    "meyveler_list=meyveler.split()\n",
    "meyveler_list"
   ]
  },
  {
   "cell_type": "code",
   "execution_count": 26,
   "id": "c9f1e8cb-ab5e-4e40-9364-95b661906ac1",
   "metadata": {},
   "outputs": [
    {
     "data": {
      "text/plain": [
       "['H', '-Kod Ver', ' B', 'l', 'm', ' Atölyes', '']"
      ]
     },
     "execution_count": 26,
     "metadata": {},
     "output_type": "execute_result"
    }
   ],
   "source": [
    "atolye.split(\"i\")"
   ]
  },
  {
   "cell_type": "code",
   "execution_count": 27,
   "id": "3081a677-e47f-4b8b-aa3e-3c3f5dab782d",
   "metadata": {},
   "outputs": [
    {
     "data": {
      "text/plain": [
       "[3, 6, 'Python', 5.1, 'Hi']"
      ]
     },
     "execution_count": 27,
     "metadata": {},
     "output_type": "execute_result"
    }
   ],
   "source": [
    "yeni_list"
   ]
  },
  {
   "cell_type": "code",
   "execution_count": 28,
   "id": "a24c7ea2-068d-4443-a8ed-b66f6b359ee0",
   "metadata": {},
   "outputs": [
    {
     "data": {
      "text/plain": [
       "5"
      ]
     },
     "execution_count": 28,
     "metadata": {},
     "output_type": "execute_result"
    }
   ],
   "source": [
    "len(yeni_list)"
   ]
  },
  {
   "cell_type": "code",
   "execution_count": 29,
   "id": "0bd441c9-533f-4177-8b82-4a978e1f352d",
   "metadata": {},
   "outputs": [
    {
     "data": {
      "text/plain": [
       "[2, 4, 'Elma', 7, [1, 4.3, 'Armut'], [2, 8, 9.0]]"
      ]
     },
     "execution_count": 29,
     "metadata": {},
     "output_type": "execute_result"
    }
   ],
   "source": [
    "my_list2"
   ]
  },
  {
   "cell_type": "code",
   "execution_count": 30,
   "id": "751a3820-96ed-4282-900d-d515f8c99496",
   "metadata": {},
   "outputs": [
    {
     "data": {
      "text/plain": [
       "6"
      ]
     },
     "execution_count": 30,
     "metadata": {},
     "output_type": "execute_result"
    }
   ],
   "source": [
    "len(my_list2)"
   ]
  },
  {
   "cell_type": "code",
   "execution_count": 31,
   "id": "a5347aa0-1deb-4d52-9597-c7ee24bafa8a",
   "metadata": {},
   "outputs": [
    {
     "data": {
      "text/plain": [
       "(3, 4, 5, 6)"
      ]
     },
     "execution_count": 31,
     "metadata": {},
     "output_type": "execute_result"
    }
   ],
   "source": [
    "sayilar=3,4,5,6\n",
    "sayilar"
   ]
  },
  {
   "cell_type": "code",
   "execution_count": 32,
   "id": "fa048904-ac01-4708-99c4-cf0767329d84",
   "metadata": {},
   "outputs": [
    {
     "data": {
      "text/plain": [
       "tuple"
      ]
     },
     "execution_count": 32,
     "metadata": {},
     "output_type": "execute_result"
    }
   ],
   "source": [
    "type(sayilar)"
   ]
  },
  {
   "cell_type": "code",
   "execution_count": 33,
   "id": "4dc0228c-5768-4fbd-8bcd-68612d4146c1",
   "metadata": {},
   "outputs": [
    {
     "data": {
      "text/plain": [
       "[3, 4, 5, 6]"
      ]
     },
     "execution_count": 33,
     "metadata": {},
     "output_type": "execute_result"
    }
   ],
   "source": [
    "list(sayilar)"
   ]
  },
  {
   "cell_type": "code",
   "execution_count": 34,
   "id": "565568f4-e92e-4c15-b2bb-0e6bc35c7299",
   "metadata": {},
   "outputs": [
    {
     "data": {
      "text/plain": [
       "[0, 1, 2, 3, 4, 5, 6, 7, 8, 9]"
      ]
     },
     "execution_count": 34,
     "metadata": {},
     "output_type": "execute_result"
    }
   ],
   "source": [
    "list(range(0,10))"
   ]
  },
  {
   "cell_type": "code",
   "execution_count": 35,
   "id": "1578d94b-182d-4d15-847d-6a71d19d0e2b",
   "metadata": {},
   "outputs": [
    {
     "name": "stdout",
     "output_type": "stream",
     "text": [
      "0\n",
      "1\n",
      "2\n",
      "3\n",
      "4\n",
      "5\n"
     ]
    }
   ],
   "source": [
    "meyveler=[\"elma\",\"armut\",\"muz\",\"çilek\",\"ayva\",\"kiraz\"]\n",
    "for i in range(0,len(meyveler)):\n",
    "    print(i)"
   ]
  },
  {
   "cell_type": "code",
   "execution_count": 36,
   "id": "dfa371d4-c5fe-4f94-8871-1b02bee9c831",
   "metadata": {},
   "outputs": [
    {
     "name": "stdout",
     "output_type": "stream",
     "text": [
      "0 .indexteki ifade: elma\n",
      "1 .indexteki ifade: armut\n",
      "2 .indexteki ifade: muz\n",
      "3 .indexteki ifade: çilek\n",
      "4 .indexteki ifade: ayva\n"
     ]
    }
   ],
   "source": [
    "meyveler=[\"elma\",\"armut\",\"muz\",\"çilek\",\"ayva\"]\n",
    "for i in range(0,len(meyveler)):\n",
    "    print(\"{} .indexteki ifade: {}\".format(i,meyveler[i]))"
   ]
  },
  {
   "cell_type": "code",
   "execution_count": 37,
   "id": "0d924a28-fc8d-46ac-ae66-ef86371d464c",
   "metadata": {},
   "outputs": [
    {
     "name": "stdout",
     "output_type": "stream",
     "text": [
      "0.indexte bulunan meyve: elma\n",
      "1.indexte bulunan meyve: armut\n",
      "2.indexte bulunan meyve: muz\n",
      "3.indexte bulunan meyve: çilek\n",
      "4.indexte bulunan meyve: ayva\n"
     ]
    }
   ],
   "source": [
    "meyveler=[\"elma\",\"armut\",\"muz\",\"çilek\",\"ayva\"]\n",
    "a=0\n",
    "for meyve in meyveler:\n",
    "    print(f'{a}.indexte bulunan meyve:',meyve)\n",
    "    a=a+1"
   ]
  },
  {
   "cell_type": "code",
   "execution_count": 38,
   "id": "eee472d2-8240-4f91-8665-d49da5779b72",
   "metadata": {},
   "outputs": [
    {
     "name": "stdout",
     "output_type": "stream",
     "text": [
      "0 .indexteki meyve: elma\n",
      "1 .indexteki meyve: muz\n",
      "2 .indexteki meyve: çilek\n",
      "3 .indexteki meyve: ayva\n",
      "4 .indexteki meyve: üzüm\n"
     ]
    }
   ],
   "source": [
    "meyveler=[\"elma\",\"muz\",\"çilek\",\"ayva\",\"üzüm\"]\n",
    "for i in range(0,len(meyveler)):\n",
    "    print(i,\".indexteki meyve:\",meyveler[i])"
   ]
  },
  {
   "cell_type": "code",
   "execution_count": 39,
   "id": "cd8830b2-84aa-4afe-8563-541328a819cd",
   "metadata": {},
   "outputs": [
    {
     "data": {
      "text/plain": [
       "[2, 4, 'Elma', 7, [1, 4.3, 'Armut'], [2, 8, 9.0]]"
      ]
     },
     "execution_count": 39,
     "metadata": {},
     "output_type": "execute_result"
    }
   ],
   "source": [
    "my_list2"
   ]
  },
  {
   "cell_type": "code",
   "execution_count": 40,
   "id": "e6fa3cbd-9515-49e2-b516-f20c5e19d4e2",
   "metadata": {},
   "outputs": [
    {
     "data": {
      "text/plain": [
       "7"
      ]
     },
     "execution_count": 40,
     "metadata": {},
     "output_type": "execute_result"
    }
   ],
   "source": [
    "my_list2[3]"
   ]
  },
  {
   "cell_type": "code",
   "execution_count": 44,
   "id": "602d74cd-7224-474f-863a-4c8ca11f9170",
   "metadata": {},
   "outputs": [
    {
     "data": {
      "text/plain": [
       "[1, 4.3, 'Armut']"
      ]
     },
     "execution_count": 44,
     "metadata": {},
     "output_type": "execute_result"
    }
   ],
   "source": [
    "my_list2[4]"
   ]
  },
  {
   "cell_type": "code",
   "execution_count": 45,
   "id": "3b5f8b8d-8c1c-496a-9c1f-ce703c6422d2",
   "metadata": {},
   "outputs": [
    {
     "data": {
      "text/plain": [
       "'Armut'"
      ]
     },
     "execution_count": 45,
     "metadata": {},
     "output_type": "execute_result"
    }
   ],
   "source": [
    "my_list2[4][2]"
   ]
  },
  {
   "cell_type": "code",
   "execution_count": 46,
   "id": "f778112a-fd0e-4746-b5c4-e83d96781b2b",
   "metadata": {},
   "outputs": [
    {
     "data": {
      "text/plain": [
       "1"
      ]
     },
     "execution_count": 46,
     "metadata": {},
     "output_type": "execute_result"
    }
   ],
   "source": [
    "my_list2[4][0]"
   ]
  },
  {
   "cell_type": "code",
   "execution_count": 47,
   "id": "bb7c739d-9ade-4225-92fd-f25da12b38d2",
   "metadata": {},
   "outputs": [
    {
     "data": {
      "text/plain": [
       "9.0"
      ]
     },
     "execution_count": 47,
     "metadata": {},
     "output_type": "execute_result"
    }
   ],
   "source": [
    "my_list2[-1][-1]"
   ]
  },
  {
   "cell_type": "code",
   "execution_count": 48,
   "id": "1eb74c79-8b9e-4651-a54c-5996cee10a26",
   "metadata": {},
   "outputs": [
    {
     "data": {
      "text/plain": [
       "[2, 4, 'Elma', 7, [1, 4.3, 'Armut'], [2, 8, 9.0]]"
      ]
     },
     "execution_count": 48,
     "metadata": {},
     "output_type": "execute_result"
    }
   ],
   "source": [
    "my_list"
   ]
  },
  {
   "cell_type": "code",
   "execution_count": 49,
   "id": "090e9d78-dc75-4dd4-8da6-17a3fbf82c5c",
   "metadata": {},
   "outputs": [
    {
     "data": {
      "text/plain": [
       "[2, 4, 'Elma', 7, [1, 4.3, 'Armut'], [2, 8, 9.0], 'selam']"
      ]
     },
     "execution_count": 49,
     "metadata": {},
     "output_type": "execute_result"
    }
   ],
   "source": [
    "my_list.append(\"selam\")\n",
    "my_list"
   ]
  },
  {
   "cell_type": "code",
   "execution_count": 50,
   "id": "543884e6-068f-4a4e-ab2b-cf6cbf8eb2fb",
   "metadata": {},
   "outputs": [
    {
     "data": {
      "text/plain": [
       "[2, 4, 'Elma', 7, [1, 4.3, 'Armut'], [2, 8, 9.0], 'selam', 8.3]"
      ]
     },
     "execution_count": 50,
     "metadata": {},
     "output_type": "execute_result"
    }
   ],
   "source": [
    "my_list.append(8.3)\n",
    "my_list"
   ]
  },
  {
   "cell_type": "code",
   "execution_count": 51,
   "id": "95d8dbc5-b677-448f-a262-0f1d6a3ad45a",
   "metadata": {},
   "outputs": [
    {
     "data": {
      "text/plain": [
       "[2,\n",
       " 4,\n",
       " 'Elma',\n",
       " 7,\n",
       " [1, 4.3, 'Armut'],\n",
       " [2, 8, 9.0],\n",
       " 'selam',\n",
       " 8.3,\n",
       " ['nasılsın', 9]]"
      ]
     },
     "execution_count": 51,
     "metadata": {},
     "output_type": "execute_result"
    }
   ],
   "source": [
    "my_list.append([\"nasılsın\",9])\n",
    "my_list"
   ]
  },
  {
   "cell_type": "code",
   "execution_count": 52,
   "id": "85b382d1-8822-4270-844a-8763c8cc8112",
   "metadata": {},
   "outputs": [
    {
     "data": {
      "text/plain": [
       "[3, 6, 'Python', 5.1, 'Hi']"
      ]
     },
     "execution_count": 52,
     "metadata": {},
     "output_type": "execute_result"
    }
   ],
   "source": [
    "yeni_list"
   ]
  },
  {
   "cell_type": "code",
   "execution_count": 53,
   "id": "ea38ed58-1f91-4226-83b8-a5b103b47d49",
   "metadata": {},
   "outputs": [
    {
     "data": {
      "text/plain": [
       "[3, 6, 'veri bilimi', 'Python', 5.1, 'Hi']"
      ]
     },
     "execution_count": 53,
     "metadata": {},
     "output_type": "execute_result"
    }
   ],
   "source": [
    "yeni_list.insert(2,\"veri bilimi\")\n",
    "yeni_list"
   ]
  },
  {
   "cell_type": "code",
   "execution_count": 54,
   "id": "33f25bd8-6ef5-497e-a3d0-9cc95d816d35",
   "metadata": {},
   "outputs": [
    {
     "data": {
      "text/plain": [
       "[3, 6, 'veri bilimi', 'Python', 6, 5.1, 'Hi']"
      ]
     },
     "execution_count": 54,
     "metadata": {},
     "output_type": "execute_result"
    }
   ],
   "source": [
    "yeni_list.insert(4,6)\n",
    "yeni_list"
   ]
  },
  {
   "cell_type": "code",
   "execution_count": 55,
   "id": "c1c305d0-d4e6-4a62-aac4-99a9e62479cc",
   "metadata": {},
   "outputs": [
    {
     "data": {
      "text/plain": [
       "[3, '6', 6, 'veri bilimi', 'Python', 6, 5.1, 'Hi']"
      ]
     },
     "execution_count": 55,
     "metadata": {},
     "output_type": "execute_result"
    }
   ],
   "source": [
    "yeni_list.insert(1,\"6\")\n",
    "yeni_list"
   ]
  },
  {
   "cell_type": "code",
   "execution_count": 56,
   "id": "dda6784a-4bd9-4a50-acb7-f401b2c44af8",
   "metadata": {},
   "outputs": [
    {
     "ename": "TypeError",
     "evalue": "insert expected 2 arguments, got 4",
     "output_type": "error",
     "traceback": [
      "\u001b[1;31m---------------------------------------------------------------------------\u001b[0m",
      "\u001b[1;31mTypeError\u001b[0m                                 Traceback (most recent call last)",
      "Cell \u001b[1;32mIn[56], line 1\u001b[0m\n\u001b[1;32m----> 1\u001b[0m yeni_list\u001b[38;5;241m.\u001b[39minsert(\u001b[38;5;241m4\u001b[39m,\u001b[38;5;241m3\u001b[39m,\u001b[38;5;241m2\u001b[39m,\u001b[38;5;241m1\u001b[39m)\n\u001b[0;32m      2\u001b[0m yeni_list\n",
      "\u001b[1;31mTypeError\u001b[0m: insert expected 2 arguments, got 4"
     ]
    }
   ],
   "source": [
    "yeni_list.insert(4,3,2,1)\n",
    "yeni_list"
   ]
  },
  {
   "cell_type": "code",
   "execution_count": 58,
   "id": "4d483a23-171e-499c-90a5-92b44756bc19",
   "metadata": {},
   "outputs": [
    {
     "data": {
      "text/plain": [
       "[3, '6', 6, 'veri bilimi', [3, 2, 1], 'Python', 6, 5.1, 'Hi']"
      ]
     },
     "execution_count": 58,
     "metadata": {},
     "output_type": "execute_result"
    }
   ],
   "source": [
    "yeni_list.insert(4,[3,2,1])\n",
    "yeni_list"
   ]
  },
  {
   "cell_type": "code",
   "execution_count": 59,
   "id": "6ea69cfc-224f-4f82-a8dd-118d08437ef5",
   "metadata": {},
   "outputs": [
    {
     "name": "stdout",
     "output_type": "stream",
     "text": [
      "[2, 4, 'Elma', 7, [1, 4.3, 'Armut'], [2, 8, 9.0], 'selam', 8.3, ['nasılsın', 9]]\n",
      "[3, '6', 6, 'veri bilimi', [3, 2, 1], 'Python', 6, 5.1, 'Hi']\n",
      "[2, 4, 'Elma', 7, [1, 4.3, 'Armut'], [2, 8, 9.0], 'selam', 8.3, ['nasılsın', 9], 3, '6', 6, 'veri bilimi', [3, 2, 1], 'Python', 6, 5.1, 'Hi']\n"
     ]
    }
   ],
   "source": [
    "print(my_list)\n",
    "print(yeni_list)\n",
    "my_list.extend(yeni_list)\n",
    "print(my_list)"
   ]
  },
  {
   "cell_type": "code",
   "execution_count": 60,
   "id": "5ba3df69-beeb-4153-a461-43fe6a0db229",
   "metadata": {},
   "outputs": [
    {
     "data": {
      "text/plain": [
       "[3, '6', 6, 'veri bilimi', [3, 2, 1], 'Python', 6, 5.1, 'Hi']"
      ]
     },
     "execution_count": 60,
     "metadata": {},
     "output_type": "execute_result"
    }
   ],
   "source": [
    "yeni_list"
   ]
  },
  {
   "cell_type": "code",
   "execution_count": 61,
   "id": "967cb48c-f3ca-4ad0-84f4-1cb1f92b3e50",
   "metadata": {},
   "outputs": [
    {
     "name": "stdout",
     "output_type": "stream",
     "text": [
      "[3, '6', 6, 'veri bilimi', [3, 2, 1], 6, 5.1, 'Hi']\n"
     ]
    }
   ],
   "source": [
    "yeni_list.remove(\"Python\")\n",
    "print(yeni_list)"
   ]
  },
  {
   "cell_type": "code",
   "execution_count": 62,
   "id": "b3769dde-f134-4842-97a4-8d4f87e9cd29",
   "metadata": {},
   "outputs": [
    {
     "data": {
      "text/plain": [
       "[3, '6', 6, 'veri bilimi', 6, 5.1, 'Hi']"
      ]
     },
     "execution_count": 62,
     "metadata": {},
     "output_type": "execute_result"
    }
   ],
   "source": [
    "yeni_list.pop(4)\n",
    "yeni_list"
   ]
  },
  {
   "cell_type": "code",
   "execution_count": 63,
   "id": "0610e3a9-a2fb-4771-bd87-bf498448c54f",
   "metadata": {},
   "outputs": [
    {
     "data": {
      "text/plain": [
       "[3, '6', 6, 'veri bilimi', 6, 5.1]"
      ]
     },
     "execution_count": 63,
     "metadata": {},
     "output_type": "execute_result"
    }
   ],
   "source": [
    "yeni_list.pop()\n",
    "yeni_list"
   ]
  },
  {
   "cell_type": "code",
   "execution_count": 64,
   "id": "b0c5c199-5d60-4cc3-9965-c8828a05e8c8",
   "metadata": {},
   "outputs": [
    {
     "data": {
      "text/plain": [
       "[]"
      ]
     },
     "execution_count": 64,
     "metadata": {},
     "output_type": "execute_result"
    }
   ],
   "source": [
    "yeni_list.clear()\n",
    "yeni_list"
   ]
  },
  {
   "cell_type": "code",
   "execution_count": 65,
   "id": "61ae0382-d4ff-4361-8422-24271a9067c1",
   "metadata": {},
   "outputs": [
    {
     "data": {
      "text/plain": [
       "['elma', 'muz', 'çilek', 'ayva', 'üzüm']"
      ]
     },
     "execution_count": 65,
     "metadata": {},
     "output_type": "execute_result"
    }
   ],
   "source": [
    "meyveler"
   ]
  },
  {
   "cell_type": "code",
   "execution_count": 66,
   "id": "b6744a6e-3a9c-43d1-9c64-5288920d98e3",
   "metadata": {},
   "outputs": [
    {
     "data": {
      "text/plain": [
       "['elma', 'armut', 'ayva']"
      ]
     },
     "execution_count": 66,
     "metadata": {},
     "output_type": "execute_result"
    }
   ],
   "source": [
    "meyveler=[\"elma\",\"armut\",\"muz\",\"çilek\",\"ayva\"]\n",
    "new_meyveler=[]\n",
    "for meyve in meyveler:\n",
    "    if \"a\" in meyve:\n",
    "        new_meyveler.append(meyve)\n",
    "\n",
    "new_meyveler"
   ]
  },
  {
   "cell_type": "code",
   "execution_count": 67,
   "id": "ce84ead5-2087-46fc-b075-87c3af4067fa",
   "metadata": {},
   "outputs": [
    {
     "data": {
      "text/plain": [
       "[]"
      ]
     },
     "execution_count": 67,
     "metadata": {},
     "output_type": "execute_result"
    }
   ],
   "source": [
    "new_meyve=[]\n",
    "liste=['elma', 'armut', 'muz', 'çilek', 'ayva']\n",
    "for meyve in meyveler:\n",
    "    if meyve==\"a\":\n",
    "        new_meyve.append(meyve)\n",
    "new_meyve"
   ]
  },
  {
   "cell_type": "code",
   "execution_count": 68,
   "id": "6db43550-d5b7-4fb1-a68c-9afae1de7f5a",
   "metadata": {},
   "outputs": [
    {
     "data": {
      "text/plain": [
       "['elma', 'armut', 'ayva', 'ayva']"
      ]
     },
     "execution_count": 68,
     "metadata": {},
     "output_type": "execute_result"
    }
   ],
   "source": [
    "new_meyve=[]\n",
    "liste=['elma', 'armut', 'muz', 'çilek', 'ayva']\n",
    "for meyve in meyveler:\n",
    "    for i in meyve:\n",
    "        if i==\"a\":\n",
    "            new_meyve.append(meyve)\n",
    "new_meyve"
   ]
  },
  {
   "cell_type": "code",
   "execution_count": 69,
   "id": "68934698-b5a0-4886-931d-deb016addbbe",
   "metadata": {},
   "outputs": [
    {
     "data": {
      "text/plain": [
       "[8, 14, 7, 66, 37, 20, 4]"
      ]
     },
     "execution_count": 69,
     "metadata": {},
     "output_type": "execute_result"
    }
   ],
   "source": [
    "numbers=[8,14,7,66,37,20,4]\n",
    "numbers"
   ]
  },
  {
   "cell_type": "code",
   "execution_count": 70,
   "id": "144c99c0-c09c-40b7-96f8-41fb42cac643",
   "metadata": {},
   "outputs": [
    {
     "data": {
      "text/plain": [
       "[4, 7, 8, 14, 20, 37, 66]"
      ]
     },
     "execution_count": 70,
     "metadata": {},
     "output_type": "execute_result"
    }
   ],
   "source": [
    "numbers.sort()\n",
    "numbers"
   ]
  },
  {
   "cell_type": "code",
   "execution_count": 71,
   "id": "8aa2d56a-a928-48e5-b15a-e31c577f97d6",
   "metadata": {},
   "outputs": [
    {
     "data": {
      "text/plain": [
       "['elma', 'muz', 'portakal', 'ayva', 'mandalina']"
      ]
     },
     "execution_count": 71,
     "metadata": {},
     "output_type": "execute_result"
    }
   ],
   "source": [
    "meyveler = [\"elma\",\"muz\",\"portakal\",\"ayva\",\"mandalina\"]\n",
    "meyveler"
   ]
  },
  {
   "cell_type": "code",
   "execution_count": 72,
   "id": "bd917561-11bd-479e-9a8a-669513b60fca",
   "metadata": {},
   "outputs": [
    {
     "data": {
      "text/plain": [
       "['ayva', 'elma', 'mandalina', 'muz', 'portakal']"
      ]
     },
     "execution_count": 72,
     "metadata": {},
     "output_type": "execute_result"
    }
   ],
   "source": [
    "meyveler.sort()\n",
    "meyveler"
   ]
  },
  {
   "cell_type": "code",
   "execution_count": 73,
   "id": "285631f7-2b22-44f2-b69e-0cbb1603cbde",
   "metadata": {},
   "outputs": [
    {
     "data": {
      "text/plain": [
       "['portakal', 'muz', 'mandalina', 'elma', 'ayva']"
      ]
     },
     "execution_count": 73,
     "metadata": {},
     "output_type": "execute_result"
    }
   ],
   "source": [
    "meyveler.sort(reverse=True)\n",
    "meyveler"
   ]
  },
  {
   "cell_type": "code",
   "execution_count": 74,
   "id": "273c483b-c475-45e7-b4da-1b1dc1357004",
   "metadata": {},
   "outputs": [
    {
     "data": {
      "text/plain": [
       "['mandalina', 'ayva', 'portakal', 'muz', 'elma']"
      ]
     },
     "execution_count": 74,
     "metadata": {},
     "output_type": "execute_result"
    }
   ],
   "source": [
    "meyveler = [\"elma\",\"muz\",\"portakal\",\"ayva\",\"mandalina\"]\n",
    "meyveler.reverse()\n",
    "meyveler"
   ]
  },
  {
   "cell_type": "code",
   "execution_count": 75,
   "id": "0705bea7-0466-4b81-8c07-948b6559a826",
   "metadata": {},
   "outputs": [
    {
     "data": {
      "text/plain": [
       "[66, 37, 20, 14, 8, 7, 4]"
      ]
     },
     "execution_count": 75,
     "metadata": {},
     "output_type": "execute_result"
    }
   ],
   "source": [
    "numbers.reverse()\n",
    "numbers"
   ]
  },
  {
   "cell_type": "code",
   "execution_count": 76,
   "id": "7cc5d284-a7ab-4690-a2da-b4ed3beb7f55",
   "metadata": {},
   "outputs": [
    {
     "data": {
      "text/plain": [
       "[66, 37, 20, 14, 8, 7, 4]"
      ]
     },
     "execution_count": 76,
     "metadata": {},
     "output_type": "execute_result"
    }
   ],
   "source": [
    "new_numbers=numbers.copy()\n",
    "new_numbers"
   ]
  },
  {
   "cell_type": "code",
   "execution_count": 77,
   "id": "c3a8f2e3-ca5a-4ca3-8b80-46bb4aa4a034",
   "metadata": {},
   "outputs": [
    {
     "data": {
      "text/plain": [
       "[66, 37, 20, 14, 8, 7, 4]"
      ]
     },
     "execution_count": 77,
     "metadata": {},
     "output_type": "execute_result"
    }
   ],
   "source": [
    "new_numbers2=numbers\n",
    "new_numbers2"
   ]
  },
  {
   "cell_type": "code",
   "execution_count": 78,
   "id": "48930cd0-14d4-4258-ad60-a2b124bf3b2d",
   "metadata": {},
   "outputs": [
    {
     "data": {
      "text/plain": [
       "[66, 37, 20, 14, 8, 7, 4, 'Hello']"
      ]
     },
     "execution_count": 78,
     "metadata": {},
     "output_type": "execute_result"
    }
   ],
   "source": [
    "numbers.append(\"Hello\")\n",
    "numbers"
   ]
  },
  {
   "cell_type": "code",
   "execution_count": 79,
   "id": "9db9a07c-97b5-4365-bdc3-78d437ac59dc",
   "metadata": {},
   "outputs": [
    {
     "data": {
      "text/plain": [
       "[66, 37, 20, 14, 8, 7, 4]"
      ]
     },
     "execution_count": 79,
     "metadata": {},
     "output_type": "execute_result"
    }
   ],
   "source": [
    "new_numbers"
   ]
  },
  {
   "cell_type": "code",
   "execution_count": 80,
   "id": "b8915ecf-7085-411c-a53d-186a61cf115e",
   "metadata": {},
   "outputs": [
    {
     "data": {
      "text/plain": [
       "[66, 37, 20, 14, 8, 7, 4, 'Hello']"
      ]
     },
     "execution_count": 80,
     "metadata": {},
     "output_type": "execute_result"
    }
   ],
   "source": [
    "new_numbers2"
   ]
  },
  {
   "cell_type": "code",
   "execution_count": null,
   "id": "e4e6ee97-84d5-45dd-a74d-875bdff22fcf",
   "metadata": {},
   "outputs": [],
   "source": []
  }
 ],
 "metadata": {
  "kernelspec": {
   "display_name": "Python 3 (ipykernel)",
   "language": "python",
   "name": "python3"
  },
  "language_info": {
   "codemirror_mode": {
    "name": "ipython",
    "version": 3
   },
   "file_extension": ".py",
   "mimetype": "text/x-python",
   "name": "python",
   "nbconvert_exporter": "python",
   "pygments_lexer": "ipython3",
   "version": "3.11.7"
  }
 },
 "nbformat": 4,
 "nbformat_minor": 5
}
