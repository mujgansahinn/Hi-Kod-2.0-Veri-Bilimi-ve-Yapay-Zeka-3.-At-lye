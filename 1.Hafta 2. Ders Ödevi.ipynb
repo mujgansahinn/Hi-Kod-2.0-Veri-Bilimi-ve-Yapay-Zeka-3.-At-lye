{
 "cells": [
  {
   "cell_type": "code",
   "execution_count": 4,
   "id": "37062a3e-4a66-42ee-9fc6-c44690dd60cc",
   "metadata": {},
   "outputs": [
    {
     "name": "stdin",
     "output_type": "stream",
     "text": [
      "Maaşınız:  1000\n"
     ]
    },
    {
     "name": "stdout",
     "output_type": "stream",
     "text": [
      "Vergi kesintisi sonucu yeni maaş değeri:  950.0\n"
     ]
    }
   ],
   "source": [
    "maas= int(input(\"Maaşınız: \"))\n",
    "if maas<= 10000:\n",
    "          maas= maas-(maas*5/100)\n",
    "elif maas<= 25000:\n",
    "          maas= maas-(maas*10/100)\n",
    "elif maas<= 45000:\n",
    "          maas= maas-(maas*25/100)\n",
    "else:\n",
    "          maas= maas-(maas*30/100)\n",
    "print(\"Vergi kesintisi sonucu yeni maaş değeri: \",maas)"
   ]
  },
  {
   "cell_type": "code",
   "execution_count": 8,
   "id": "715b19e6-30c7-4b80-9af7-a56d008f45f4",
   "metadata": {},
   "outputs": [
    {
     "name": "stdin",
     "output_type": "stream",
     "text": [
      "Kullanıcı adı:  Müjgan\n",
      "Şifre:  123456\n"
     ]
    },
    {
     "name": "stdout",
     "output_type": "stream",
     "text": [
      "Hesabınız oluşturuldu.\n"
     ]
    }
   ],
   "source": [
    "kullanıcı_adi= input(\"Kullanıcı adı: \")\n",
    "sifre= input(\"Şifre: \")\n",
    "uzunluk= len(sifre)\n",
    "if uzunluk == 6:\n",
    "    print(\"Hesabınız oluşturuldu.\")\n",
    "if uzunluk != 6:\n",
    "    print(\"En az altı haneli şifre oluşturunuz!\")"
   ]
  },
  {
   "cell_type": "code",
   "execution_count": 6,
   "id": "3058f797-f836-46a5-9bc3-49b3ac1d7e5e",
   "metadata": {},
   "outputs": [
    {
     "name": "stdin",
     "output_type": "stream",
     "text": [
      "En az 5, en çok 10 haneden oluşan şifrenizi giriniz :  76854\n"
     ]
    },
    {
     "name": "stdout",
     "output_type": "stream",
     "text": [
      "Hesabınız oluşturuldu.\n"
     ]
    }
   ],
   "source": [
    "sifre=input(\"En az 5, en çok 10 haneden oluşan şifrenizi giriniz : \")\n",
    "uzunluk = len(sifre)\n",
    "if 5 <= uzunluk <= 10:\n",
    "   print(\"Hesabınız oluşturuldu.\")\n",
    "else:\n",
    "    bre\n",
    "   print(\"Lütfen girdiğiniz şifre 5 haneden az 10 haneden fazla olmasın!\")\n",
    "   "
   ]
  },
  {
   "cell_type": "code",
   "execution_count": 1,
   "id": "a792768d-ecc6-4893-b648-bba562e5263f",
   "metadata": {},
   "outputs": [
    {
     "ename": "SyntaxError",
     "evalue": "incomplete input (1830471536.py, line 12)",
     "output_type": "error",
     "traceback": [
      "\u001b[1;36m  Cell \u001b[1;32mIn[1], line 12\u001b[1;36m\u001b[0m\n\u001b[1;33m    if hak > 0:\u001b[0m\n\u001b[1;37m               ^\u001b[0m\n\u001b[1;31mSyntaxError\u001b[0m\u001b[1;31m:\u001b[0m incomplete input\n"
     ]
    }
   ],
   "source": [
    "kullanıcı_adi= input(\"Kullanıcı adı: \")\n",
    "sifre= input(\"Şifre: \")\n",
    "hak=3\n",
    "ad=\"Müjgan\"\n",
    "kod=\"1234567\"\n",
    "while hak > 3:\n",
    "  if kullanıcı_adi == ad and sifre == kod:\n",
    "    print(\"Giriş yapıldı.\")\n",
    "  else:\n",
    "    print(f\"Yanlış şifre girildi.Kalan giriş hakkı:{hak}\")\n",
    "    hak-= 1\n",
    "    if hak > 0:"
   ]
  }
 ],
 "metadata": {
  "kernelspec": {
   "display_name": "Python 3 (ipykernel)",
   "language": "python",
   "name": "python3"
  },
  "language_info": {
   "codemirror_mode": {
    "name": "ipython",
    "version": 3
   },
   "file_extension": ".py",
   "mimetype": "text/x-python",
   "name": "python",
   "nbconvert_exporter": "python",
   "pygments_lexer": "ipython3",
   "version": "3.11.7"
  }
 },
 "nbformat": 4,
 "nbformat_minor": 5
}
