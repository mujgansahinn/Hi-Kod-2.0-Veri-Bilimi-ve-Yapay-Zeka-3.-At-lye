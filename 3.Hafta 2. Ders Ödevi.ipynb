{
 "cells": [
  {
   "cell_type": "code",
   "execution_count": 1,
   "id": "9163af7a-9096-4be5-adb1-c6f02f158c80",
   "metadata": {},
   "outputs": [],
   "source": [
    "import numpy as np"
   ]
  },
  {
   "cell_type": "code",
   "execution_count": 4,
   "id": "5850250d-f198-449d-b64f-f53a0351999a",
   "metadata": {},
   "outputs": [
    {
     "data": {
      "text/plain": [
       "array([2, 4, 6, 8])"
      ]
     },
     "execution_count": 4,
     "metadata": {},
     "output_type": "execute_result"
    }
   ],
   "source": [
    "a=np.array([2,4,6,8],dtype=\"int\")\n",
    "a"
   ]
  },
  {
   "cell_type": "code",
   "execution_count": 5,
   "id": "b850f78a-0722-43f1-a8e9-0ffaf44d17f7",
   "metadata": {},
   "outputs": [
    {
     "data": {
      "text/plain": [
       "4"
      ]
     },
     "execution_count": 5,
     "metadata": {},
     "output_type": "execute_result"
    }
   ],
   "source": [
    "a.size"
   ]
  },
  {
   "cell_type": "code",
   "execution_count": 6,
   "id": "d2cc2ef1-7e53-4691-888b-2830c667c0a1",
   "metadata": {},
   "outputs": [
    {
     "data": {
      "text/plain": [
       "(4,)"
      ]
     },
     "execution_count": 6,
     "metadata": {},
     "output_type": "execute_result"
    }
   ],
   "source": [
    "np.shape(a)"
   ]
  },
  {
   "cell_type": "code",
   "execution_count": 9,
   "id": "41d793cf-970f-44c5-825a-2904fe3ea387",
   "metadata": {},
   "outputs": [
    {
     "name": "stdout",
     "output_type": "stream",
     "text": [
      "[[1 3 5]\n",
      " [2 4 6]\n",
      " [3 6 9]]\n",
      "[[[3 2 1]\n",
      "  [6 5 4]\n",
      "  [9 8 7]]]\n"
     ]
    }
   ],
   "source": [
    "b=np.array([[1,3,5],\n",
    "            [2,4,6],\n",
    "            [3,6,9]])\n",
    "c=np.array([[[3,2,1],\n",
    "             [6,5,4],\n",
    "             [9,8,7]]])\n",
    "print(b)\n",
    "print(c)"
   ]
  },
  {
   "cell_type": "code",
   "execution_count": 15,
   "id": "9f53d26d-296e-4128-a1a7-0a96afc864f9",
   "metadata": {},
   "outputs": [
    {
     "name": "stdout",
     "output_type": "stream",
     "text": [
      "(3, 3)\n",
      "9\n"
     ]
    }
   ],
   "source": [
    "print(np.shape(b))\n",
    "print(b.size)"
   ]
  },
  {
   "cell_type": "code",
   "execution_count": 16,
   "id": "98523486-96b0-49e1-85fb-f272ca14ecda",
   "metadata": {},
   "outputs": [
    {
     "name": "stdout",
     "output_type": "stream",
     "text": [
      "(1, 3, 3)\n",
      "9\n"
     ]
    }
   ],
   "source": [
    "print(np.shape(c))\n",
    "print(c.size)"
   ]
  },
  {
   "cell_type": "code",
   "execution_count": 17,
   "id": "1044e181-2111-43ec-86f9-9433721b1100",
   "metadata": {},
   "outputs": [
    {
     "data": {
      "text/plain": [
       "array([[2, 4, 6]])"
      ]
     },
     "execution_count": 17,
     "metadata": {},
     "output_type": "execute_result"
    }
   ],
   "source": [
    "b[1:2]"
   ]
  },
  {
   "cell_type": "code",
   "execution_count": 19,
   "id": "026e3bcc-fcbb-4b33-a8b2-54bb6d345cb0",
   "metadata": {},
   "outputs": [
    {
     "data": {
      "text/plain": [
       "array([[[3, 2, 1],\n",
       "        [6, 5, 4],\n",
       "        [9, 8, 7]]])"
      ]
     },
     "execution_count": 19,
     "metadata": {},
     "output_type": "execute_result"
    }
   ],
   "source": [
    "c[0:2:1]"
   ]
  },
  {
   "cell_type": "code",
   "execution_count": 23,
   "id": "8e88b108-ab31-465a-b4ab-22b8cf70a5c1",
   "metadata": {},
   "outputs": [
    {
     "data": {
      "text/plain": [
       "array([[3, 2],\n",
       "       [6, 5],\n",
       "       [9, 8]])"
      ]
     },
     "execution_count": 23,
     "metadata": {},
     "output_type": "execute_result"
    }
   ],
   "source": [
    "c[0,:,0:2]"
   ]
  },
  {
   "cell_type": "code",
   "execution_count": 24,
   "id": "77ddec39-3a67-43fe-8dfc-aeaa5320e000",
   "metadata": {},
   "outputs": [
    {
     "data": {
      "text/plain": [
       "array([2, 4])"
      ]
     },
     "execution_count": 24,
     "metadata": {},
     "output_type": "execute_result"
    }
   ],
   "source": [
    "b[1,:2]"
   ]
  },
  {
   "cell_type": "code",
   "execution_count": 31,
   "id": "4802a385-5cf5-4113-a6df-9fd89f731bf9",
   "metadata": {},
   "outputs": [],
   "source": [
    "a1=np.array([1,2,3])\n",
    "a2=np.array([[4,5],[6,7]])\n",
    "a3=np.array([[[8,9],[2,3],[1,2]]])"
   ]
  },
  {
   "cell_type": "code",
   "execution_count": 33,
   "id": "83ff2f71-6e40-4bc7-b08b-29fc82250259",
   "metadata": {},
   "outputs": [
    {
     "data": {
      "text/plain": [
       "2"
      ]
     },
     "execution_count": 33,
     "metadata": {},
     "output_type": "execute_result"
    }
   ],
   "source": [
    "a1[1]"
   ]
  },
  {
   "cell_type": "code",
   "execution_count": 34,
   "id": "113996a6-a968-49c9-8903-f8abc6d177c6",
   "metadata": {},
   "outputs": [
    {
     "data": {
      "text/plain": [
       "array([6, 7])"
      ]
     },
     "execution_count": 34,
     "metadata": {},
     "output_type": "execute_result"
    }
   ],
   "source": [
    "a2[1,:]"
   ]
  },
  {
   "cell_type": "code",
   "execution_count": 35,
   "id": "6ea5f172-2a96-4990-b33f-c6466b8307a1",
   "metadata": {},
   "outputs": [
    {
     "data": {
      "text/plain": [
       "array([2, 3])"
      ]
     },
     "execution_count": 35,
     "metadata": {},
     "output_type": "execute_result"
    }
   ],
   "source": [
    "a3[0,1,:]"
   ]
  },
  {
   "cell_type": "code",
   "execution_count": 39,
   "id": "46b3e462-35be-4b25-bc61-9b2d993c0335",
   "metadata": {},
   "outputs": [
    {
     "data": {
      "text/plain": [
       "array([[0., 0.],\n",
       "       [0., 0.]])"
      ]
     },
     "execution_count": 39,
     "metadata": {},
     "output_type": "execute_result"
    }
   ],
   "source": [
    "sıfır=np.zeros((2,2))\n",
    "sıfır"
   ]
  },
  {
   "cell_type": "code",
   "execution_count": 40,
   "id": "af992002-48ba-43b0-9d42-d1e383b3a8a6",
   "metadata": {},
   "outputs": [
    {
     "data": {
      "text/plain": [
       "array([[1., 1.],\n",
       "       [1., 1.]])"
      ]
     },
     "execution_count": 40,
     "metadata": {},
     "output_type": "execute_result"
    }
   ],
   "source": [
    "bir=np.ones((2,2))\n",
    "bir"
   ]
  },
  {
   "cell_type": "code",
   "execution_count": 41,
   "id": "8668d816-b30d-4f97-a52f-328e05a0e19d",
   "metadata": {},
   "outputs": [
    {
     "data": {
      "text/plain": [
       "array([[0., 0.],\n",
       "       [0., 0.],\n",
       "       [1., 1.],\n",
       "       [1., 1.]])"
      ]
     },
     "execution_count": 41,
     "metadata": {},
     "output_type": "execute_result"
    }
   ],
   "source": [
    "np.concatenate([sıfır,bir])"
   ]
  },
  {
   "cell_type": "code",
   "execution_count": null,
   "id": "797d1a26-797a-4b63-b9c8-7f27c4b83745",
   "metadata": {},
   "outputs": [],
   "source": []
  }
 ],
 "metadata": {
  "kernelspec": {
   "display_name": "Python 3 (ipykernel)",
   "language": "python",
   "name": "python3"
  },
  "language_info": {
   "codemirror_mode": {
    "name": "ipython",
    "version": 3
   },
   "file_extension": ".py",
   "mimetype": "text/x-python",
   "name": "python",
   "nbconvert_exporter": "python",
   "pygments_lexer": "ipython3",
   "version": "3.11.7"
  }
 },
 "nbformat": 4,
 "nbformat_minor": 5
}
