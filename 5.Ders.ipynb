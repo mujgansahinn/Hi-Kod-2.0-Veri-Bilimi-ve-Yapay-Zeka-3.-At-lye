{
 "cells": [
  {
   "cell_type": "code",
   "execution_count": 1,
   "id": "e0932c2f-6c5c-4eb2-a89c-87df1da1b08d",
   "metadata": {},
   "outputs": [
    {
     "data": {
      "text/plain": [
       "('Merhaba', 3, 2.4)"
      ]
     },
     "execution_count": 1,
     "metadata": {},
     "output_type": "execute_result"
    }
   ],
   "source": [
    "t=(\"Merhaba\",3,2.4)\n",
    "t"
   ]
  },
  {
   "cell_type": "code",
   "execution_count": 2,
   "id": "fde31ff6-e8c1-4499-a30f-327479e418a0",
   "metadata": {},
   "outputs": [
    {
     "data": {
      "text/plain": [
       "tuple"
      ]
     },
     "execution_count": 2,
     "metadata": {},
     "output_type": "execute_result"
    }
   ],
   "source": [
    "type(t)"
   ]
  },
  {
   "cell_type": "code",
   "execution_count": 3,
   "id": "711316d5-40dd-41bf-887f-4d9082aedb71",
   "metadata": {},
   "outputs": [
    {
     "data": {
      "text/plain": [
       "('Veri', 'Bilimi', 8)"
      ]
     },
     "execution_count": 3,
     "metadata": {},
     "output_type": "execute_result"
    }
   ],
   "source": [
    "t2=\"Veri\", \"Bilimi\",8\n",
    "t2"
   ]
  },
  {
   "cell_type": "code",
   "execution_count": 4,
   "id": "39560c25-42d2-43bd-ad60-eec750196c8b",
   "metadata": {},
   "outputs": [
    {
     "data": {
      "text/plain": [
       "tuple"
      ]
     },
     "execution_count": 4,
     "metadata": {},
     "output_type": "execute_result"
    }
   ],
   "source": [
    "type(t2)"
   ]
  },
  {
   "cell_type": "code",
   "execution_count": 5,
   "id": "fa6c3472-efd6-4bbd-ad35-f144791257fe",
   "metadata": {},
   "outputs": [
    {
     "data": {
      "text/plain": [
       "('armut', 'muz', 'ayva', 'portakal', 'armut', 'mandalina')"
      ]
     },
     "execution_count": 5,
     "metadata": {},
     "output_type": "execute_result"
    }
   ],
   "source": [
    "meyveler=(\"armut\",\"muz\",\"ayva\",\"portakal\",\"armut\",\"mandalina\")\n",
    "meyveler"
   ]
  },
  {
   "cell_type": "code",
   "execution_count": 6,
   "id": "03b2ab15-9094-4098-b217-a2a2a6e09e78",
   "metadata": {},
   "outputs": [
    {
     "data": {
      "text/plain": [
       "'muz'"
      ]
     },
     "execution_count": 6,
     "metadata": {},
     "output_type": "execute_result"
    }
   ],
   "source": [
    "meyveler[1]"
   ]
  },
  {
   "cell_type": "code",
   "execution_count": 7,
   "id": "7b5f88c9-e311-4b23-98db-573600659c3b",
   "metadata": {},
   "outputs": [
    {
     "data": {
      "text/plain": [
       "'mandalina'"
      ]
     },
     "execution_count": 7,
     "metadata": {},
     "output_type": "execute_result"
    }
   ],
   "source": [
    "meyveler[-1]"
   ]
  },
  {
   "cell_type": "code",
   "execution_count": 8,
   "id": "0a58e454-87f7-44ea-bc95-b4eba11f2c40",
   "metadata": {},
   "outputs": [
    {
     "data": {
      "text/plain": [
       "('armut', 'muz', 'ayva')"
      ]
     },
     "execution_count": 8,
     "metadata": {},
     "output_type": "execute_result"
    }
   ],
   "source": [
    "meyveler[:3]"
   ]
  },
  {
   "cell_type": "code",
   "execution_count": 9,
   "id": "166567ad-3824-46b0-a6c9-48a7d667af6d",
   "metadata": {},
   "outputs": [
    {
     "data": {
      "text/plain": [
       "('portakal', 'armut', 'mandalina')"
      ]
     },
     "execution_count": 9,
     "metadata": {},
     "output_type": "execute_result"
    }
   ],
   "source": [
    "meyveler[3:]"
   ]
  },
  {
   "cell_type": "code",
   "execution_count": 10,
   "id": "ee3ccbfa-c1dc-4454-a44a-6795148e6923",
   "metadata": {},
   "outputs": [
    {
     "data": {
      "text/plain": [
       "('ayva', 'portakal', 'armut')"
      ]
     },
     "execution_count": 10,
     "metadata": {},
     "output_type": "execute_result"
    }
   ],
   "source": [
    "meyveler[2:5]"
   ]
  },
  {
   "cell_type": "code",
   "execution_count": 12,
   "id": "3a157a55-c86a-4138-a2d1-6fe96a5aab59",
   "metadata": {},
   "outputs": [
    {
     "data": {
      "text/plain": [
       "('ayva', 'portakal', 'armut')"
      ]
     },
     "execution_count": 12,
     "metadata": {},
     "output_type": "execute_result"
    }
   ],
   "source": [
    "meyveler[-4:-1]"
   ]
  },
  {
   "cell_type": "code",
   "execution_count": 13,
   "id": "f3cb58a3-653a-45f4-abc9-3ee36557af78",
   "metadata": {},
   "outputs": [
    {
     "data": {
      "text/plain": [
       "('armut', 'muz', 'ayva', 'portakal', 'armut', 'mandalina')"
      ]
     },
     "execution_count": 13,
     "metadata": {},
     "output_type": "execute_result"
    }
   ],
   "source": [
    "meyveler"
   ]
  },
  {
   "cell_type": "code",
   "execution_count": 14,
   "id": "69ad831d-9bce-45f3-9b30-215b7b158dcb",
   "metadata": {},
   "outputs": [
    {
     "ename": "TypeError",
     "evalue": "'tuple' object does not support item assignment",
     "output_type": "error",
     "traceback": [
      "\u001b[1;31m---------------------------------------------------------------------------\u001b[0m",
      "\u001b[1;31mTypeError\u001b[0m                                 Traceback (most recent call last)",
      "Cell \u001b[1;32mIn[14], line 1\u001b[0m\n\u001b[1;32m----> 1\u001b[0m meyveler[\u001b[38;5;241m1\u001b[39m]\u001b[38;5;241m=\u001b[39m\u001b[38;5;124m\"\u001b[39m\u001b[38;5;124melma\u001b[39m\u001b[38;5;124m\"\u001b[39m\n\u001b[0;32m      2\u001b[0m meyveler\n",
      "\u001b[1;31mTypeError\u001b[0m: 'tuple' object does not support item assignment"
     ]
    }
   ],
   "source": [
    "meyveler[1]=\"elma\"\n",
    "meyveler"
   ]
  },
  {
   "cell_type": "code",
   "execution_count": 15,
   "id": "68b4d6a7-854c-4da5-a2ea-9bd1f0aa655f",
   "metadata": {},
   "outputs": [
    {
     "data": {
      "text/plain": [
       "('armut', 'muz', 'ayva', 'portakal', 'armut', 'mandalina', 'elma')"
      ]
     },
     "execution_count": 15,
     "metadata": {},
     "output_type": "execute_result"
    }
   ],
   "source": [
    "meyveler=(\"armut\",\"muz\",\"ayva\",\"portakal\",\"armut\",\"mandalina\")\n",
    "meyve=(\"elma\",)\n",
    "meyveler+=meyve\n",
    "meyveler"
   ]
  },
  {
   "cell_type": "code",
   "execution_count": 16,
   "id": "c349dcd4-1aaf-493b-9332-2d141245b431",
   "metadata": {},
   "outputs": [
    {
     "name": "stdout",
     "output_type": "stream",
     "text": [
      "<class 'str'>\n",
      "<class 'tuple'>\n"
     ]
    }
   ],
   "source": [
    "meyve1=(\"elma\")\n",
    "meyve2=(\"elma\",)\n",
    "print(type(meyve1))\n",
    "print(type(meyve2))"
   ]
  },
  {
   "cell_type": "code",
   "execution_count": 17,
   "id": "4f280887-c24a-45e3-9fb0-107e7ef80798",
   "metadata": {},
   "outputs": [
    {
     "name": "stdout",
     "output_type": "stream",
     "text": [
      "armut\n",
      "muz\n",
      "ayva\n",
      "portakal\n",
      "armut\n",
      "mandalina\n"
     ]
    }
   ],
   "source": [
    "meyveler = (\"armut\",\"muz\",\"ayva\",\"portakal\",\"armut\",\"mandalina\")\n",
    "for i in meyveler:\n",
    "    print(i)"
   ]
  },
  {
   "cell_type": "code",
   "execution_count": 18,
   "id": "eab87cfc-c345-4ceb-8736-2a8e6ed3c290",
   "metadata": {},
   "outputs": [
    {
     "name": "stdout",
     "output_type": "stream",
     "text": [
      "armut\n",
      "muz\n",
      "ayva\n",
      "portakal\n",
      "armut\n",
      "mandalina\n"
     ]
    }
   ],
   "source": [
    "meyveler = (\"armut\",\"muz\",\"ayva\",\"portakal\",\"armut\",\"mandalina\")\n",
    "for i in range(len(meyveler)):\n",
    "    print(meyveler[i])"
   ]
  },
  {
   "cell_type": "code",
   "execution_count": 19,
   "id": "d8be2225-947f-4901-8285-3bd33d2ab4ed",
   "metadata": {},
   "outputs": [
    {
     "name": "stdout",
     "output_type": "stream",
     "text": [
      "armut\n",
      "muz\n",
      "ayva\n",
      "portakal\n",
      "armut\n",
      "mandalina\n"
     ]
    }
   ],
   "source": [
    "meyveler = (\"armut\",\"muz\",\"ayva\",\"portakal\",\"armut\",\"mandalina\")\n",
    "i=0\n",
    "while i < len(meyveler):\n",
    "    print(meyveler[i])\n",
    "    i=i+1"
   ]
  },
  {
   "cell_type": "code",
   "execution_count": 20,
   "id": "83670162-f94c-40aa-aee7-acfaf59270de",
   "metadata": {},
   "outputs": [],
   "source": [
    "kume=set()"
   ]
  },
  {
   "cell_type": "code",
   "execution_count": 21,
   "id": "932ec60f-ae13-4170-bb1a-6863d03378eb",
   "metadata": {},
   "outputs": [
    {
     "data": {
      "text/plain": [
       "set"
      ]
     },
     "execution_count": 21,
     "metadata": {},
     "output_type": "execute_result"
    }
   ],
   "source": [
    "type(kume)"
   ]
  },
  {
   "cell_type": "code",
   "execution_count": 22,
   "id": "793459c6-bdbe-4d53-8a03-1042c8775740",
   "metadata": {},
   "outputs": [
    {
     "data": {
      "text/plain": [
       "{'Atolye', 'Python', 'Veri Bilimi'}"
      ]
     },
     "execution_count": 22,
     "metadata": {},
     "output_type": "execute_result"
    }
   ],
   "source": [
    "kume = {\"Python\",\"Veri Bilimi\",\"Atolye\"}\n",
    "kume"
   ]
  },
  {
   "cell_type": "code",
   "execution_count": 23,
   "id": "eb901536-30d1-4d86-9220-012c865d03d7",
   "metadata": {},
   "outputs": [
    {
     "data": {
      "text/plain": [
       "{9, 'ayva', 'elma'}"
      ]
     },
     "execution_count": 23,
     "metadata": {},
     "output_type": "execute_result"
    }
   ],
   "source": [
    "meyveler={\"elma\",\"ayva\",9}\n",
    "meyveler"
   ]
  },
  {
   "cell_type": "code",
   "execution_count": 24,
   "id": "cba11ae2-4bc3-4c3f-99ec-ffde946071bf",
   "metadata": {},
   "outputs": [
    {
     "data": {
      "text/plain": [
       "{' ', 'A', 'B', 'V', 'e', 'i', 'l', 'm', 'o', 'r', 's', 't', 'y'}"
      ]
     },
     "execution_count": 24,
     "metadata": {},
     "output_type": "execute_result"
    }
   ],
   "source": [
    "atolye = \"Veri Bilimi Atolyesi\"\n",
    "set(atolye)"
   ]
  },
  {
   "cell_type": "code",
   "execution_count": 25,
   "id": "82096127-78c9-4e9c-b23e-81a2450e3bdc",
   "metadata": {},
   "outputs": [
    {
     "data": {
      "text/plain": [
       "{5, 5.9, 'Merhaba', 'Python', True}"
      ]
     },
     "execution_count": 25,
     "metadata": {},
     "output_type": "execute_result"
    }
   ],
   "source": [
    "kume2={\"Python\",\"Merhaba\",5,5.9,\"Merhaba\",True}\n",
    "kume2"
   ]
  },
  {
   "cell_type": "code",
   "execution_count": 26,
   "id": "7bfb3b8e-1545-4eb0-8e97-70852c2c5f76",
   "metadata": {},
   "outputs": [
    {
     "ename": "TypeError",
     "evalue": "'set' object is not subscriptable",
     "output_type": "error",
     "traceback": [
      "\u001b[1;31m---------------------------------------------------------------------------\u001b[0m",
      "\u001b[1;31mTypeError\u001b[0m                                 Traceback (most recent call last)",
      "Cell \u001b[1;32mIn[26], line 1\u001b[0m\n\u001b[1;32m----> 1\u001b[0m kume2[\u001b[38;5;241m1\u001b[39m]\n",
      "\u001b[1;31mTypeError\u001b[0m: 'set' object is not subscriptable"
     ]
    }
   ],
   "source": [
    "kume2[1]"
   ]
  },
  {
   "cell_type": "code",
   "execution_count": 27,
   "id": "719435cd-549e-4bb9-996b-c14f37470c78",
   "metadata": {},
   "outputs": [
    {
     "data": {
      "text/plain": [
       "{9, 'Merhaba', 'Python', True}"
      ]
     },
     "execution_count": 27,
     "metadata": {},
     "output_type": "execute_result"
    }
   ],
   "source": [
    "kume={\"Merhaba\",9,True}\n",
    "kume.add(\"Python\")\n",
    "kume"
   ]
  },
  {
   "cell_type": "code",
   "execution_count": 28,
   "id": "cfa31e21-f6f8-4656-a584-02bb27fd021d",
   "metadata": {},
   "outputs": [
    {
     "data": {
      "text/plain": [
       "{9, 'Merhaba', 'Python', True}"
      ]
     },
     "execution_count": 28,
     "metadata": {},
     "output_type": "execute_result"
    }
   ],
   "source": [
    "kume.add(\"Merhaba\")\n",
    "kume"
   ]
  },
  {
   "cell_type": "code",
   "execution_count": 29,
   "id": "9611c026-0b6b-4b8d-af7a-dd57e93cf5a5",
   "metadata": {},
   "outputs": [
    {
     "data": {
      "text/plain": [
       "{True, 4.7}"
      ]
     },
     "execution_count": 29,
     "metadata": {},
     "output_type": "execute_result"
    }
   ],
   "source": [
    "k1={3,8,6.7,\"Merhaba\"}\n",
    "k2={\"Merhaba\",8,True,4.7}\n",
    "k2.difference(k1)"
   ]
  },
  {
   "cell_type": "code",
   "execution_count": 30,
   "id": "452f954e-1ea5-4347-93aa-3c4ed40b52ac",
   "metadata": {},
   "outputs": [
    {
     "data": {
      "text/plain": [
       "{3, 6.7}"
      ]
     },
     "execution_count": 30,
     "metadata": {},
     "output_type": "execute_result"
    }
   ],
   "source": [
    "k1.difference(k2)"
   ]
  },
  {
   "cell_type": "code",
   "execution_count": 31,
   "id": "ee159281-8fdc-4f04-a2d9-0a5bc2e1936c",
   "metadata": {},
   "outputs": [
    {
     "data": {
      "text/plain": [
       "{5, 5.9, 'Merhaba', 'Python', True}"
      ]
     },
     "execution_count": 31,
     "metadata": {},
     "output_type": "execute_result"
    }
   ],
   "source": [
    "kume2"
   ]
  },
  {
   "cell_type": "code",
   "execution_count": 32,
   "id": "6ca2555e-181e-48c0-93e1-f58732c66db1",
   "metadata": {},
   "outputs": [
    {
     "data": {
      "text/plain": [
       "{5, 5.9, 'Merhaba', True}"
      ]
     },
     "execution_count": 32,
     "metadata": {},
     "output_type": "execute_result"
    }
   ],
   "source": [
    "kume2.discard(\"Python\")\n",
    "kume2"
   ]
  },
  {
   "cell_type": "code",
   "execution_count": 33,
   "id": "6351fce7-9bfc-4114-842b-78d6f72614bf",
   "metadata": {},
   "outputs": [
    {
     "data": {
      "text/plain": [
       "{5, 5.9, 'Merhaba'}"
      ]
     },
     "execution_count": 33,
     "metadata": {},
     "output_type": "execute_result"
    }
   ],
   "source": [
    "kume2.remove(True)\n",
    "kume2"
   ]
  },
  {
   "cell_type": "code",
   "execution_count": 34,
   "id": "e3b500f7-85cd-450b-b12d-3a8742e88dd0",
   "metadata": {},
   "outputs": [
    {
     "name": "stdout",
     "output_type": "stream",
     "text": [
      "{8, 3, 'Merhaba', 6.7}\n",
      "{8, True, 'Merhaba', 4.7}\n"
     ]
    }
   ],
   "source": [
    "print(k1)\n",
    "print(k2)"
   ]
  },
  {
   "cell_type": "code",
   "execution_count": 35,
   "id": "c3454c60-6b82-47d8-94b4-6180246bfdc3",
   "metadata": {},
   "outputs": [
    {
     "data": {
      "text/plain": [
       "{8, 'Merhaba'}"
      ]
     },
     "execution_count": 35,
     "metadata": {},
     "output_type": "execute_result"
    }
   ],
   "source": [
    "k1.intersection(k2)"
   ]
  },
  {
   "cell_type": "code",
   "execution_count": 36,
   "id": "224f00b0-651f-447b-a854-2b0816175ec9",
   "metadata": {},
   "outputs": [
    {
     "data": {
      "text/plain": [
       "{3, 4.7, 6.7, 8, 'Merhaba', True}"
      ]
     },
     "execution_count": 36,
     "metadata": {},
     "output_type": "execute_result"
    }
   ],
   "source": [
    "k1.union(k2)"
   ]
  },
  {
   "cell_type": "code",
   "execution_count": 37,
   "id": "dbbf48ca-1f62-4625-a42c-cf38f67a49fc",
   "metadata": {},
   "outputs": [
    {
     "data": {
      "text/plain": [
       "{'book': 'kitap'}"
      ]
     },
     "execution_count": 37,
     "metadata": {},
     "output_type": "execute_result"
    }
   ],
   "source": [
    "sozluk={\"book\":\"kitap\"}\n",
    "sozluk"
   ]
  },
  {
   "cell_type": "code",
   "execution_count": 38,
   "id": "3cadf06b-f821-473f-b0bd-112dca11bc3e",
   "metadata": {},
   "outputs": [
    {
     "data": {
      "text/plain": [
       "1"
      ]
     },
     "execution_count": 38,
     "metadata": {},
     "output_type": "execute_result"
    }
   ],
   "source": [
    "len(sozluk)"
   ]
  },
  {
   "cell_type": "code",
   "execution_count": 5,
   "id": "dcd03d85-daa7-41c5-a5fb-19e9c4d7592c",
   "metadata": {},
   "outputs": [
    {
     "data": {
      "text/plain": [
       "{'book': 'kitap', 'pencil': 'kalem', 'table': 'masa'}"
      ]
     },
     "execution_count": 5,
     "metadata": {},
     "output_type": "execute_result"
    }
   ],
   "source": [
    "sozluk={\"book\":\"kitap\",\"pencil\":\"kalem\",\"table\":\"masa\"}\n",
    "sozluk"
   ]
  },
  {
   "cell_type": "code",
   "execution_count": 41,
   "id": "8a54e0f7-50d6-48d9-b871-2bc778364cd2",
   "metadata": {},
   "outputs": [
    {
     "data": {
      "text/plain": [
       "3"
      ]
     },
     "execution_count": 41,
     "metadata": {},
     "output_type": "execute_result"
    }
   ],
   "source": [
    "len(sozluk)"
   ]
  },
  {
   "cell_type": "code",
   "execution_count": 43,
   "id": "6c52a598-bc96-442d-8705-884b29ecd40b",
   "metadata": {},
   "outputs": [
    {
     "data": {
      "text/plain": [
       "{'book': 'kitap', 'pencil': 'kalem', 'table': 'masa'}"
      ]
     },
     "execution_count": 43,
     "metadata": {},
     "output_type": "execute_result"
    }
   ],
   "source": [
    "sozluk={\"book\":\"kitap\",\n",
    "        \"pencil\":\"kalem\",\n",
    "        \"table\":\"masa\"}\n",
    "sozluk"
   ]
  },
  {
   "cell_type": "code",
   "execution_count": 44,
   "id": "c35e316b-5bd1-445c-81cd-eccd5dd5f501",
   "metadata": {},
   "outputs": [
    {
     "data": {
      "text/plain": [
       "'kalem'"
      ]
     },
     "execution_count": 44,
     "metadata": {},
     "output_type": "execute_result"
    }
   ],
   "source": [
    "sozluk[\"pencil\"]"
   ]
  },
  {
   "cell_type": "code",
   "execution_count": 45,
   "id": "1bd1c94d-b338-436b-9569-863203979963",
   "metadata": {},
   "outputs": [
    {
     "name": "stdout",
     "output_type": "stream",
     "text": [
      "kitap\n",
      "kalem\n",
      "masa\n"
     ]
    }
   ],
   "source": [
    "print(sozluk[\"book\"])\n",
    "print(sozluk[\"pencil\"])\n",
    "print(sozluk[\"table\"])"
   ]
  },
  {
   "cell_type": "code",
   "execution_count": 6,
   "id": "7e1f3603-70f0-437a-ab70-012b8b9d2d70",
   "metadata": {},
   "outputs": [
    {
     "name": "stdout",
     "output_type": "stream",
     "text": [
      "kitap\n",
      "kalem\n",
      "masa\n"
     ]
    }
   ],
   "source": [
    "for kelime in sozluk:\n",
    "    print(sozluk[kelime])"
   ]
  },
  {
   "cell_type": "code",
   "execution_count": 4,
   "id": "7d9d979f-036b-47eb-a1b8-879b163771c7",
   "metadata": {},
   "outputs": [
    {
     "name": "stdin",
     "output_type": "stream",
     "text": [
      "Müşteri numarasını öğrenmek istediğiniz kişinin ismini giriniz:  müjgan şahin\n"
     ]
    },
    {
     "name": "stdout",
     "output_type": "stream",
     "text": [
      "müjgan şahin isimli kişinin müşteri numarası: 472348\n",
      "müjgan şahinisimli kişinin müşteri numarası: 472348\n"
     ]
    }
   ],
   "source": [
    "musteri_bilgileri= {\"müjgan şahin\":\"472348\",\n",
    "                    \"gülcan daşdiken\":\"897659\",\n",
    "                    \"ıraz şahin\":\"768096\",\n",
    "                    \"fedai şahin\":\"256785\"}\n",
    "isim=input(\"Müşteri numarasını öğrenmek istediğiniz kişinin ismini giriniz: \")\n",
    "print(\"{} isimli kişinin müşteri numarası: {}\".format(isim,musteri_bilgileri[isim]))\n",
    "print(isim + \"isimli kişinin müşteri numarası: \" + musteri_bilgileri[isim])"
   ]
  },
  {
   "cell_type": "code",
   "execution_count": 7,
   "id": "71ba1369-41fa-4fe4-bbec-15838d947648",
   "metadata": {},
   "outputs": [
    {
     "name": "stdin",
     "output_type": "stream",
     "text": [
      "Müşteri numarasını öğrenmek istediğiniz kişinin ismini giriniz:  ali \n"
     ]
    },
    {
     "name": "stdout",
     "output_type": "stream",
     "text": [
      "Girilen isimde bir müşteri bulunmamaktadır.\n"
     ]
    }
   ],
   "source": [
    "musteri_bilgileri= {\"müjgan şahin\":\"472348\",\n",
    "                    \"gülcan daşdiken\":\"897659\",\n",
    "                    \"ıraz şahin\":\"768096\",\n",
    "                    \"fedai şahin\":\"256785\"}\n",
    "isim=input(\"Müşteri numarasını öğrenmek istediğiniz kişinin ismini giriniz: \")\n",
    "if isim in musteri_bilgileri:\n",
    "    print(\"{} isimli kişinin müşteri numarası: {}\".format(isim,musteri_bilgileri[isim]))\n",
    "else:\n",
    "    print(\"Girilen isimde bir müşteri bulunmamaktadır.\")"
   ]
  },
  {
   "cell_type": "code",
   "execution_count": 8,
   "id": "f58bb975-bb19-41b5-873e-fae89c7212d3",
   "metadata": {},
   "outputs": [
    {
     "data": {
      "text/plain": [
       "34"
      ]
     },
     "execution_count": 8,
     "metadata": {},
     "output_type": "execute_result"
    }
   ],
   "source": [
    "plaka = {\"Samsun\":55,\n",
    "         \"İstanbul\":34,\n",
    "         \"İzmir\":35}\n",
    "plaka[\"İstanbul\"]"
   ]
  },
  {
   "cell_type": "code",
   "execution_count": 10,
   "id": "1a7044c8-6a43-4c2d-909f-4cd1c0ade8b1",
   "metadata": {},
   "outputs": [
    {
     "data": {
      "text/plain": [
       "['479621', 'İstanbul', 'Öğretmen']"
      ]
     },
     "execution_count": 10,
     "metadata": {},
     "output_type": "execute_result"
    }
   ],
   "source": [
    "musteri_bilgileri = {\"ayşe yılmaz\":[\"479621\",\"İstanbul\",\"Öğretmen\"],\n",
    "                    \"mine sönmez\":[\"851743\",\"Ankara\",\"Hemşire\"],\n",
    "                    \"emir alpay\":[\"743266\",\"Bursa\",\"Mühendis\"],\n",
    "                    \"sevim kara\":[\"154798\",\"İzmir\",\"Öğrenci\"]}\n",
    "musteri_bilgileri[\"ayşe yılmaz\"]\n"
   ]
  },
  {
   "cell_type": "code",
   "execution_count": 11,
   "id": "967b6bda-5fb6-43ae-9a30-211826e94f3d",
   "metadata": {},
   "outputs": [
    {
     "name": "stdin",
     "output_type": "stream",
     "text": [
      "Müşterinin ismini giriniz:  mine sönmez\n"
     ]
    },
    {
     "name": "stdout",
     "output_type": "stream",
     "text": [
      "Müşteri numarası: 851743\n",
      "Yaşadığı şehir: Ankara\n",
      "Yaşı: 24\n",
      "Meslek: Hemşire\n"
     ]
    }
   ],
   "source": [
    "musteri_bilgileri = {\"ayşe yılmaz\":[\"479621\",\"İstanbul\",36,\"Öğretmen\"],\n",
    "                    \"mine sönmez\":[\"851743\",\"Ankara\",24,\"Hemşire\"],\n",
    "                    \"emir alpay\":[\"743266\",\"Bursa\",27,\"Mühendis\"],\n",
    "                    \"sevim kara\":[\"154798\",\"İzmir\",21,\"Öğrenci\"]}\n",
    "\n",
    "isim = input(\"Müşterinin ismini giriniz: \")\n",
    "\n",
    "print(\"Müşteri numarası: \" + musteri_bilgileri[isim][0])\n",
    "print(\"Yaşadığı şehir: \" + musteri_bilgileri[isim][1])\n",
    "print(\"Yaşı: \" + str(musteri_bilgileri[isim][2]))\n",
    "print(\"Meslek: \" + musteri_bilgileri[isim][3])"
   ]
  },
  {
   "cell_type": "code",
   "execution_count": 12,
   "id": "fb597337-c852-471a-8d23-3ec077bb0761",
   "metadata": {},
   "outputs": [
    {
     "name": "stdin",
     "output_type": "stream",
     "text": [
      "Müşterinin ismini giriniz:  sevim kara\n"
     ]
    },
    {
     "name": "stdout",
     "output_type": "stream",
     "text": [
      "{'Müşteri numarası': '154798', 'Şehir': 'İzmir', 'Yaş': 21, 'Meslek': 'Öğrenci'}\n"
     ]
    }
   ],
   "source": [
    "musteri_bilgileri = {\"ayşe yılmaz\":{\"Müşteri numarası\":\"479621\",\n",
    "                                    \"Şehir\":\"İstanbul\",\n",
    "                                    \"Yaş\":36,\n",
    "                                    \"Meslek\":\"Öğretmen\"},\n",
    "                     \n",
    "                    \"mine sönmez\":{\"Müşteri numarası\":\"851743\",\n",
    "                                   \"Şehir\":\"Ankara\",\n",
    "                                   \"Yaş\":24,\n",
    "                                   \"Meslek\":\"Hemşire\"},\n",
    "                     \n",
    "                    \"emir alpay\":{\"Müşteri numarası\":\"743266\",\n",
    "                                  \"Şehir\":\"Bursa\",\n",
    "                                  \"Yaş\":27,\n",
    "                                  \"Meslek\":\"Mühendis\"},\n",
    "                     \n",
    "                    \"sevim kara\":{\"Müşteri numarası\":\"154798\",\n",
    "                                  \"Şehir\":\"İzmir\",\n",
    "                                  \"Yaş\":21,\n",
    "                                  \"Meslek\":\"Öğrenci\"}}\n",
    "\n",
    "isim = input(\"Müşterinin ismini giriniz: \")\n",
    "\n",
    "print(musteri_bilgileri[isim])"
   ]
  },
  {
   "cell_type": "code",
   "execution_count": 13,
   "id": "144b15fd-81db-4a52-977e-89707b8ab915",
   "metadata": {},
   "outputs": [
    {
     "data": {
      "text/plain": [
       "24"
      ]
     },
     "execution_count": 13,
     "metadata": {},
     "output_type": "execute_result"
    }
   ],
   "source": [
    "musteri_bilgileri[\"mine sönmez\"][\"Yaş\"]"
   ]
  },
  {
   "cell_type": "code",
   "execution_count": 14,
   "id": "7003c4ab-7ac0-488d-a940-5f7d7c0488f3",
   "metadata": {},
   "outputs": [
    {
     "name": "stdin",
     "output_type": "stream",
     "text": [
      "Müşterinin ismini giriniz:  emir alpay\n",
      "Kişi hakkında öğrenmek istediğiniz bilgi:  Meslek\n"
     ]
    },
    {
     "name": "stdout",
     "output_type": "stream",
     "text": [
      "Mühendis\n"
     ]
    }
   ],
   "source": [
    "musteri_bilgileri = {\"ayşe yılmaz\":{\"Müşteri numarası\":\"479621\",\n",
    "                                    \"Şehir\":\"İstanbul\",\n",
    "                                    \"Yaş\":36,\n",
    "                                    \"Meslek\":\"Öğretmen\"},\n",
    "                     \n",
    "                    \"mine sönmez\":{\"Müşteri numarası\":\"851743\",\n",
    "                                   \"Şehir\":\"Ankara\",\n",
    "                                   \"Yaş\":24,\n",
    "                                   \"Meslek\":\"Hemşire\"},\n",
    "                     \n",
    "                    \"emir alpay\":{\"Müşteri numarası\":\"743266\",\n",
    "                                  \"Şehir\":\"Bursa\",\n",
    "                                  \"Yaş\":27,\n",
    "                                  \"Meslek\":\"Mühendis\"},\n",
    "                     \n",
    "                    \"sevim kara\":{\"Müşteri numarası\":\"154798\",\n",
    "                                  \"Şehir\":\"İzmir\",\n",
    "                                  \"Yaş\":21,\n",
    "                                  \"Meslek\":\"Öğrenci\"}}\n",
    "\n",
    "isim = input(\"Müşterinin ismini giriniz: \")\n",
    "\n",
    "bilgi = input(\"Kişi hakkında öğrenmek istediğiniz bilgi: \")\n",
    "\n",
    "print(musteri_bilgileri[isim][bilgi])"
   ]
  },
  {
   "cell_type": "code",
   "execution_count": 15,
   "id": "4f343bfc-cdf3-461c-89c8-abbb4893d05c",
   "metadata": {},
   "outputs": [
    {
     "ename": "KeyError",
     "evalue": "0",
     "output_type": "error",
     "traceback": [
      "\u001b[1;31m---------------------------------------------------------------------------\u001b[0m",
      "\u001b[1;31mKeyError\u001b[0m                                  Traceback (most recent call last)",
      "Cell \u001b[1;32mIn[15], line 1\u001b[0m\n\u001b[1;32m----> 1\u001b[0m musteri_bilgileri[\u001b[38;5;241m0\u001b[39m]\n",
      "\u001b[1;31mKeyError\u001b[0m: 0"
     ]
    }
   ],
   "source": [
    "musteri_bilgileri[0]"
   ]
  },
  {
   "cell_type": "code",
   "execution_count": 16,
   "id": "3fa455ca-4019-40d3-aff8-dbb455d666c7",
   "metadata": {},
   "outputs": [
    {
     "data": {
      "text/plain": [
       "{'book': 'kitap', 'pencil': 'kalem', 'table': 'masa', 'glass': 'bardak'}"
      ]
     },
     "execution_count": 16,
     "metadata": {},
     "output_type": "execute_result"
    }
   ],
   "source": [
    "sozluk[\"glass\"]=\"bardak\"\n",
    "sozluk"
   ]
  },
  {
   "cell_type": "code",
   "execution_count": 17,
   "id": "4e38b4fd-8606-4a4f-a644-a40a6ab442ca",
   "metadata": {},
   "outputs": [],
   "source": [
    "sozluk[\"fork\"]=\"çatal\""
   ]
  },
  {
   "cell_type": "code",
   "execution_count": 18,
   "id": "10a9dcae-b3a1-4511-b6b6-29afbbf4fe1b",
   "metadata": {},
   "outputs": [
    {
     "data": {
      "text/plain": [
       "{'book': 'kitap',\n",
       " 'pencil': 'kalem',\n",
       " 'table': 'masa',\n",
       " 'glass': 'bardak',\n",
       " 'fork': 'çatal'}"
      ]
     },
     "execution_count": 18,
     "metadata": {},
     "output_type": "execute_result"
    }
   ],
   "source": [
    "sozluk"
   ]
  },
  {
   "cell_type": "code",
   "execution_count": 19,
   "id": "e3b815e6-df67-4005-b879-44daecb1e091",
   "metadata": {},
   "outputs": [
    {
     "data": {
      "text/plain": [
       "{'Samsun': 55, 'İstanbul': 34, 'İzmir': 35, 'Burdur': 15}"
      ]
     },
     "execution_count": 19,
     "metadata": {},
     "output_type": "execute_result"
    }
   ],
   "source": [
    "plaka[\"Burdur\"]=15\n",
    "plaka"
   ]
  },
  {
   "cell_type": "code",
   "execution_count": 20,
   "id": "2f883933-ae13-4988-bb16-b876f5778eab",
   "metadata": {},
   "outputs": [
    {
     "data": {
      "text/plain": [
       "{'Samsun': 55, 'İstanbul': 34, 'İzmir': 35, 'Burdur': 15, 'Denizli': 20}"
      ]
     },
     "execution_count": 20,
     "metadata": {},
     "output_type": "execute_result"
    }
   ],
   "source": [
    "plaka[\"Denizli\"]=20\n",
    "plaka"
   ]
  },
  {
   "cell_type": "code",
   "execution_count": 21,
   "id": "8e7e5d74-2198-42f8-bc17-9b095c270c0f",
   "metadata": {},
   "outputs": [],
   "source": [
    "yeni_sozluk={}"
   ]
  },
  {
   "cell_type": "code",
   "execution_count": 22,
   "id": "783234dc-5fd4-44d6-981d-a543a48fce8d",
   "metadata": {},
   "outputs": [
    {
     "data": {
      "text/plain": [
       "{'isim': 'Ahmet'}"
      ]
     },
     "execution_count": 22,
     "metadata": {},
     "output_type": "execute_result"
    }
   ],
   "source": [
    "yeni_sozluk[\"isim\"]=\"Ahmet\"\n",
    "yeni_sozluk"
   ]
  },
  {
   "cell_type": "code",
   "execution_count": 23,
   "id": "b074ba63-dfea-4687-a794-8d8a5035ec0f",
   "metadata": {},
   "outputs": [
    {
     "data": {
      "text/plain": [
       "{'isim': 'Ahmet', 45: [1, 3, 5, 7, 9, 15]}"
      ]
     },
     "execution_count": 23,
     "metadata": {},
     "output_type": "execute_result"
    }
   ],
   "source": [
    "yeni_sozluk[45]=[1,3,5,7,9,15]\n",
    "yeni_sozluk"
   ]
  },
  {
   "cell_type": "code",
   "execution_count": 24,
   "id": "66f498e8-e795-4bd6-bbe3-091acc91bdf8",
   "metadata": {},
   "outputs": [
    {
     "data": {
      "text/plain": [
       "{'isim': 'Ahmet', 45: [1, 3, 5, 7, 9, 15], (1, 2, 3): 'a,b,c'}"
      ]
     },
     "execution_count": 24,
     "metadata": {},
     "output_type": "execute_result"
    }
   ],
   "source": [
    "yeni_sozluk[(1,2,3)]=\"a,b,c\"\n",
    "yeni_sozluk"
   ]
  },
  {
   "cell_type": "code",
   "execution_count": 25,
   "id": "f4d52c39-8475-496b-a874-27513305e03e",
   "metadata": {},
   "outputs": [
    {
     "data": {
      "text/plain": [
       "{'ayşe yılmaz': {'Müşteri numarası': '479621',\n",
       "  'Şehir': 'İstanbul',\n",
       "  'Yaş': 36,\n",
       "  'Meslek': 'Öğretmen'},\n",
       " 'mine sönmez': {'Müşteri numarası': '851743',\n",
       "  'Şehir': 'Ankara',\n",
       "  'Yaş': 24,\n",
       "  'Meslek': 'Hemşire'},\n",
       " 'emir alpay': {'Müşteri numarası': '743266',\n",
       "  'Şehir': 'Bursa',\n",
       "  'Yaş': 27,\n",
       "  'Meslek': 'Mühendis'},\n",
       " 'sevim kara': {'Müşteri numarası': '154798',\n",
       "  'Şehir': 'İzmir',\n",
       "  'Yaş': 21,\n",
       "  'Meslek': 'Öğrenci'}}"
      ]
     },
     "execution_count": 25,
     "metadata": {},
     "output_type": "execute_result"
    }
   ],
   "source": [
    "musteri_bilgileri"
   ]
  },
  {
   "cell_type": "code",
   "execution_count": 26,
   "id": "0e4e6e5b-fd69-4ee6-b01f-c64d8fd079bb",
   "metadata": {},
   "outputs": [
    {
     "data": {
      "text/plain": [
       "{'ayşe yılmaz': {'Müşteri numarası': '479621',\n",
       "  'Şehir': 'İstanbul',\n",
       "  'Yaş': 36,\n",
       "  'Meslek': 'Öğretmen'},\n",
       " 'mine sönmez': {'Müşteri numarası': '851743',\n",
       "  'Şehir': 'Ankara',\n",
       "  'Yaş': 24,\n",
       "  'Meslek': 'Hemşire'},\n",
       " 'emir alpay': {'Müşteri numarası': '743266',\n",
       "  'Şehir': 'Bursa',\n",
       "  'Yaş': 45,\n",
       "  'Meslek': 'Mühendis'},\n",
       " 'sevim kara': {'Müşteri numarası': '154798',\n",
       "  'Şehir': 'İzmir',\n",
       "  'Yaş': 21,\n",
       "  'Meslek': 'Öğrenci'}}"
      ]
     },
     "execution_count": 26,
     "metadata": {},
     "output_type": "execute_result"
    }
   ],
   "source": [
    "musteri_bilgileri[\"emir alpay\"][\"Yaş\"]=45\n",
    "musteri_bilgileri"
   ]
  },
  {
   "cell_type": "code",
   "execution_count": 27,
   "id": "d9e07114-01a1-4f46-b90b-2c906e67f040",
   "metadata": {},
   "outputs": [
    {
     "data": {
      "text/plain": [
       "{'book': 'kitap',\n",
       " 'pencil': 'kalem',\n",
       " 'table': 'masa',\n",
       " 'glass': 'bardak',\n",
       " 'fork': 'çatal'}"
      ]
     },
     "execution_count": 27,
     "metadata": {},
     "output_type": "execute_result"
    }
   ],
   "source": [
    "sozluk"
   ]
  },
  {
   "cell_type": "code",
   "execution_count": 28,
   "id": "91fa6864-a6f7-4eb4-bb62-e2271d091e89",
   "metadata": {},
   "outputs": [
    {
     "data": {
      "text/plain": [
       "dict_keys(['book', 'pencil', 'table', 'glass', 'fork'])"
      ]
     },
     "execution_count": 28,
     "metadata": {},
     "output_type": "execute_result"
    }
   ],
   "source": [
    "sozluk.keys()"
   ]
  },
  {
   "cell_type": "code",
   "execution_count": 29,
   "id": "0a28b10b-6d6e-4d3b-b03b-2a309a49c4f4",
   "metadata": {},
   "outputs": [
    {
     "data": {
      "text/plain": [
       "['book', 'pencil', 'table', 'glass', 'fork']"
      ]
     },
     "execution_count": 29,
     "metadata": {},
     "output_type": "execute_result"
    }
   ],
   "source": [
    "liste=list(sozluk.keys())\n",
    "liste"
   ]
  },
  {
   "cell_type": "code",
   "execution_count": 30,
   "id": "764f8058-f44e-424f-bd53-4761abe34a7a",
   "metadata": {},
   "outputs": [
    {
     "data": {
      "text/plain": [
       "dict_values(['kitap', 'kalem', 'masa', 'bardak', 'çatal'])"
      ]
     },
     "execution_count": 30,
     "metadata": {},
     "output_type": "execute_result"
    }
   ],
   "source": [
    "sozluk.values()"
   ]
  },
  {
   "cell_type": "code",
   "execution_count": 31,
   "id": "9585a5ca-c15f-4947-8905-561eaa25a9b5",
   "metadata": {},
   "outputs": [
    {
     "data": {
      "text/plain": [
       "['kitap', 'kalem', 'masa', 'bardak', 'çatal']"
      ]
     },
     "execution_count": 31,
     "metadata": {},
     "output_type": "execute_result"
    }
   ],
   "source": [
    "list(sozluk.values())"
   ]
  },
  {
   "cell_type": "code",
   "execution_count": 32,
   "id": "5b1ea6cf-36b8-4884-bae0-4b557117a89d",
   "metadata": {},
   "outputs": [
    {
     "data": {
      "text/plain": [
       "dict_items([('book', 'kitap'), ('pencil', 'kalem'), ('table', 'masa'), ('glass', 'bardak'), ('fork', 'çatal')])"
      ]
     },
     "execution_count": 32,
     "metadata": {},
     "output_type": "execute_result"
    }
   ],
   "source": [
    "sozluk.items()"
   ]
  },
  {
   "cell_type": "code",
   "execution_count": 33,
   "id": "914b7fa1-90b0-4bc9-8adc-a54ac9eb1160",
   "metadata": {},
   "outputs": [
    {
     "name": "stdout",
     "output_type": "stream",
     "text": [
      "book = kitap\n",
      "pencil = kalem\n",
      "table = masa\n",
      "glass = bardak\n",
      "fork = çatal\n"
     ]
    }
   ],
   "source": [
    "for key,value in sozluk.items():\n",
    "    print(\"{} = {}\".format(key,value))"
   ]
  },
  {
   "cell_type": "code",
   "execution_count": null,
   "id": "ed19304f-62c7-4ac0-8e7c-9e82a5acdddd",
   "metadata": {},
   "outputs": [],
   "source": []
  }
 ],
 "metadata": {
  "kernelspec": {
   "display_name": "Python 3 (ipykernel)",
   "language": "python",
   "name": "python3"
  },
  "language_info": {
   "codemirror_mode": {
    "name": "ipython",
    "version": 3
   },
   "file_extension": ".py",
   "mimetype": "text/x-python",
   "name": "python",
   "nbconvert_exporter": "python",
   "pygments_lexer": "ipython3",
   "version": "3.11.7"
  }
 },
 "nbformat": 4,
 "nbformat_minor": 5
}
