{
  "nbformat": 4,
  "nbformat_minor": 0,
  "metadata": {
    "colab": {
      "provenance": []
    },
    "kernelspec": {
      "name": "python3",
      "display_name": "Python 3"
    },
    "language_info": {
      "name": "python"
    }
  },
  "cells": [
    {
      "cell_type": "code",
      "source": [
        "from sklearn.svm import SVC\n",
        "svm_model = SVC(kernel=\"linear\").fit(X_train,y_train)\n",
        "y_pred = svm_model.predict(X_test)"
      ],
      "metadata": {
        "id": "zwruWhWW2-o5"
      },
      "execution_count": null,
      "outputs": []
    },
    {
      "cell_type": "code",
      "source": [
        "from sklearn.metrics import accuracy_score\n",
        "accuracy_score(y_test,y_pred)"
      ],
      "metadata": {
        "id": "y2ZZhZ6r3Cha"
      },
      "execution_count": null,
      "outputs": []
    },
    {
      "cell_type": "code",
      "source": [
        "svm=SVC()"
      ],
      "metadata": {
        "id": "x9gXqcLr3YTm"
      },
      "execution_count": null,
      "outputs": []
    },
    {
      "cell_type": "code",
      "source": [
        "svm_params = {\"C\": np.arange(1,10),\n",
        "              \"gamma\":(0.001, 0.01, 0.1),\n",
        "              \"kernel\":[\"linear\",\"rbf\"]}"
      ],
      "metadata": {
        "id": "9q2SdAhv3fG8"
      },
      "execution_count": null,
      "outputs": []
    },
    {
      "cell_type": "code",
      "source": [
        "from sklearn.model_selection import GridSearchCV\n",
        "svm_cv = GridSearchCV(svm,svm_params,n_jobs=-1, cv=5, verbose=1, scoring=\"accuracy\")"
      ],
      "metadata": {
        "id": "dEu63_U03iFY"
      },
      "execution_count": null,
      "outputs": []
    },
    {
      "cell_type": "code",
      "source": [
        "svm_cv.fit(X_train, y_train)\n",
        "best_params = svm_cv.best_params_\n",
        "print(f\"Best params: {best_params}\")"
      ],
      "metadata": {
        "id": "vQUsiL6i33Ji"
      },
      "execution_count": null,
      "outputs": []
    },
    {
      "cell_type": "code",
      "source": [
        "svm_tuned = SVC(C=4,gamma=0.01,kernel='rbf').fit(X_train,y_train)\n",
        "y_pred_tuned = svm_tuned.predict(X_test)\n",
        "accuracy_score(y_test,y_pred_tuned)\n"
      ],
      "metadata": {
        "id": "0DIjrGOw355x"
      },
      "execution_count": null,
      "outputs": []
    },
    {
      "cell_type": "code",
      "source": [
        "from sklearn.metrics import classification_report,confusion_matrix\n",
        "from sklearn.metrics import f1_score, precision_score, recall_score\n",
        "print(\"Classification Report is:\\n\",classification_report(y_test,y_pred_tuned))\n",
        "print(\"\\n F1:\\n\",f1_score(y_test,y_pred_tuned))\n",
        "print(\"\\n Precision score is:\\n\",precision_score(y_test,y_pred_tuned))\n",
        "print(\"\\n Recall score is:\\n\",recall_score(y_test,y_pred_tuned))\n",
        "print(\"\\n Confusion Matrix:\\n\")\n",
        "print(confusion_matrix(y_test,y_pred_tuned))\n",
        "plt.figure(figsize=(15,8))\n",
        "sns.heatmap(confusion_matrix(y_test,y_pred_tuned),annot=True)\n",
        "plt.ylabel('Prediction',fontsize=13)\n",
        "plt.xlabel('Actual',fontsize=13)\n",
        "plt.title('Confusion Matrix',fontsize=17)\n",
        "plt.show()"
      ],
      "metadata": {
        "id": "ImL3QIVY394x"
      },
      "execution_count": null,
      "outputs": []
    },
    {
      "cell_type": "code",
      "source": [
        "from sklearn.tree import DecisionTreeClassifier\n",
        "\n",
        "tree = DecisionTreeClassifier(random_state=42).fit(X_train, y_train)\n",
        "y_pred = tree.predict(X_test)\n",
        "accuracy_score(y_test,y_pred)"
      ],
      "metadata": {
        "id": "3aIyTcC-4B-Y"
      },
      "execution_count": null,
      "outputs": []
    },
    {
      "cell_type": "code",
      "source": [
        "params = {\"criterion\": (\"entropy\",\"gini\"), #Karar ağacının düğümlerini bölmek için kullanılacak ölçütü belirler. Sıklıkla kullanılan kriterler arasında \"gini\" ve \"entropy\" bulunur.\n",
        "          \"splitter\":(\"best\", \"random\"), #Karar ağacının düğümlerini bölme stratejisini belirler.\n",
        "          \"max_depth\":(list(range(1, 10))), #Oluşturulacak olan ağacın maksimum derinliğini belirler. Bu parametre, ağacın aşırı öğrenme veya ezberleme sorunlarından kaçınmak için kullanılır.\n",
        "          \"min_samples_split\":[2, 3, 4], #Bir düğümün bölünmesi için gereken minimum örnek sayısını belirler.\n",
        "          \"min_samples_leaf\":list(range(1, 10)) #Bir yaprak düğümü oluşturmak için gerekli olan minimum örnek sayısını belirler.\n",
        "          }"
      ],
      "metadata": {
        "id": "kgctQ4ka4WO1"
      },
      "execution_count": null,
      "outputs": []
    },
    {
      "cell_type": "code",
      "source": [
        "from sklearn.model_selection import GridSearchCV\n",
        "tree_clf = DecisionTreeClassifier(random_state=42)\n",
        "tree_cv = GridSearchCV(tree_clf, params, scoring=\"accuracy\", n_jobs=-1, verbose=1, cv=5)\n",
        "tree_cv.fit(X_train, y_train)\n",
        "best_params = tree_cv.best_params_"
      ],
      "metadata": {
        "id": "jTpbTJYo4kdK"
      },
      "execution_count": null,
      "outputs": []
    },
    {
      "cell_type": "code",
      "source": [
        "best_params"
      ],
      "metadata": {
        "id": "Ef0SzWqy4o2c"
      },
      "execution_count": null,
      "outputs": []
    },
    {
      "cell_type": "code",
      "source": [
        "tree_tuned = DecisionTreeClassifier(**best_params)\n",
        "tree_tuned.fit(X_train,y_train)\n",
        "y_pred = tree_tuned.predict(X_test)\n",
        "accuracy_score(y_test,y_pred)"
      ],
      "metadata": {
        "id": "UXDfe_km4s97"
      },
      "execution_count": null,
      "outputs": []
    },
    {
      "cell_type": "code",
      "source": [
        "from sklearn.ensemble import RandomForestClassifier\n",
        "\n",
        "rf_clf = RandomForestClassifier(n_estimators=1000, random_state=42)\n",
        "rf_clf.fit(X_train, y_train)\n",
        "y_pred = rf_clf.predict(X_test)\n",
        "accuracy_score(y_test,y_pred)"
      ],
      "metadata": {
        "id": "uuNPduXT4vs0"
      },
      "execution_count": null,
      "outputs": []
    },
    {
      "cell_type": "code",
      "source": [
        "n_estimators = [500, 900, 1100, 1500] #Oluşturulacak olan karar ağacı sayısını belirler\n",
        "max_features = ['auto', 'sqrt'] #Her bir karar ağacında değerlendirilecek olan maksimum özellik sayısını belirler. Bu, her bir bölünmede göz önünde bulundurulacak özelliklerin sayısını kontrol eder.\n",
        "max_depth = [2, 3, 5, 10, 15, None]  #Her bir karar ağacının maksimum derinliğini belirler\n",
        "min_samples_split = [2, 5, 10]\n",
        "min_samples_leaf = [1, 2, 4]\n",
        "\n",
        "params_grid = {\n",
        "    'n_estimators': n_estimators,\n",
        "    'max_features': max_features,\n",
        "    'max_depth': max_depth,\n",
        "    'min_samples_split': min_samples_split,\n",
        "    'min_samples_leaf': min_samples_leaf\n",
        "              }\n",
        "\n",
        "rf_clf = RandomForestClassifier(random_state=42)\n",
        "rf_cv = GridSearchCV(rf_clf, params_grid, scoring=\"accuracy\", cv=5, verbose=1, n_jobs=-1)\n",
        "rf_cv.fit(X_train, y_train)\n",
        "best_params = rf_cv.best_params_\n",
        "print(f\"Best parameters: {best_params}\")"
      ],
      "metadata": {
        "id": "fHqC6KFK47RX"
      },
      "execution_count": null,
      "outputs": []
    },
    {
      "cell_type": "code",
      "source": [
        "random_forest_tuned = RandomForestClassifier(**best_params)\n",
        "random_forest_tuned.fit(X_train,y_train)\n",
        "y_pred = random_forest_tuned.predict(X_test)\n",
        "accuracy_score(y_test,y_pred)"
      ],
      "metadata": {
        "id": "Qni5jkBR5uW2"
      },
      "execution_count": null,
      "outputs": []
    },
    {
      "cell_type": "code",
      "source": [
        "#pip install xgboost\n",
        "import xgboost as xgb\n",
        "'''from sklearn.model_selection import train_test_split\n",
        "from sklearn.metrics import mean_squared_error'''\n",
        "\n",
        "# XGBoost modelini oluştur ve eğit\n",
        "model = xgb.XGBClassifier()\n",
        "model.fit(X_train, y_train)\n",
        "\n",
        "# Tahmin yap ve hata hesapla\n",
        "y_pred = model.predict(X_test)\n",
        "accuracy_score(y_test,y_pred)\n"
      ],
      "metadata": {
        "id": "TEtUN0iE50Ec"
      },
      "execution_count": null,
      "outputs": []
    },
    {
      "cell_type": "code",
      "source": [
        "param_grid = {\n",
        "    'max_depth': [3, 4, 5],\n",
        "    'learning_rate': [0.01, 0.1, 0.2],\n",
        "    'n_estimators': [100, 200, 300],\n",
        "    'subsample': [0.8, 0.9, 1.0],\n",
        "    'colsample_bytree': [0.8, 0.9, 1.0]\n",
        "}\n",
        "grid_search = GridSearchCV(estimator=model, param_grid=param_grid, scoring='accuracy', cv=5, verbose=1)\n",
        "grid_search.fit(X_train, y_train)\n",
        "best_params = grid_search.best_params_\n",
        "best_params"
      ],
      "metadata": {
        "id": "tZCy7dGo6D1k"
      },
      "execution_count": null,
      "outputs": []
    },
    {
      "cell_type": "code",
      "source": [
        "xgboost_tuned = xgb.XGBClassifier(**best_params)\n",
        "xgboost_tuned.fit(X_train,y_train)\n",
        "y_pred = xgboost_tuned.predict(X_test)\n",
        "accuracy_score(y_test,y_pred)"
      ],
      "metadata": {
        "id": "-_tWPJu06H5y"
      },
      "execution_count": null,
      "outputs": []
    },
    {
      "cell_type": "code",
      "source": [],
      "metadata": {
        "id": "G0-12OPn6MEd"
      },
      "execution_count": null,
      "outputs": []
    }
  ]
}