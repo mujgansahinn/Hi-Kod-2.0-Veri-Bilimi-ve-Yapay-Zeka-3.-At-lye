{
 "cells": [
  {
   "cell_type": "code",
   "execution_count": 2,
   "id": "fe87a52d-afb1-4a89-890b-f218d4aad0d3",
   "metadata": {},
   "outputs": [],
   "source": [
    "not_sozluk={\"müjgan şahin\":{\"Matematik\":90,\n",
    "                            \"Fizik\":85,\n",
    "                            \"Kimya\":95},\n",
    "            \"bengü doğan\":{\"Matematik\":96,\n",
    "                           \"Fizik\":90,\n",
    "                           \"Kimya\":89},\n",
    "            \"burcu çöllü\":{\"Matematik\":93,\n",
    "                           \"Fizik\":97,\n",
    "                           \"Kimya\":88}}"
   ]
  },
  {
   "cell_type": "code",
   "execution_count": 3,
   "id": "ef57c67a-c769-43e6-a3db-36ef5a51b91d",
   "metadata": {},
   "outputs": [
    {
     "name": "stdin",
     "output_type": "stream",
     "text": [
      "Notunu öğrenmek istediğiniz öğrencinin ismini giriniz:  müjgan şahin\n",
      "Hangi dersin notunu öğrenmek istersiniz:  Matematik\n"
     ]
    },
    {
     "data": {
      "text/plain": [
       "90"
      ]
     },
     "execution_count": 3,
     "metadata": {},
     "output_type": "execute_result"
    }
   ],
   "source": [
    "isim= input(\"Notunu öğrenmek istediğiniz öğrencinin ismini giriniz: \")\n",
    "ders= input(\"Hangi dersin notunu öğrenmek istersiniz: \")\n",
    "not_sozluk[isim][ders]"
   ]
  },
  {
   "cell_type": "code",
   "execution_count": 4,
   "id": "b4f175fb-3810-4e2e-9b2d-81cc4a32fae8",
   "metadata": {},
   "outputs": [
    {
     "data": {
      "text/plain": [
       "{'müjgan şahin': {'Matematik': 90, 'Fizik': 85, 'Kimya': 95},\n",
       " 'bengü doğan': {'Matematik': 96, 'Fizik': 90, 'Kimya': 89},\n",
       " 'burcu çöllü': {'Matematik': 93, 'Fizik': 97, 'Kimya': 88}}"
      ]
     },
     "execution_count": 4,
     "metadata": {},
     "output_type": "execute_result"
    }
   ],
   "source": [
    "not_sozluk"
   ]
  },
  {
   "cell_type": "code",
   "execution_count": 5,
   "id": "d179d92d-3888-46fa-8f35-325647abde59",
   "metadata": {},
   "outputs": [
    {
     "data": {
      "text/plain": [
       "{'müjgan şahin': {'Matematik': 90, 'Fizik': 100, 'Kimya': 95},\n",
       " 'bengü doğan': {'Matematik': 96, 'Fizik': 90, 'Kimya': 89},\n",
       " 'burcu çöllü': {'Matematik': 93, 'Fizik': 97, 'Kimya': 88}}"
      ]
     },
     "execution_count": 5,
     "metadata": {},
     "output_type": "execute_result"
    }
   ],
   "source": [
    "not_sozluk[\"müjgan şahin\"][\"Fizik\"]=100\n",
    "not_sozluk"
   ]
  },
  {
   "cell_type": "code",
   "execution_count": 6,
   "id": "a77cb162-01e1-452e-8106-6ae3eb882a70",
   "metadata": {},
   "outputs": [
    {
     "data": {
      "text/plain": [
       "{'müjgan şahin': {'Matematik': 90, 'Fizik': 100, 'Kimya': 95},\n",
       " 'bengü doğan': {'Matematik': 96, 'Fizik': 90, 'Kimya': 90},\n",
       " 'burcu çöllü': {'Matematik': 93, 'Fizik': 97, 'Kimya': 88}}"
      ]
     },
     "execution_count": 6,
     "metadata": {},
     "output_type": "execute_result"
    }
   ],
   "source": [
    "not_sozluk[\"bengü doğan\"][\"Kimya\"]=90\n",
    "not_sozluk"
   ]
  },
  {
   "cell_type": "code",
   "execution_count": 30,
   "id": "dc1f8578-91a3-4347-b54a-d1af7ca0323d",
   "metadata": {},
   "outputs": [
    {
     "data": {
      "text/plain": [
       "{'A Sınıfı': 32, 'B Sınıfı': 29, 'C Sınıfı': 39}"
      ]
     },
     "execution_count": 30,
     "metadata": {},
     "output_type": "execute_result"
    }
   ],
   "source": [
    "sozluk={\"A Sınıfı\":32,\n",
    "        \"B Sınıfı\":29,\n",
    "        \"C Sınıfı\":39}\n",
    "sozluk"
   ]
  },
  {
   "cell_type": "code",
   "execution_count": 31,
   "id": "005cf01e-0ebd-4fd9-b9cc-0abfcab66f69",
   "metadata": {},
   "outputs": [
    {
     "data": {
      "text/plain": [
       "{'A Sınıfı': 33, 'B Sınıfı': 29, 'C Sınıfı': 39}"
      ]
     },
     "execution_count": 31,
     "metadata": {},
     "output_type": "execute_result"
    }
   ],
   "source": [
    "sozluk[\"A Sınıfı\"]=33\n",
    "sozluk"
   ]
  },
  {
   "cell_type": "code",
   "execution_count": 32,
   "id": "f395cc8d-9dd0-4540-95fc-5d9da8e667a9",
   "metadata": {},
   "outputs": [
    {
     "data": {
      "text/plain": [
       "{'A Sınıfı': 33, 'B Sınıfı': 29, 'C Sınıfı': 39, 'D Sınıfı': 40}"
      ]
     },
     "execution_count": 32,
     "metadata": {},
     "output_type": "execute_result"
    }
   ],
   "source": [
    "sozluk[\"D Sınıfı\"]=40\n",
    "sozluk"
   ]
  },
  {
   "cell_type": "code",
   "execution_count": 33,
   "id": "c900a9ac-d18a-42c0-b11b-20ec55adc7df",
   "metadata": {},
   "outputs": [
    {
     "name": "stdin",
     "output_type": "stream",
     "text": [
      "Sınıf mevcudunu öğrenmek istediğiniz sınıfı giriniz:  A Sınıfı\n"
     ]
    },
    {
     "data": {
      "text/plain": [
       "33"
      ]
     },
     "execution_count": 33,
     "metadata": {},
     "output_type": "execute_result"
    }
   ],
   "source": [
    "sınıf= input(\"Sınıf mevcudunu öğrenmek istediğiniz sınıfı giriniz: \")\n",
    "sozluk[sınıf]"
   ]
  }
 ],
 "metadata": {
  "kernelspec": {
   "display_name": "Python 3 (ipykernel)",
   "language": "python",
   "name": "python3"
  },
  "language_info": {
   "codemirror_mode": {
    "name": "ipython",
    "version": 3
   },
   "file_extension": ".py",
   "mimetype": "text/x-python",
   "name": "python",
   "nbconvert_exporter": "python",
   "pygments_lexer": "ipython3",
   "version": "3.11.7"
  }
 },
 "nbformat": 4,
 "nbformat_minor": 5
}
