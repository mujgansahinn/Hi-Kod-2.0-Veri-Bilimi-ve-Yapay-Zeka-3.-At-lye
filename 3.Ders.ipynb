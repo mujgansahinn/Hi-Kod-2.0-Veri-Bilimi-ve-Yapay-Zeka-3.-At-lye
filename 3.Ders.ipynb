{
 "cells": [
  {
   "cell_type": "code",
   "execution_count": 2,
   "id": "af319732-faf7-4777-a77e-7f2d6118df36",
   "metadata": {},
   "outputs": [
    {
     "name": "stdout",
     "output_type": "stream",
     "text": [
      "2 sayısına 1 eklenirse 3 olur\n"
     ]
    }
   ],
   "source": [
    " def ekle(sayi):\n",
    "     yeni_sayi= sayi+1\n",
    "     print(str(sayi) +\" sayısına 1 eklenirse \"+ str(yeni_sayi) + \" olur\")\n",
    " ekle(2)"
   ]
  },
  {
   "cell_type": "code",
   "execution_count": 4,
   "id": "fea26837-a6bf-46af-bffa-eae922e1d499",
   "metadata": {},
   "outputs": [
    {
     "name": "stdout",
     "output_type": "stream",
     "text": [
      "3 sayısına 1 eklenirse 4 olur\n"
     ]
    }
   ],
   "source": [
    "def ekle(sayi):\n",
    "    yeni_sayi= sayi+1\n",
    "    print(\"{} sayısına 1 eklenirse {} olur\".format(sayi,yeni_sayi))\n",
    "ekle(3)"
   ]
  },
  {
   "cell_type": "code",
   "execution_count": 5,
   "id": "3b1a8dda-4e9b-46f3-8aa3-ef21918756b4",
   "metadata": {},
   "outputs": [
    {
     "name": "stdout",
     "output_type": "stream",
     "text": [
      "4 sayısına 1 eklenirse 5 olur\n"
     ]
    }
   ],
   "source": [
    "def ekle(sayi):\n",
    "    yeni_sayi= sayi + 1\n",
    "    print(f\"{sayi} sayısına 1 eklenirse {yeni_sayi} olur\")\n",
    "ekle(4)"
   ]
  },
  {
   "cell_type": "code",
   "execution_count": 7,
   "id": "688320bc-5139-4977-bcdf-268d7eff50e4",
   "metadata": {},
   "outputs": [
    {
     "name": "stdout",
     "output_type": "stream",
     "text": [
      "Müşteri adı: Müjgan Şahin\n",
      "Müşteri numarası: 1234567\n",
      "Şehir: Antalya\n",
      "Meslek: Öğrenci\n"
     ]
    }
   ],
   "source": [
    "musteri_adi= \"Müjgan Şahin\"\n",
    "musteri_no=\"1234567\"\n",
    "sehir=\"Antalya\"\n",
    "meslek=\"Öğrenci\"\n",
    "\n",
    "print(\"Müşteri adı:\" , musteri_adi)\n",
    "print(\"Müşteri numarası:\" , musteri_no)\n",
    "print(\"Şehir:\" , sehir)\n",
    "print(\"Meslek:\" , meslek)"
   ]
  },
  {
   "cell_type": "code",
   "execution_count": 8,
   "id": "8ca1fb88-9099-46ee-9a16-36b7b60e2568",
   "metadata": {},
   "outputs": [
    {
     "name": "stdout",
     "output_type": "stream",
     "text": [
      "Müşteri adı: Müjgan Şahin\n",
      "Müşteri numarası: 1234567\n",
      "Şehir: Antalya\n",
      "Meslek: Öğrenci\n",
      "----------------------------------------\n",
      "Müşteri adı: Gülcan Şahin\n",
      "Müşteri numarası: 1234567\n",
      "Şehir: Antalya\n",
      "Meslek: Paramedik\n"
     ]
    }
   ],
   "source": [
    "musteri_adi= \"Müjgan Şahin\"\n",
    "musteri_no=\"1234567\"\n",
    "sehir=\"Antalya\"\n",
    "meslek=\"Öğrenci\"\n",
    "\n",
    "print(\"Müşteri adı:\" , musteri_adi)\n",
    "print(\"Müşteri numarası:\" , musteri_no)\n",
    "print(\"Şehir:\" , sehir)\n",
    "print(\"Meslek:\" , meslek)\n",
    "print(\"----------------------------------------\")\n",
    "musteri_adi= \"Gülcan Şahin\"\n",
    "musteri_numarasi=\"2345678\"\n",
    "sehir=\"Antalya\"\n",
    "meslek=\"Paramedik\"\n",
    "\n",
    "print(\"Müşteri adı:\" , musteri_adi)\n",
    "print(\"Müşteri numarası:\" , musteri_no)\n",
    "print(\"Şehir:\" , sehir)\n",
    "print(\"Meslek:\" , meslek)"
   ]
  },
  {
   "cell_type": "code",
   "execution_count": 12,
   "id": "e7bd9829-2650-4f67-b778-503897234488",
   "metadata": {},
   "outputs": [
    {
     "name": "stdout",
     "output_type": "stream",
     "text": [
      "Müşteri adı: Müjgan Şahin\n",
      "Müşteri numarası: 1234567\n",
      "Şehir: Antalya\n",
      "Meslek: Öğrenci\n",
      "------------------------------------------\n",
      "Müşteri adı: Gülcan Şahin\n",
      "Müşteri numarası: 2345678\n",
      "Şehir: Antalya\n",
      "Meslek: Paramedik\n",
      "------------------------------------------\n"
     ]
    }
   ],
   "source": [
    "def musteri_bilgileri(isim,numara,sehir,meslek):\n",
    "    print(\"Müşteri adı:\" , isim)\n",
    "    print(\"Müşteri numarası:\" , numara)\n",
    "    print(\"Şehir:\" , sehir)\n",
    "    print(\"Meslek:\" , meslek)\n",
    "    print(\"------------------------------------------\")\n",
    "\n",
    "musteri_bilgileri(\"Müjgan Şahin\",\"1234567\",\"Antalya\",\"Öğrenci\")\n",
    "musteri_bilgileri(\"Gülcan Şahin\",\"2345678\",\"Antalya\",\"Paramedik\")\n"
   ]
  },
  {
   "cell_type": "code",
   "execution_count": 15,
   "id": "7e7e73bf-7e13-4e05-b0fd-78ffa6a5b55a",
   "metadata": {},
   "outputs": [
    {
     "name": "stdout",
     "output_type": "stream",
     "text": [
      "9 sayısının karesi 81\n",
      "10 sayısının karesi 100\n",
      "25 sayısının karesi 625\n"
     ]
    }
   ],
   "source": [
    "sayi1=9\n",
    "print(str(sayi1)+ \" sayısının karesi \" + str(sayi1**2))\n",
    "\n",
    "sayi2=10\n",
    "print(str(sayi2)+ \" sayısının karesi \" + str(sayi2**2))\n",
    "\n",
    "sayi3=25\n",
    "print(str(sayi3)+ \" sayısının karesi \" + str(sayi3**2))"
   ]
  },
  {
   "cell_type": "code",
   "execution_count": 16,
   "id": "e962868c-21ed-4a62-a9dc-cc5d9ce4ca2f",
   "metadata": {},
   "outputs": [
    {
     "name": "stdout",
     "output_type": "stream",
     "text": [
      "4 sayısının karesi 16\n",
      "5 sayısının karesi 25\n",
      "9 sayısının karesi 81\n"
     ]
    }
   ],
   "source": [
    "def kare_hesaplama(sayi):\n",
    "    sonuc= sayi**2\n",
    "    print(\"{} sayısının karesi {}\".format(sayi,sayi**2))\n",
    "\n",
    "kare_hesaplama(4)\n",
    "kare_hesaplama(5)\n",
    "kare_hesaplama(9)"
   ]
  },
  {
   "cell_type": "code",
   "execution_count": 21,
   "id": "476db739-47c1-40da-ae78-40edf0f39231",
   "metadata": {},
   "outputs": [
    {
     "name": "stdout",
     "output_type": "stream",
     "text": [
      "9 sayının karesi 81 küpü 729\n",
      "10 sayının karesi 100 küpü 1000\n",
      "25 sayının karesi 625 küpü 15625\n"
     ]
    }
   ],
   "source": [
    "sayi1=9\n",
    "print(str(sayi1) + \" sayının karesi \" + str(sayi1**2) + \" küpü \" + str(sayi1**3))\n",
    "\n",
    "sayi2=10\n",
    "print(str(sayi2) + \" sayının karesi \" + str(sayi2**2) + \" küpü \" + str(sayi2**3))\n",
    "\n",
    "sayi3=25\n",
    "print(str(sayi3) + \" sayının karesi \" + str(sayi3**2) + \" küpü \" + str(sayi3**3))"
   ]
  },
  {
   "cell_type": "code",
   "execution_count": 22,
   "id": "38951039-d664-49f7-bb5b-e368a6c3803c",
   "metadata": {},
   "outputs": [
    {
     "name": "stdout",
     "output_type": "stream",
     "text": [
      "4 sayının karesi 16  küpü 64\n",
      "5 sayının karesi 25  küpü 125\n",
      "9 sayının karesi 81  küpü 729\n"
     ]
    }
   ],
   "source": [
    "def kare_hesaplama(sayi):\n",
    "    sonuc=sayi**2\n",
    "    print(str(sayi) + \" sayının karesi \" + str(sonuc), \" küpü \" + str(sayi**3))\n",
    "\n",
    "kare_hesaplama(4)\n",
    "kare_hesaplama(5)\n",
    "kare_hesaplama(9)"
   ]
  },
  {
   "cell_type": "code",
   "execution_count": 23,
   "id": "22f78b39-38b5-4253-9e74-04d1f8faa772",
   "metadata": {},
   "outputs": [
    {
     "name": "stdout",
     "output_type": "stream",
     "text": [
      "4\n"
     ]
    },
    {
     "ename": "TypeError",
     "evalue": "unsupported operand type(s) for *: 'NoneType' and 'int'",
     "output_type": "error",
     "traceback": [
      "\u001b[1;31m---------------------------------------------------------------------------\u001b[0m",
      "\u001b[1;31mTypeError\u001b[0m                                 Traceback (most recent call last)",
      "Cell \u001b[1;32mIn[23], line 5\u001b[0m\n\u001b[0;32m      2\u001b[0m     sonuc \u001b[38;5;241m=\u001b[39m sayi\u001b[38;5;241m*\u001b[39m\u001b[38;5;241m*\u001b[39m\u001b[38;5;241m2\u001b[39m\n\u001b[0;32m      3\u001b[0m     \u001b[38;5;28mprint\u001b[39m(sonuc)\n\u001b[1;32m----> 5\u001b[0m \u001b[38;5;28mprint\u001b[39m(kare_hesaplama(\u001b[38;5;241m2\u001b[39m)\u001b[38;5;241m*\u001b[39m\u001b[38;5;241m3\u001b[39m)\n",
      "\u001b[1;31mTypeError\u001b[0m: unsupported operand type(s) for *: 'NoneType' and 'int'"
     ]
    }
   ],
   "source": [
    "def kare_hesaplama(sayi):\n",
    "    sonuc = sayi**2\n",
    "    print(sonuc)\n",
    "\n",
    "print(kare_hesaplama(2)*3)"
   ]
  },
  {
   "cell_type": "code",
   "execution_count": 24,
   "id": "cc1b8521-24eb-45ab-994a-5ae4722c42b7",
   "metadata": {},
   "outputs": [
    {
     "name": "stdin",
     "output_type": "stream",
     "text": [
      "Merhaba, ismin ne?  Müjgan\n"
     ]
    },
    {
     "data": {
      "text/plain": [
       "'Müjgan'"
      ]
     },
     "execution_count": 24,
     "metadata": {},
     "output_type": "execute_result"
    }
   ],
   "source": [
    "def isim_bilgisi():\n",
    "    isim = input(\"Merhaba, ismin ne? \")\n",
    "    return isim\n",
    "isim_bilgisi()"
   ]
  },
  {
   "cell_type": "code",
   "execution_count": 26,
   "id": "5a8b41a5-5a4b-4f40-a261-c059694ea29f",
   "metadata": {},
   "outputs": [
    {
     "name": "stdin",
     "output_type": "stream",
     "text": [
      "Merhaba, ismin ne?  müjgan\n"
     ]
    },
    {
     "name": "stdout",
     "output_type": "stream",
     "text": [
      "Merhaba müjgan kaç yaşındasın?\n"
     ]
    }
   ],
   "source": [
    "print(\"Merhaba {} kaç yaşındasın?\".format(isim_bilgisi()))"
   ]
  },
  {
   "cell_type": "code",
   "execution_count": 27,
   "id": "429585ef-a6d0-47ad-9af3-bf379437002b",
   "metadata": {},
   "outputs": [
    {
     "name": "stdout",
     "output_type": "stream",
     "text": [
      "3\n"
     ]
    }
   ],
   "source": [
    "def sayi():\n",
    "    print(3)\n",
    "    return\n",
    "    print(5)\n",
    "sayi()\n"
   ]
  },
  {
   "cell_type": "code",
   "execution_count": 36,
   "id": "0fc5aef3-d9ea-4eaa-9811-05038f792579",
   "metadata": {},
   "outputs": [],
   "source": [
    "def karesi(*sayilar):\n",
    "    for i in sayilar:\n",
    "        sonuc = i**2\n",
    "        print(\"Girilen {} sayının karesi: {}\".format(i,sonuc))"
   ]
  },
  {
   "cell_type": "code",
   "execution_count": 37,
   "id": "a9ec7836-0e36-4593-a885-8271c538a5df",
   "metadata": {},
   "outputs": [
    {
     "name": "stdout",
     "output_type": "stream",
     "text": [
      "Girilen 3 sayının karesi: 9\n",
      "Girilen 7 sayının karesi: 49\n",
      "Girilen 5 sayının karesi: 25\n"
     ]
    }
   ],
   "source": [
    "karesi(3,7,5)"
   ]
  },
  {
   "cell_type": "code",
   "execution_count": 38,
   "id": "3b73f2e1-59d4-4c06-adcd-ff27c647c4f6",
   "metadata": {},
   "outputs": [
    {
     "name": "stdout",
     "output_type": "stream",
     "text": [
      "(2, 5, 6)\n"
     ]
    }
   ],
   "source": [
    "def sayilar(*sayi):\n",
    "    print(sayi)\n",
    "\n",
    "sayilar(2,5,6)"
   ]
  },
  {
   "cell_type": "code",
   "execution_count": 39,
   "id": "7ba11101-aef6-4e9d-ad3e-6414ad2bc9bc",
   "metadata": {},
   "outputs": [],
   "source": [
    "def carpım(*sayilar):\n",
    "    sonuc = 1\n",
    "    for i in sayilar:\n",
    "        sonuc = sonuc * i\n",
    "    print(sonuc)\n",
    "    "
   ]
  },
  {
   "cell_type": "code",
   "execution_count": 40,
   "id": "331062b3-188d-4821-afad-30ad8cffe5db",
   "metadata": {},
   "outputs": [
    {
     "name": "stdout",
     "output_type": "stream",
     "text": [
      "105\n"
     ]
    }
   ],
   "source": [
    "carpım(3,5,7)"
   ]
  },
  {
   "cell_type": "code",
   "execution_count": 42,
   "id": "30bb3ae1-557f-48c4-85c7-79ea425cafa2",
   "metadata": {},
   "outputs": [
    {
     "name": "stdout",
     "output_type": "stream",
     "text": [
      "{'isim': 'Müjgan', 'soyisim': 'Şahin', 'yas': '20'}\n",
      "{'isim': 'Gülcan', 'soyisim': 'Şahin', 'yas': '27', 'meslek': 'paramedik'}\n"
     ]
    }
   ],
   "source": [
    "def kayit(**kwargs):\n",
    "    print(kwargs)\n",
    "\n",
    "kayit(isim=\"Müjgan\",soyisim=\"Şahin\",yas=\"20\")\n",
    "kayit(isim=\"Gülcan\",soyisim=\"Şahin\",yas=\"27\",meslek=\"paramedik\")"
   ]
  },
  {
   "cell_type": "code",
   "execution_count": null,
   "id": "5d7e0f59-3942-4ced-bd6c-2ef5f3f2d41f",
   "metadata": {},
   "outputs": [],
   "source": []
  }
 ],
 "metadata": {
  "kernelspec": {
   "display_name": "Python 3 (ipykernel)",
   "language": "python",
   "name": "python3"
  },
  "language_info": {
   "codemirror_mode": {
    "name": "ipython",
    "version": 3
   },
   "file_extension": ".py",
   "mimetype": "text/x-python",
   "name": "python",
   "nbconvert_exporter": "python",
   "pygments_lexer": "ipython3",
   "version": "3.11.7"
  }
 },
 "nbformat": 4,
 "nbformat_minor": 5
}
