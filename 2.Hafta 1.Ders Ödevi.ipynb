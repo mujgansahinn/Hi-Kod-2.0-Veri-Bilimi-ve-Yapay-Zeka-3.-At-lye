{
 "cells": [
  {
   "cell_type": "code",
   "execution_count": 23,
   "id": "07bf7083-31c8-492f-aa27-c996b241065d",
   "metadata": {},
   "outputs": [
    {
     "name": "stdin",
     "output_type": "stream",
     "text": [
      "pi değerini giriniz:  3\n",
      "Yarıçapı giriniz:  5\n"
     ]
    },
    {
     "name": "stdout",
     "output_type": "stream",
     "text": [
      "Dairenin alanı:  75.0\n"
     ]
    }
   ],
   "source": [
    "pi=float(input(\"pi değerini giriniz: \"))\n",
    "def daire_alan(yaricap):\n",
    "    alan= (float(yaricap)**2)* pi\n",
    "    return alan\n",
    "r=input(\"Yarıçapı giriniz: \")\n",
    "print(\"Dairenin alanı: \",daire_alan(r))"
   ]
  },
  {
   "cell_type": "code",
   "execution_count": 26,
   "id": "9dba58c8-76f5-4b70-8ea6-e1b73d1a479a",
   "metadata": {},
   "outputs": [
    {
     "name": "stdin",
     "output_type": "stream",
     "text": [
      "Faktöriyelini hesaplamak istediğiniz sayıyı giriniz:  3\n"
     ]
    },
    {
     "name": "stdout",
     "output_type": "stream",
     "text": [
      "3 sayısının faktöriyeli:  6 \n"
     ]
    }
   ],
   "source": [
    "def faktoriyel(number):\n",
    "    factorial=1\n",
    "    if number>=0:\n",
    "        for i in range(1, number+1):\n",
    "            factorial*=i\n",
    "        return factorial\n",
    "    else:\n",
    "        return None\n",
    "number= int(input(\"Faktöriyelini hesaplamak istediğiniz sayıyı giriniz: \"))\n",
    "print(\"{} sayısının faktöriyeli:  {} \".format(number,faktoriyel(number)))\n",
    "    "
   ]
  },
  {
   "cell_type": "code",
   "execution_count": 25,
   "id": "99ad674b-3e5d-42a5-96a8-ef36c0b33c91",
   "metadata": {},
   "outputs": [
    {
     "name": "stdin",
     "output_type": "stream",
     "text": [
      "Doğum yılınızı giriniz : 2004\n"
     ]
    },
    {
     "data": {
      "text/plain": [
       "20"
      ]
     },
     "execution_count": 25,
     "metadata": {},
     "output_type": "execute_result"
    }
   ],
   "source": [
    "def yas_hesaplama(yıl):\n",
    "    yas= 2024 - int(dogum_yili)\n",
    "    return yas\n",
    "dogum_yili=input(\"Doğum yılınızı giriniz :\")\n",
    "yas_hesaplama(dogum_yili)"
   ]
  },
  {
   "cell_type": "code",
   "execution_count": 52,
   "id": "a6307160-a20b-41aa-ba6e-690701fa763b",
   "metadata": {},
   "outputs": [
    {
     "name": "stdin",
     "output_type": "stream",
     "text": [
      "İsminizi giriniz:  müjgan\n",
      "Doğum yılınızı giriniz:  2004\n"
     ]
    },
    {
     "name": "stdout",
     "output_type": "stream",
     "text": [
      "müjgan emekliliğine 45 yıl kaldı\n"
     ]
    }
   ],
   "source": [
    "def yas_hesap(yıl):\n",
    "      yas= 2024 - int(dogum_yili)\n",
    "      return yas\n",
    "ad= input(\"İsminizi giriniz: \")\n",
    "dogum_yili=input(\"Doğum yılınızı giriniz: \")\n",
    "yas_hesap(dogum_yili)\n",
    "def emeklilik():\n",
    "    yas= 2024 - int(dogum_yili)\n",
    "    if yas>=65:\n",
    "        print(\"Emekli oldunuz\")\n",
    "    else:\n",
    "        print(\"{} emekliliğine {} yıl kaldı\".format(ad,(65-yas)))\n",
    "emeklilik()"
   ]
  },
  {
   "cell_type": "code",
   "execution_count": null,
   "id": "cb7220cd-a7e9-4240-b6c6-463be9082dd7",
   "metadata": {},
   "outputs": [],
   "source": []
  }
 ],
 "metadata": {
  "kernelspec": {
   "display_name": "Python 3 (ipykernel)",
   "language": "python",
   "name": "python3"
  },
  "language_info": {
   "codemirror_mode": {
    "name": "ipython",
    "version": 3
   },
   "file_extension": ".py",
   "mimetype": "text/x-python",
   "name": "python",
   "nbconvert_exporter": "python",
   "pygments_lexer": "ipython3",
   "version": "3.11.7"
  }
 },
 "nbformat": 4,
 "nbformat_minor": 5
}
