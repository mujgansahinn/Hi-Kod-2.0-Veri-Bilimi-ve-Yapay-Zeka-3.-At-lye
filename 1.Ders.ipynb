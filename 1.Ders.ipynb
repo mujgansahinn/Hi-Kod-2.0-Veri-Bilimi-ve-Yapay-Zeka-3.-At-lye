{
 "cells": [
  {
   "cell_type": "code",
   "execution_count": 2,
   "id": "8a00818f-1619-46ce-a76a-686d0f50cda7",
   "metadata": {},
   "outputs": [
    {
     "name": "stdout",
     "output_type": "stream",
     "text": [
      "5\n"
     ]
    }
   ],
   "source": [
    "print(5)"
   ]
  },
  {
   "cell_type": "code",
   "execution_count": 3,
   "id": "cfc09adc-fb42-45fc-992b-2b71db774b7b",
   "metadata": {},
   "outputs": [
    {
     "name": "stdout",
     "output_type": "stream",
     "text": [
      "Hello World\n"
     ]
    }
   ],
   "source": [
    "print(\"Hello World\")"
   ]
  },
  {
   "cell_type": "code",
   "execution_count": 4,
   "id": "2e3ec8b1-c625-4e2d-bd19-91e757b69b38",
   "metadata": {},
   "outputs": [
    {
     "name": "stdout",
     "output_type": "stream",
     "text": [
      "4.6\n"
     ]
    }
   ],
   "source": [
    "print(4.6)"
   ]
  },
  {
   "cell_type": "code",
   "execution_count": 7,
   "id": "dbd2945d-254d-416e-b5c2-43018a2f6899",
   "metadata": {},
   "outputs": [
    {
     "data": {
      "text/plain": [
       "0.1"
      ]
     },
     "execution_count": 7,
     "metadata": {},
     "output_type": "execute_result"
    }
   ],
   "source": [
    "1/10"
   ]
  },
  {
   "cell_type": "code",
   "execution_count": 8,
   "id": "ebee7704-0323-47b0-9465-abcd3b9cd30f",
   "metadata": {},
   "outputs": [
    {
     "name": "stdout",
     "output_type": "stream",
     "text": [
      "True\n"
     ]
    }
   ],
   "source": [
    "print(True)"
   ]
  },
  {
   "cell_type": "code",
   "execution_count": 9,
   "id": "ba19f92a-2bc2-42e0-b853-482412ec19aa",
   "metadata": {},
   "outputs": [
    {
     "data": {
      "text/plain": [
       "int"
      ]
     },
     "execution_count": 9,
     "metadata": {},
     "output_type": "execute_result"
    }
   ],
   "source": [
    "type(5)"
   ]
  },
  {
   "cell_type": "code",
   "execution_count": 10,
   "id": "770759f6-4c4f-41e4-bed9-666336a97863",
   "metadata": {},
   "outputs": [
    {
     "data": {
      "text/plain": [
       "str"
      ]
     },
     "execution_count": 10,
     "metadata": {},
     "output_type": "execute_result"
    }
   ],
   "source": [
    "type(\"Hello World\")"
   ]
  },
  {
   "cell_type": "code",
   "execution_count": 11,
   "id": "e105023b-69e1-4500-96d5-47db7e8a8606",
   "metadata": {},
   "outputs": [
    {
     "data": {
      "text/plain": [
       "float"
      ]
     },
     "execution_count": 11,
     "metadata": {},
     "output_type": "execute_result"
    }
   ],
   "source": [
    "type(4.6)"
   ]
  },
  {
   "cell_type": "code",
   "execution_count": 12,
   "id": "e7b376c5-9bb2-4469-989b-711547be927c",
   "metadata": {},
   "outputs": [
    {
     "data": {
      "text/plain": [
       "bool"
      ]
     },
     "execution_count": 12,
     "metadata": {},
     "output_type": "execute_result"
    }
   ],
   "source": [
    "type(True)"
   ]
  },
  {
   "cell_type": "code",
   "execution_count": 14,
   "id": "b59c64b9-2da4-48a1-95ea-d16a0778798d",
   "metadata": {},
   "outputs": [
    {
     "data": {
      "text/plain": [
       "str"
      ]
     },
     "execution_count": 14,
     "metadata": {},
     "output_type": "execute_result"
    }
   ],
   "source": [
    "type(\"5\")"
   ]
  },
  {
   "cell_type": "code",
   "execution_count": 15,
   "id": "3e52ec00-4ff9-4a3b-95cf-10be94a3df64",
   "metadata": {},
   "outputs": [
    {
     "data": {
      "text/plain": [
       "5.0"
      ]
     },
     "execution_count": 15,
     "metadata": {},
     "output_type": "execute_result"
    }
   ],
   "source": [
    "float(5)"
   ]
  },
  {
   "cell_type": "code",
   "execution_count": 16,
   "id": "46a1d36a-885f-416b-92ab-65159f27708d",
   "metadata": {},
   "outputs": [
    {
     "data": {
      "text/plain": [
       "5"
      ]
     },
     "execution_count": 16,
     "metadata": {},
     "output_type": "execute_result"
    }
   ],
   "source": [
    "int(5.4)"
   ]
  },
  {
   "cell_type": "code",
   "execution_count": 17,
   "id": "96fe5579-e34c-4623-aeeb-72da2e14b350",
   "metadata": {},
   "outputs": [
    {
     "ename": "ValueError",
     "evalue": "invalid literal for int() with base 10: '5.6'",
     "output_type": "error",
     "traceback": [
      "\u001b[1;31m---------------------------------------------------------------------------\u001b[0m",
      "\u001b[1;31mValueError\u001b[0m                                Traceback (most recent call last)",
      "Cell \u001b[1;32mIn[17], line 1\u001b[0m\n\u001b[1;32m----> 1\u001b[0m \u001b[38;5;28mint\u001b[39m(\u001b[38;5;124m\"\u001b[39m\u001b[38;5;124m5.6\u001b[39m\u001b[38;5;124m\"\u001b[39m)\n",
      "\u001b[1;31mValueError\u001b[0m: invalid literal for int() with base 10: '5.6'"
     ]
    }
   ],
   "source": [
    "int(\"5.6\")"
   ]
  },
  {
   "cell_type": "code",
   "execution_count": 18,
   "id": "6b8c7184-d5bd-4140-abd4-8afebc6a1604",
   "metadata": {},
   "outputs": [
    {
     "data": {
      "text/plain": [
       "False"
      ]
     },
     "execution_count": 18,
     "metadata": {},
     "output_type": "execute_result"
    }
   ],
   "source": [
    "bool(0)"
   ]
  },
  {
   "cell_type": "code",
   "execution_count": 19,
   "id": "097f03bd-cf79-4661-91a6-3c021f521d4a",
   "metadata": {},
   "outputs": [
    {
     "data": {
      "text/plain": [
       "True"
      ]
     },
     "execution_count": 19,
     "metadata": {},
     "output_type": "execute_result"
    }
   ],
   "source": [
    "bool(1)"
   ]
  },
  {
   "cell_type": "code",
   "execution_count": 20,
   "id": "2f4bea45-e6c0-4aed-83ec-e3050c3704af",
   "metadata": {},
   "outputs": [
    {
     "data": {
      "text/plain": [
       "True"
      ]
     },
     "execution_count": 20,
     "metadata": {},
     "output_type": "execute_result"
    }
   ],
   "source": [
    "bool(5)"
   ]
  },
  {
   "cell_type": "code",
   "execution_count": 21,
   "id": "7b05db4d-a3b4-4509-bfee-2bc3f025ef04",
   "metadata": {},
   "outputs": [
    {
     "data": {
      "text/plain": [
       "True"
      ]
     },
     "execution_count": 21,
     "metadata": {},
     "output_type": "execute_result"
    }
   ],
   "source": [
    "bool(\"Hi\")"
   ]
  },
  {
   "cell_type": "code",
   "execution_count": 22,
   "id": "9e65614f-60d5-4546-b638-13895e0f5b5e",
   "metadata": {},
   "outputs": [
    {
     "data": {
      "text/plain": [
       "False"
      ]
     },
     "execution_count": 22,
     "metadata": {},
     "output_type": "execute_result"
    }
   ],
   "source": [
    "bool(\"\")"
   ]
  },
  {
   "cell_type": "code",
   "execution_count": 23,
   "id": "10233332-ece8-4acb-a979-259ebe9b50c9",
   "metadata": {},
   "outputs": [
    {
     "data": {
      "text/plain": [
       "True"
      ]
     },
     "execution_count": 23,
     "metadata": {},
     "output_type": "execute_result"
    }
   ],
   "source": [
    "bool(\" \")"
   ]
  },
  {
   "cell_type": "code",
   "execution_count": 24,
   "id": "44e50b78-9d9d-4cb6-8be2-88134139fdc5",
   "metadata": {},
   "outputs": [
    {
     "data": {
      "text/plain": [
       "14"
      ]
     },
     "execution_count": 24,
     "metadata": {},
     "output_type": "execute_result"
    }
   ],
   "source": [
    "8+6"
   ]
  },
  {
   "cell_type": "code",
   "execution_count": 25,
   "id": "ab16f7aa-0e6f-4ae4-8502-cb40b86559a5",
   "metadata": {},
   "outputs": [
    {
     "data": {
      "text/plain": [
       "-6"
      ]
     },
     "execution_count": 25,
     "metadata": {},
     "output_type": "execute_result"
    }
   ],
   "source": [
    "19-25"
   ]
  },
  {
   "cell_type": "code",
   "execution_count": 26,
   "id": "6a9ed002-65fe-4a5c-8bfc-518928c068d2",
   "metadata": {},
   "outputs": [
    {
     "data": {
      "text/plain": [
       "21"
      ]
     },
     "execution_count": 26,
     "metadata": {},
     "output_type": "execute_result"
    }
   ],
   "source": [
    "7*3"
   ]
  },
  {
   "cell_type": "code",
   "execution_count": 27,
   "id": "d09efbe2-1b88-4493-987f-92bd3ea7d03f",
   "metadata": {},
   "outputs": [
    {
     "data": {
      "text/plain": [
       "6.333333333333333"
      ]
     },
     "execution_count": 27,
     "metadata": {},
     "output_type": "execute_result"
    }
   ],
   "source": [
    "19/3"
   ]
  },
  {
   "cell_type": "code",
   "execution_count": 28,
   "id": "2dff9cf0-5f0e-44ff-ac18-fe6e5812375e",
   "metadata": {},
   "outputs": [
    {
     "data": {
      "text/plain": [
       "3"
      ]
     },
     "execution_count": 28,
     "metadata": {},
     "output_type": "execute_result"
    }
   ],
   "source": [
    "73%5"
   ]
  },
  {
   "cell_type": "code",
   "execution_count": 29,
   "id": "ae1f7113-feea-485b-a26e-3c1064832cc2",
   "metadata": {},
   "outputs": [
    {
     "data": {
      "text/plain": [
       "64"
      ]
     },
     "execution_count": 29,
     "metadata": {},
     "output_type": "execute_result"
    }
   ],
   "source": [
    "4**3"
   ]
  },
  {
   "cell_type": "code",
   "execution_count": 30,
   "id": "49e6693f-64f6-4ba3-a504-2157b6385642",
   "metadata": {},
   "outputs": [
    {
     "data": {
      "text/plain": [
       "6"
      ]
     },
     "execution_count": 30,
     "metadata": {},
     "output_type": "execute_result"
    }
   ],
   "source": [
    "19//3"
   ]
  },
  {
   "cell_type": "code",
   "execution_count": 31,
   "id": "103d65de-6f09-4549-9600-72dfa9ee0b1b",
   "metadata": {},
   "outputs": [
    {
     "data": {
      "text/plain": [
       "'HiKod'"
      ]
     },
     "execution_count": 31,
     "metadata": {},
     "output_type": "execute_result"
    }
   ],
   "source": [
    "\"Hi\"+\"Kod\""
   ]
  },
  {
   "cell_type": "code",
   "execution_count": 32,
   "id": "0c357e2f-a1ce-4ab6-a2bc-feddf5bfd12a",
   "metadata": {},
   "outputs": [
    {
     "data": {
      "text/plain": [
       "'Hi Kod'"
      ]
     },
     "execution_count": 32,
     "metadata": {},
     "output_type": "execute_result"
    }
   ],
   "source": [
    "\"Hi\"+\" Kod\""
   ]
  },
  {
   "cell_type": "code",
   "execution_count": 33,
   "id": "3f26e173-2c76-4614-9e22-f03933d6d418",
   "metadata": {},
   "outputs": [
    {
     "data": {
      "text/plain": [
       "'123'"
      ]
     },
     "execution_count": 33,
     "metadata": {},
     "output_type": "execute_result"
    }
   ],
   "source": [
    "\"12\"+\"3\""
   ]
  },
  {
   "cell_type": "code",
   "execution_count": 34,
   "id": "afb1dd6c-8021-4b66-8958-3157480d8f3b",
   "metadata": {},
   "outputs": [
    {
     "data": {
      "text/plain": [
       "'Hi-KodHi-KodHi-Kod'"
      ]
     },
     "execution_count": 34,
     "metadata": {},
     "output_type": "execute_result"
    }
   ],
   "source": [
    "\"Hi-Kod\"*3"
   ]
  },
  {
   "cell_type": "code",
   "execution_count": 36,
   "id": "47091945-7ab7-421c-8239-080c80656b3b",
   "metadata": {},
   "outputs": [
    {
     "data": {
      "text/plain": [
       "23"
      ]
     },
     "execution_count": 36,
     "metadata": {},
     "output_type": "execute_result"
    }
   ],
   "source": [
    "ahmet=23\n",
    "ahmet"
   ]
  },
  {
   "cell_type": "code",
   "execution_count": 37,
   "id": "f07bdcda-bcac-4d4b-b172-bf9879debf30",
   "metadata": {},
   "outputs": [],
   "source": [
    "ayse=21"
   ]
  },
  {
   "cell_type": "code",
   "execution_count": 38,
   "id": "43d4e7d4-fea2-4636-8b68-3372a81138f9",
   "metadata": {},
   "outputs": [
    {
     "data": {
      "text/plain": [
       "21"
      ]
     },
     "execution_count": 38,
     "metadata": {},
     "output_type": "execute_result"
    }
   ],
   "source": [
    "ayse"
   ]
  },
  {
   "cell_type": "code",
   "execution_count": 39,
   "id": "0a96ba76-2f43-42c4-b481-8ef6fafa5b56",
   "metadata": {},
   "outputs": [
    {
     "data": {
      "text/plain": [
       "25"
      ]
     },
     "execution_count": 39,
     "metadata": {},
     "output_type": "execute_result"
    }
   ],
   "source": [
    "ahmet+= 2\n",
    "ahmet"
   ]
  },
  {
   "cell_type": "code",
   "execution_count": 41,
   "id": "173b9c10-5e61-464d-ac18-942359439513",
   "metadata": {},
   "outputs": [],
   "source": [
    "ayse-=3"
   ]
  },
  {
   "cell_type": "code",
   "execution_count": 42,
   "id": "6712b482-c25e-4a62-b725-d182037620ca",
   "metadata": {},
   "outputs": [
    {
     "data": {
      "text/plain": [
       "18"
      ]
     },
     "execution_count": 42,
     "metadata": {},
     "output_type": "execute_result"
    }
   ],
   "source": [
    "ayse"
   ]
  },
  {
   "cell_type": "code",
   "execution_count": 43,
   "id": "91f45163-d348-4234-a668-00c54f3b88d4",
   "metadata": {},
   "outputs": [],
   "source": [
    "melek = 24\n",
    "sedat = 36\n",
    "defne = 18\n",
    "emre = 28\n",
    "seda = 24"
   ]
  },
  {
   "cell_type": "code",
   "execution_count": 45,
   "id": "7e076f9f-169e-4d39-98c9-42c86b792120",
   "metadata": {},
   "outputs": [
    {
     "data": {
      "text/plain": [
       "True"
      ]
     },
     "execution_count": 45,
     "metadata": {},
     "output_type": "execute_result"
    }
   ],
   "source": [
    "24 == 24"
   ]
  },
  {
   "cell_type": "code",
   "execution_count": 46,
   "id": "5c4a0723-3237-4c97-88cb-ef7adca4b19f",
   "metadata": {},
   "outputs": [
    {
     "data": {
      "text/plain": [
       "False"
      ]
     },
     "execution_count": 46,
     "metadata": {},
     "output_type": "execute_result"
    }
   ],
   "source": [
    "24 == 36"
   ]
  },
  {
   "cell_type": "code",
   "execution_count": 47,
   "id": "530d2a0e-8377-4564-b017-693ffd7cb94b",
   "metadata": {},
   "outputs": [
    {
     "data": {
      "text/plain": [
       "True"
      ]
     },
     "execution_count": 47,
     "metadata": {},
     "output_type": "execute_result"
    }
   ],
   "source": [
    "24 != 36"
   ]
  },
  {
   "cell_type": "code",
   "execution_count": 48,
   "id": "c5792f3e-9448-4abb-81fb-1e376ad365a8",
   "metadata": {},
   "outputs": [
    {
     "data": {
      "text/plain": [
       "True"
      ]
     },
     "execution_count": 48,
     "metadata": {},
     "output_type": "execute_result"
    }
   ],
   "source": [
    "18 != 28"
   ]
  },
  {
   "cell_type": "code",
   "execution_count": 49,
   "id": "89bfd259-1ace-4c78-adfa-43af6e7bb73c",
   "metadata": {},
   "outputs": [
    {
     "data": {
      "text/plain": [
       "True"
      ]
     },
     "execution_count": 49,
     "metadata": {},
     "output_type": "execute_result"
    }
   ],
   "source": [
    "24 > 18"
   ]
  },
  {
   "cell_type": "code",
   "execution_count": 50,
   "id": "92ec6789-ffc6-49c2-bd80-25b31ead0c20",
   "metadata": {},
   "outputs": [
    {
     "data": {
      "text/plain": [
       "False"
      ]
     },
     "execution_count": 50,
     "metadata": {},
     "output_type": "execute_result"
    }
   ],
   "source": [
    "28 > 36"
   ]
  },
  {
   "cell_type": "code",
   "execution_count": 51,
   "id": "3a548a41-bd3c-4566-aa0d-7b6cf3ed9e5e",
   "metadata": {},
   "outputs": [
    {
     "data": {
      "text/plain": [
       "True"
      ]
     },
     "execution_count": 51,
     "metadata": {},
     "output_type": "execute_result"
    }
   ],
   "source": [
    "18 <= 36"
   ]
  },
  {
   "cell_type": "code",
   "execution_count": 52,
   "id": "6cbb95d3-773b-4061-8b4d-f0599f453550",
   "metadata": {},
   "outputs": [
    {
     "data": {
      "text/plain": [
       "True"
      ]
     },
     "execution_count": 52,
     "metadata": {},
     "output_type": "execute_result"
    }
   ],
   "source": [
    "42 <= 42"
   ]
  },
  {
   "cell_type": "code",
   "execution_count": 53,
   "id": "b7c809a4-2f51-4b31-b89c-80a719783a4a",
   "metadata": {},
   "outputs": [],
   "source": [
    "x = 10"
   ]
  },
  {
   "cell_type": "code",
   "execution_count": 54,
   "id": "8091526b-2065-47ed-8f1e-b4d2ef72dcf2",
   "metadata": {},
   "outputs": [
    {
     "data": {
      "text/plain": [
       "True"
      ]
     },
     "execution_count": 54,
     "metadata": {},
     "output_type": "execute_result"
    }
   ],
   "source": [
    "x < 12 and x > 4"
   ]
  },
  {
   "cell_type": "code",
   "execution_count": 55,
   "id": "ad905d4f-889f-4f0a-a905-46ada2559db4",
   "metadata": {},
   "outputs": [
    {
     "data": {
      "text/plain": [
       "False"
      ]
     },
     "execution_count": 55,
     "metadata": {},
     "output_type": "execute_result"
    }
   ],
   "source": [
    "x < 9 and x < 14"
   ]
  },
  {
   "cell_type": "code",
   "execution_count": 56,
   "id": "35bb2041-32c0-4121-822e-e80b1156e189",
   "metadata": {},
   "outputs": [
    {
     "data": {
      "text/plain": [
       "True"
      ]
     },
     "execution_count": 56,
     "metadata": {},
     "output_type": "execute_result"
    }
   ],
   "source": [
    "x < 9 or x < 14"
   ]
  },
  {
   "cell_type": "code",
   "execution_count": 57,
   "id": "4d27f367-fc8c-466a-a134-056bb73b7dc8",
   "metadata": {},
   "outputs": [
    {
     "data": {
      "text/plain": [
       "True"
      ]
     },
     "execution_count": 57,
     "metadata": {},
     "output_type": "execute_result"
    }
   ],
   "source": [
    "(17 < 20) and (26 > 19)"
   ]
  },
  {
   "cell_type": "code",
   "execution_count": 58,
   "id": "ca79786a-d041-4058-9016-365c6fd96a1c",
   "metadata": {},
   "outputs": [
    {
     "data": {
      "text/plain": [
       "False"
      ]
     },
     "execution_count": 58,
     "metadata": {},
     "output_type": "execute_result"
    }
   ],
   "source": [
    "(45 < 50) and (24 < 19)"
   ]
  },
  {
   "cell_type": "code",
   "execution_count": 59,
   "id": "074dd276-d500-4b3f-b470-8286c82f05a8",
   "metadata": {},
   "outputs": [
    {
     "data": {
      "text/plain": [
       "True"
      ]
     },
     "execution_count": 59,
     "metadata": {},
     "output_type": "execute_result"
    }
   ],
   "source": [
    "(45 < 50) or (24 < 19)"
   ]
  },
  {
   "cell_type": "code",
   "execution_count": 60,
   "id": "2c1e3e26-e743-418a-b50f-1a242d8c2795",
   "metadata": {},
   "outputs": [
    {
     "data": {
      "text/plain": [
       "False"
      ]
     },
     "execution_count": 60,
     "metadata": {},
     "output_type": "execute_result"
    }
   ],
   "source": [
    "not (x < 12 and x > 4)"
   ]
  },
  {
   "cell_type": "code",
   "execution_count": 61,
   "id": "4abc0a02-069b-4c02-bfe8-22fb8144adfe",
   "metadata": {},
   "outputs": [
    {
     "data": {
      "text/plain": [
       "False"
      ]
     },
     "execution_count": 61,
     "metadata": {},
     "output_type": "execute_result"
    }
   ],
   "source": [
    "not ((45 < 50) or (24 < 19))"
   ]
  },
  {
   "cell_type": "code",
   "execution_count": 62,
   "id": "cb44f763-a9b2-4615-9c3c-a9bd035caa73",
   "metadata": {},
   "outputs": [
    {
     "data": {
      "text/plain": [
       "'Hi-Kod Veri Bilimi'"
      ]
     },
     "execution_count": 62,
     "metadata": {},
     "output_type": "execute_result"
    }
   ],
   "source": [
    "atolye= \"Hi-Kod Veri Bilimi\"\n",
    "atolye"
   ]
  },
  {
   "cell_type": "code",
   "execution_count": 63,
   "id": "2cf2e26e-9f5b-4c09-8628-20591b3bce72",
   "metadata": {},
   "outputs": [
    {
     "data": {
      "text/plain": [
       "True"
      ]
     },
     "execution_count": 63,
     "metadata": {},
     "output_type": "execute_result"
    }
   ],
   "source": [
    "\"i\" in atolye"
   ]
  },
  {
   "cell_type": "code",
   "execution_count": 64,
   "id": "a9ee0a30-0b9e-4069-9113-1741fd5f0293",
   "metadata": {},
   "outputs": [
    {
     "data": {
      "text/plain": [
       "False"
      ]
     },
     "execution_count": 64,
     "metadata": {},
     "output_type": "execute_result"
    }
   ],
   "source": [
    "\"v\" in atolye"
   ]
  },
  {
   "cell_type": "code",
   "execution_count": 65,
   "id": "b1aaa50b-67ef-4e73-ae53-e9cd2f272666",
   "metadata": {},
   "outputs": [
    {
     "data": {
      "text/plain": [
       "True"
      ]
     },
     "execution_count": 65,
     "metadata": {},
     "output_type": "execute_result"
    }
   ],
   "source": [
    "\"V\" in atolye"
   ]
  },
  {
   "cell_type": "code",
   "execution_count": 66,
   "id": "72d07e6d-29a0-4ba7-b984-3a9170d9d0b2",
   "metadata": {},
   "outputs": [
    {
     "data": {
      "text/plain": [
       "True"
      ]
     },
     "execution_count": 66,
     "metadata": {},
     "output_type": "execute_result"
    }
   ],
   "source": [
    "not \"v\" in atolye"
   ]
  },
  {
   "cell_type": "code",
   "execution_count": 67,
   "id": "dd5d84ad-d8ac-4a15-9bd6-323396b908c3",
   "metadata": {},
   "outputs": [
    {
     "data": {
      "text/plain": [
       "True"
      ]
     },
     "execution_count": 67,
     "metadata": {},
     "output_type": "execute_result"
    }
   ],
   "source": [
    "not \"a\" in atolye"
   ]
  },
  {
   "cell_type": "code",
   "execution_count": 68,
   "id": "051aa0be-aaaa-4bf5-90f9-7b575c2ac629",
   "metadata": {},
   "outputs": [
    {
     "data": {
      "text/plain": [
       "9"
      ]
     },
     "execution_count": 68,
     "metadata": {},
     "output_type": "execute_result"
    }
   ],
   "source": [
    "\"123456789\"\n",
    "len(\"123456789\")"
   ]
  },
  {
   "cell_type": "code",
   "execution_count": 69,
   "id": "3ce685db-9666-4c07-a59d-f772cde814f1",
   "metadata": {},
   "outputs": [
    {
     "data": {
      "text/plain": [
       "11"
      ]
     },
     "execution_count": 69,
     "metadata": {},
     "output_type": "execute_result"
    }
   ],
   "source": [
    "tc_no=\"12345678987\"\n",
    "len(tc_no)"
   ]
  },
  {
   "cell_type": "code",
   "execution_count": 73,
   "id": "ca31c24b-22c5-486f-875e-bbf8da822136",
   "metadata": {},
   "outputs": [],
   "source": [
    "musteri_adi = \"mujgansahin\"\n",
    "musteri_no = \"1234567\""
   ]
  },
  {
   "cell_type": "code",
   "execution_count": 74,
   "id": "00d74b05-ef8d-412e-94e2-34c909b304a3",
   "metadata": {},
   "outputs": [
    {
     "data": {
      "text/plain": [
       "11"
      ]
     },
     "execution_count": 74,
     "metadata": {},
     "output_type": "execute_result"
    }
   ],
   "source": [
    "len(musteri_adi)"
   ]
  },
  {
   "cell_type": "code",
   "execution_count": 75,
   "id": "9d84fd28-7cf4-4d0a-9255-760182f6a3ec",
   "metadata": {},
   "outputs": [
    {
     "data": {
      "text/plain": [
       "7"
      ]
     },
     "execution_count": 75,
     "metadata": {},
     "output_type": "execute_result"
    }
   ],
   "source": [
    "len(musteri_no)"
   ]
  },
  {
   "cell_type": "code",
   "execution_count": 76,
   "id": "94feffe1-a66f-436a-9c70-bcb603151ea9",
   "metadata": {},
   "outputs": [
    {
     "data": {
      "text/plain": [
       "18"
      ]
     },
     "execution_count": 76,
     "metadata": {},
     "output_type": "execute_result"
    }
   ],
   "source": [
    "len(musteri_adı)+len(musteri_no)"
   ]
  },
  {
   "cell_type": "code",
   "execution_count": 77,
   "id": "85539a96-33c7-41e2-9421-5b8dfbf41636",
   "metadata": {},
   "outputs": [
    {
     "name": "stdout",
     "output_type": "stream",
     "text": [
      "<class 'str'>\n",
      "<class 'int'>\n"
     ]
    }
   ],
   "source": [
    "print(type(musteri_no))\n",
    "print(type(len(musteri_no)))"
   ]
  },
  {
   "cell_type": "code",
   "execution_count": 78,
   "id": "064bc872-4605-46bc-96dd-ab6f7866d667",
   "metadata": {},
   "outputs": [
    {
     "data": {
      "text/plain": [
       "'Hi-Kod Veri Bilimi'"
      ]
     },
     "execution_count": 78,
     "metadata": {},
     "output_type": "execute_result"
    }
   ],
   "source": [
    "atolye"
   ]
  },
  {
   "cell_type": "code",
   "execution_count": 79,
   "id": "ed005686-a100-4174-96db-908f8ad8e706",
   "metadata": {},
   "outputs": [
    {
     "data": {
      "text/plain": [
       "['Hi-Kod', 'Veri', 'Bilimi']"
      ]
     },
     "execution_count": 79,
     "metadata": {},
     "output_type": "execute_result"
    }
   ],
   "source": [
    "atolye.split()"
   ]
  },
  {
   "cell_type": "code",
   "execution_count": 80,
   "id": "1e86dbc3-50f2-46b6-a8cf-70dceb3967fa",
   "metadata": {},
   "outputs": [],
   "source": [
    "liste= atolye.split()"
   ]
  },
  {
   "cell_type": "code",
   "execution_count": 81,
   "id": "200aa545-73db-44eb-b3d8-99ce160867b5",
   "metadata": {},
   "outputs": [
    {
     "data": {
      "text/plain": [
       "['Hi-Kod', 'Veri', 'Bilimi']"
      ]
     },
     "execution_count": 81,
     "metadata": {},
     "output_type": "execute_result"
    }
   ],
   "source": [
    "liste"
   ]
  },
  {
   "cell_type": "code",
   "execution_count": 82,
   "id": "a5185aae-bff5-4769-bc0f-c7f15abb45dd",
   "metadata": {},
   "outputs": [],
   "source": [
    "liste2= atolye.split(\"i\")"
   ]
  },
  {
   "cell_type": "code",
   "execution_count": 83,
   "id": "6641d3ee-bbf2-458d-a36a-d7ecbe991e0a",
   "metadata": {},
   "outputs": [
    {
     "data": {
      "text/plain": [
       "['H', '-Kod Ver', ' B', 'l', 'm', '']"
      ]
     },
     "execution_count": 83,
     "metadata": {},
     "output_type": "execute_result"
    }
   ],
   "source": [
    "liste2"
   ]
  },
  {
   "cell_type": "code",
   "execution_count": 84,
   "id": "178dcdac-9572-4218-b1f1-ae158a82f0d3",
   "metadata": {},
   "outputs": [
    {
     "data": {
      "text/plain": [
       "'a'"
      ]
     },
     "execution_count": 84,
     "metadata": {},
     "output_type": "execute_result"
    }
   ],
   "source": [
    "harfler=\"abcdefghijklmn\"\n",
    "harfler[0]"
   ]
  },
  {
   "cell_type": "code",
   "execution_count": 85,
   "id": "5bbd3220-a8dc-48fd-8434-41075788b48a",
   "metadata": {},
   "outputs": [
    {
     "data": {
      "text/plain": [
       "'b'"
      ]
     },
     "execution_count": 85,
     "metadata": {},
     "output_type": "execute_result"
    }
   ],
   "source": [
    "harfler[1]"
   ]
  },
  {
   "cell_type": "code",
   "execution_count": 86,
   "id": "cf42dcd8-81e6-4398-8c63-84c06f480d15",
   "metadata": {},
   "outputs": [
    {
     "data": {
      "text/plain": [
       "'c'"
      ]
     },
     "execution_count": 86,
     "metadata": {},
     "output_type": "execute_result"
    }
   ],
   "source": [
    "harfler[2]"
   ]
  },
  {
   "cell_type": "code",
   "execution_count": 87,
   "id": "7e5683d2-73e5-464e-890c-50c84c38f19c",
   "metadata": {},
   "outputs": [
    {
     "data": {
      "text/plain": [
       "'e'"
      ]
     },
     "execution_count": 87,
     "metadata": {},
     "output_type": "execute_result"
    }
   ],
   "source": [
    "harfler[4]"
   ]
  },
  {
   "cell_type": "code",
   "execution_count": 88,
   "id": "1e243108-09db-4796-9aae-3ee66a821ab0",
   "metadata": {},
   "outputs": [
    {
     "data": {
      "text/plain": [
       "'i'"
      ]
     },
     "execution_count": 88,
     "metadata": {},
     "output_type": "execute_result"
    }
   ],
   "source": [
    "harfler[8]"
   ]
  },
  {
   "cell_type": "code",
   "execution_count": 89,
   "id": "b0ac7fdc-274d-41fe-aece-5207a2e28678",
   "metadata": {},
   "outputs": [
    {
     "data": {
      "text/plain": [
       "'n'"
      ]
     },
     "execution_count": 89,
     "metadata": {},
     "output_type": "execute_result"
    }
   ],
   "source": [
    "harfler[-1]"
   ]
  },
  {
   "cell_type": "code",
   "execution_count": 90,
   "id": "27a596d7-1241-4ec6-a300-8ff42523a72d",
   "metadata": {},
   "outputs": [
    {
     "data": {
      "text/plain": [
       "'m'"
      ]
     },
     "execution_count": 90,
     "metadata": {},
     "output_type": "execute_result"
    }
   ],
   "source": [
    "harfler[-2]"
   ]
  },
  {
   "cell_type": "code",
   "execution_count": 91,
   "id": "bcb22aac-3f4a-499e-9867-358dc57acaa3",
   "metadata": {},
   "outputs": [
    {
     "data": {
      "text/plain": [
       "'i'"
      ]
     },
     "execution_count": 91,
     "metadata": {},
     "output_type": "execute_result"
    }
   ],
   "source": [
    "harfler[-6]"
   ]
  },
  {
   "cell_type": "code",
   "execution_count": 92,
   "id": "23178882-012a-4f8b-bbd6-b92f5f4c571a",
   "metadata": {},
   "outputs": [
    {
     "data": {
      "text/plain": [
       "'abcdefghijklmn'"
      ]
     },
     "execution_count": 92,
     "metadata": {},
     "output_type": "execute_result"
    }
   ],
   "source": [
    "harfler"
   ]
  },
  {
   "cell_type": "code",
   "execution_count": 93,
   "id": "f7a76782-6977-4d84-80b9-bff2d7fd81a0",
   "metadata": {},
   "outputs": [
    {
     "data": {
      "text/plain": [
       "'abcde'"
      ]
     },
     "execution_count": 93,
     "metadata": {},
     "output_type": "execute_result"
    }
   ],
   "source": [
    "harfler[0:5]"
   ]
  },
  {
   "cell_type": "code",
   "execution_count": 94,
   "id": "04c4450d-3e25-443e-89b8-6fbec1022854",
   "metadata": {},
   "outputs": [
    {
     "data": {
      "text/plain": [
       "'efg'"
      ]
     },
     "execution_count": 94,
     "metadata": {},
     "output_type": "execute_result"
    }
   ],
   "source": [
    "harfler[4:7]"
   ]
  },
  {
   "cell_type": "code",
   "execution_count": 95,
   "id": "581ac728-c44f-475a-aa5f-23ed99d5104b",
   "metadata": {},
   "outputs": [
    {
     "data": {
      "text/plain": [
       "'fghij'"
      ]
     },
     "execution_count": 95,
     "metadata": {},
     "output_type": "execute_result"
    }
   ],
   "source": [
    "harfler[5:10]"
   ]
  },
  {
   "cell_type": "code",
   "execution_count": 96,
   "id": "517c50b0-5ba7-4785-96fe-82c27e1134b1",
   "metadata": {},
   "outputs": [
    {
     "data": {
      "text/plain": [
       "'acegikm'"
      ]
     },
     "execution_count": 96,
     "metadata": {},
     "output_type": "execute_result"
    }
   ],
   "source": [
    "harfler[::2]"
   ]
  },
  {
   "cell_type": "code",
   "execution_count": null,
   "id": "aea4cab9-5925-40d5-a3f7-2b499572ac8f",
   "metadata": {},
   "outputs": [],
   "source": [
    "input(\"Adınız: \") "
   ]
  },
  {
   "cell_type": "code",
   "execution_count": null,
   "id": "c86d1c17-8c5a-4866-8c49-07e0e239ca20",
   "metadata": {},
   "outputs": [],
   "source": [
    "isim = input(\"Adınız: \")"
   ]
  },
  {
   "cell_type": "code",
   "execution_count": null,
   "id": "4a530e17-1d1c-4e86-9107-5c0a54b366b0",
   "metadata": {},
   "outputs": [],
   "source": [
    "isim"
   ]
  },
  {
   "cell_type": "code",
   "execution_count": null,
   "id": "3b1415f7-4375-4f27-88d8-5e6017284da5",
   "metadata": {},
   "outputs": [],
   "source": [
    "yas = input(\"Yaşınız: \")\n",
    "print(yas)"
   ]
  },
  {
   "cell_type": "code",
   "execution_count": null,
   "id": "68bd3997-a9d5-49d3-b0e4-d835a7a37442",
   "metadata": {},
   "outputs": [],
   "source": [
    "yas + 5"
   ]
  },
  {
   "cell_type": "code",
   "execution_count": null,
   "id": "3e47b096-4c8e-483b-86e9-d3db50b0556d",
   "metadata": {},
   "outputs": [],
   "source": [
    "type(yas)"
   ]
  },
  {
   "cell_type": "code",
   "execution_count": null,
   "id": "d15e5000-d614-4988-a785-9defe65c55f4",
   "metadata": {},
   "outputs": [],
   "source": [
    "yas"
   ]
  },
  {
   "cell_type": "code",
   "execution_count": null,
   "id": "9a7808d8-74a6-4410-acb2-97094e85bbaf",
   "metadata": {},
   "outputs": [],
   "source": [
    "int(yas) + 5"
   ]
  },
  {
   "cell_type": "code",
   "execution_count": null,
   "id": "51d9d0ce-3148-484b-b482-9acadf11d950",
   "metadata": {},
   "outputs": [],
   "source": [
    "yas2= int(input(\"Yaşınız: \")"
   ]
  },
  {
   "cell_type": "code",
   "execution_count": null,
   "id": "4ebc3944-ebc8-49e0-9eea-18b95f02e704",
   "metadata": {},
   "outputs": [],
   "source": [
    "type(yas2)"
   ]
  },
  {
   "cell_type": "code",
   "execution_count": null,
   "id": "d5f8b4e6-d0fa-4bca-88cf-db21c90a233e",
   "metadata": {},
   "outputs": [],
   "source": [
    "4_sayı_toplamı=2+3+4+5\n",
    "sayı_toplamı=2+3+4"
   ]
  }
 ],
 "metadata": {
  "kernelspec": {
   "display_name": "Python 3 (ipykernel)",
   "language": "python",
   "name": "python3"
  },
  "language_info": {
   "codemirror_mode": {
    "name": "ipython",
    "version": 3
   },
   "file_extension": ".py",
   "mimetype": "text/x-python",
   "name": "python",
   "nbconvert_exporter": "python",
   "pygments_lexer": "ipython3",
   "version": "3.11.7"
  }
 },
 "nbformat": 4,
 "nbformat_minor": 5
}
