{
 "cells": [
  {
   "cell_type": "code",
   "execution_count": 1,
   "id": "5a0ef1be-b6ba-4213-a0dd-85d3dab06211",
   "metadata": {},
   "outputs": [
    {
     "name": "stdin",
     "output_type": "stream",
     "text": [
      "1 ile 15 arasında bir sayı giriniz:  12\n"
     ]
    },
    {
     "name": "stdout",
     "output_type": "stream",
     "text": [
      "Seçtiğiniz sayı:  12\n"
     ]
    }
   ],
   "source": [
    "sayi=int(input(\"1 ile 15 arasında bir sayı giriniz: \"))\n",
    "print(\"Seçtiğiniz sayı: \",sayi)"
   ]
  },
  {
   "cell_type": "code",
   "execution_count": 2,
   "id": "0ee29d50-d30b-4bfb-874f-b234a04fb8af",
   "metadata": {},
   "outputs": [],
   "source": [
    "if sayi > 15:\n",
    "    print(\"15'ten büyük sayı girdiniz!!\")"
   ]
  },
  {
   "cell_type": "code",
   "execution_count": 3,
   "id": "b0a9549b-48e2-4e2a-99ba-0fb35e3a0ed4",
   "metadata": {},
   "outputs": [
    {
     "name": "stdin",
     "output_type": "stream",
     "text": [
      "1 ile 15 arasında bir sayı giriniz:  12\n"
     ]
    }
   ],
   "source": [
    "sayi = int(input(\"1 ile 15 arasında bir sayı giriniz: \"))\n",
    "if sayi > 15:\n",
    "    print(\"15'ten büyük sayı girdiniz!!\")\n",
    "if sayi < 1:\n",
    "    print(\"Negatif değer girdiniz!!\")"
   ]
  },
  {
   "cell_type": "code",
   "execution_count": 5,
   "id": "82457c9f-0758-4aa4-b775-213d8720e687",
   "metadata": {},
   "outputs": [
    {
     "name": "stdin",
     "output_type": "stream",
     "text": [
      "1 ile 15 arasında bir sayı giriniz:  34\n"
     ]
    },
    {
     "name": "stdout",
     "output_type": "stream",
     "text": [
      "15'ten büyük sayı girdiniz!!\n"
     ]
    }
   ],
   "source": [
    "sayi = int(input(\"1 ile 15 arasında bir sayı giriniz: \"))\n",
    "if sayi > 15:\n",
    "    print(\"15'ten büyük sayı girdiniz!!\")\n",
    "elif sayi < 1:\n",
    "    print(\"Negatif değer girdiniz!!\")"
   ]
  },
  {
   "cell_type": "code",
   "execution_count": 6,
   "id": "b027a898-4997-45c5-83d7-b4827247ba07",
   "metadata": {},
   "outputs": [
    {
     "name": "stdin",
     "output_type": "stream",
     "text": [
      "1 ile 75 arasında bir sayı giriniz:  39\n"
     ]
    },
    {
     "name": "stdout",
     "output_type": "stream",
     "text": [
      "75'ten küçük bir sayı girdiniz.\n",
      "50'den küçük bir sayı girdiniz.\n"
     ]
    }
   ],
   "source": [
    "sayi= int(input(\"1 ile 75 arasında bir sayı giriniz: \"))\n",
    "if sayi<75:\n",
    "    print(\"75'ten küçük bir sayı girdiniz.\")\n",
    "if sayi<50:\n",
    "    print(\"50'den küçük bir sayı girdiniz.\")\n",
    "if sayi<25:\n",
    "    print(\"25'ten küçük bir sayı girdiniz.\")\n"
   ]
  },
  {
   "cell_type": "code",
   "execution_count": 7,
   "id": "c5b3f00b-949e-4fe8-aad8-29425ae57f02",
   "metadata": {},
   "outputs": [
    {
     "name": "stdin",
     "output_type": "stream",
     "text": [
      "1 ile 75 arasında bir sayı giriniz:  36\n"
     ]
    },
    {
     "name": "stdout",
     "output_type": "stream",
     "text": [
      "75'ten küçük bir sayı girdiniz.\n"
     ]
    }
   ],
   "source": [
    "sayi= int(input(\"1 ile 75 arasında bir sayı giriniz: \"))\n",
    "if sayi<75:\n",
    "    print(\"75'ten küçük bir sayı girdiniz.\")\n",
    "elif sayi<50:\n",
    "    print(\"50'den küçük bir sayı girdiniz.\")\n",
    "elif sayi<25:\n",
    "    print(\"25'ten küçük bir sayı girdiniz.\")\n"
   ]
  },
  {
   "cell_type": "code",
   "execution_count": 10,
   "id": "b0a76051-315b-40f7-880f-7aa321f60332",
   "metadata": {},
   "outputs": [
    {
     "name": "stdin",
     "output_type": "stream",
     "text": [
      "1 ile 75 arasında bir sayı giriniz:  78\n"
     ]
    },
    {
     "name": "stdout",
     "output_type": "stream",
     "text": [
      "1 ile 75 arasında değer giriniz.\n"
     ]
    }
   ],
   "source": [
    "sayi= int(input(\"1 ile 75 arasında bir sayı giriniz: \"))\n",
    "if sayi<25:\n",
    "    print(\"25'ten küçük bir sayı girdiniz.\")\n",
    "elif sayi<50:\n",
    "    print(\"25 ile 50 arasında bir sayı girdiniz.\")\n",
    "elif sayi< 75:\n",
    "    print(\"50 ile 75 arasında sayı girdiniz.\")\n",
    "else:\n",
    "    print(\"1 ile 75 arasında değer giriniz.\")"
   ]
  },
  {
   "cell_type": "code",
   "execution_count": 13,
   "id": "c6147d8a-f2b3-47fa-a091-71426fd54523",
   "metadata": {},
   "outputs": [
    {
     "name": "stdin",
     "output_type": "stream",
     "text": [
      "Toplam skorunuzu giriniz:  78\n"
     ]
    },
    {
     "name": "stdout",
     "output_type": "stream",
     "text": [
      "çok iyi skor\n"
     ]
    }
   ],
   "source": [
    "skor= int(input(\"Toplam skorunuzu giriniz: \"))\n",
    "if skor<=40:\n",
    "    print(\"kötü skor!!!\")\n",
    "elif skor<=70:\n",
    "    print(\"iyi skor\")\n",
    "elif skor<=100:\n",
    "    print(\"çok iyi skor\")\n",
    "else:\n",
    "    print(\"geçersiz değer!!!\")    "
   ]
  },
  {
   "cell_type": "code",
   "execution_count": null,
   "id": "f9052e6d-8d46-4d7f-b170-3aafb580b3b4",
   "metadata": {},
   "outputs": [],
   "source": [
    "a=1\n",
    "while a==1:\n",
    "    print(\"Selam\")"
   ]
  },
  {
   "cell_type": "code",
   "execution_count": null,
   "id": "7547ee10-0299-415f-a0fc-21e01eff4e7b",
   "metadata": {},
   "outputs": [],
   "source": [
    "a=1\n",
    "while a==1:\n",
    "    print(\"Selam\")\n",
    "    a=a+1"
   ]
  },
  {
   "cell_type": "code",
   "execution_count": null,
   "id": "9dfbb4d2-52cb-4906-881f-25c0dbd5c2c1",
   "metadata": {},
   "outputs": [],
   "source": [
    "a=1\n",
    "while a<=10:\n",
    "    print(\"merhaba\")\n",
    "    a=a+1\n"
   ]
  },
  {
   "cell_type": "code",
   "execution_count": null,
   "id": "0d68bdb6-68d5-4300-9142-4ebc01952c1c",
   "metadata": {},
   "outputs": [],
   "source": [
    "a=1\n",
    "while a<=10:\n",
    "    print(\"merhaba\")\n",
    "    a+=1\n",
    "    "
   ]
  },
  {
   "cell_type": "code",
   "execution_count": null,
   "id": "3d4c20a4-7c74-4dab-a95b-03fcada1a536",
   "metadata": {},
   "outputs": [],
   "source": [
    "a=0\n",
    "while a<=10:\n",
    "    if a%2==0:\n",
    "        print(a)\n",
    "    a=a+1\n"
   ]
  },
  {
   "cell_type": "code",
   "execution_count": null,
   "id": "2b02199d-8ac2-4b44-ba53-7aae0be96e16",
   "metadata": {},
   "outputs": [],
   "source": [
    "key = 1\n",
    "while key==1:\n",
    "    islem=int(input(\"Yapmak istediğiniz işlemin numarasını giriniz.Çıkmak için 0'a basınız : \")\n",
    "    if islem == 1:\n",
    "        sayi1 = int(input(\"Yapmak istediğiniz işlem için ilk sayıyı giriniz: \"))\n",
    "        sayi2 = int(input(\"Yapmak istediğiniz işlem için ikinci sayıyı giriniz: \"))\n",
    "        islem  = sayi1+sayi2\n",
    "        print(\"Girdiğiniz sayılara göre yaptığınız işlemin sonucu: \",islem)\n",
    "\n",
    "    elif islem == 2:\n",
    "        sayi1 = int(input(\"Yapmak istediğiniz işlem için ilk sayıyı giriniz: \"))\n",
    "        sayi2 = int(input(\"Yapmak istediğiniz işlem için ikinci sayıyı giriniz: \"))\n",
    "        islem  = sayi1-sayi2\n",
    "        print(\"Girdiğiniz sayılara göre yaptığınız işlemin sonucu: \",islem)       \n",
    "\n",
    "    elif islem == 3:\n",
    "        sayi1 = int(input(\"Yapmak istediğiniz işlem için ilk sayıyı giriniz: \"))\n",
    "        sayi2 = int(input(\"Yapmak istediğiniz işlem için ikinci sayıyı giriniz: \"))\n",
    "        islem  = sayi1*sayi2\n",
    "        print(\"Girdiğiniz sayılara göre yaptığınız işlemin sonucu: \",islem)\n",
    "    \n",
    "    elif islem == 4:\n",
    "        sayi1 = int(input(\"Yapmak istediğiniz işlem için ilk sayıyı giriniz: \"))\n",
    "        sayi2 = int(input(\"Yapmak istediğiniz işlem için ikinci sayıyı giriniz: \"))\n",
    "        islem  = sayi1/sayi2\n",
    "        print(\"Girdiğiniz sayılara göre yaptığınız işlemin sonucu: \",islem)\n",
    "    elif islem == 0:\n",
    "        print(\"Çıkış yapılıyor..\")\n",
    "        key = 0\n",
    "    else: \n",
    "        print(\"Hatalı giriş!!\")\n",
    "              \n",
    "                    "
   ]
  },
  {
   "cell_type": "code",
   "execution_count": null,
   "id": "56cb4f46-9a8b-4b38-80f0-67454fef19ff",
   "metadata": {},
   "outputs": [],
   "source": [
    "while True:\n",
    "    islem = int(input(\"Yapmak istediğiniz işlemin numarasını giriniz(Çıkmak için 0'a basın): \" ))\n",
    "\n",
    "    if islem == 1:\n",
    "        sayi1 = int(input(\"Yapmak istediğiniz işlem için ilk sayıyı giriniz: \"))\n",
    "        sayi2 = int(input(\"Yapmak istediğiniz işlem için ikinci sayıyı giriniz: \"))\n",
    "        islem  = sayi1+sayi2\n",
    "        print(\"Girdiğiniz sayılara göre yaptığınız işlemin sonucu: \",islem)\n",
    "\n",
    "    elif islem == 2:\n",
    "        sayi1 = int(input(\"Yapmak istediğiniz işlem için ilk sayıyı giriniz: \"))\n",
    "        sayi2 = int(input(\"Yapmak istediğiniz işlem için ikinci sayıyı giriniz: \"))\n",
    "        islem  = sayi1-sayi2\n",
    "        print(\"Girdiğiniz sayılara göre yaptığınız işlemin sonucu: \",islem)       \n",
    "\n",
    "    elif islem == 3:\n",
    "        sayi1 = int(input(\"Yapmak istediğiniz işlem için ilk sayıyı giriniz: \"))\n",
    "        sayi2 = int(input(\"Yapmak istediğiniz işlem için ikinci sayıyı giriniz: \"))\n",
    "        islem  = sayi1*sayi2\n",
    "        print(\"Girdiğiniz sayılara göre yaptığınız işlemin sonucu: \",islem)\n",
    "    \n",
    "    elif islem == 4:\n",
    "        sayi1 = int(input(\"Yapmak istediğiniz işlem için ilk sayıyı giriniz: \"))\n",
    "        sayi2 = int(input(\"Yapmak istediğiniz işlem için ikinci sayıyı giriniz: \"))\n",
    "        islem  = sayi1/sayi2\n",
    "        print(\"Girdiğiniz sayılara göre yaptığınız işlemin sonucu: \",islem)\n",
    "    elif islem == 0:\n",
    "        print(\"Çıkış yapılıyor..\")\n",
    "        break\n",
    "    else: \n",
    "        print(\"Hatalı giriş!!\")"
   ]
  },
  {
   "cell_type": "code",
   "execution_count": null,
   "id": "1527c1dd-4f09-4d70-970b-05828a1d0e52",
   "metadata": {},
   "outputs": [],
   "source": [
    "while True:\n",
    "    islem = int(input(\"Yapmak istediğiniz işlemin numarasını giriniz(Çıkmak için 0'a basın): \" ))\n",
    "\n",
    "    if islem == 1:\n",
    "        sayi1 = int(input(\"Yapmak istediğiniz işlem için ilk sayıyı giriniz: \"))\n",
    "        sayi2 = int(input(\"Yapmak istediğiniz işlem için ikinci sayıyı giriniz: \"))\n",
    "        islem  = sayi1+sayi2\n",
    "        print(\"Girdiğiniz sayılara göre yaptığınız işlemin sonucu: \",islem)\n",
    "\n",
    "    elif islem == 2:\n",
    "        sayi1 = int(input(\"Yapmak istediğiniz işlem için ilk sayıyı giriniz: \"))\n",
    "        sayi2 = int(input(\"Yapmak istediğiniz işlem için ikinci sayıyı giriniz: \"))\n",
    "        islem  = sayi1-sayi2\n",
    "        print(\"Girdiğiniz sayılara göre yaptığınız işlemin sonucu: \",islem)       \n",
    "\n",
    "    elif islem == 3:\n",
    "        sayi1 = int(input(\"Yapmak istediğiniz işlem için ilk sayıyı giriniz: \"))\n",
    "        sayi2 = int(input(\"Yapmak istediğiniz işlem için ikinci sayıyı giriniz: \"))\n",
    "        islem  = sayi1*sayi2\n",
    "        print(\"Girdiğiniz sayılara göre yaptığınız işlemin sonucu: \",islem)\n",
    "    \n",
    "    elif islem == 4:\n",
    "        sayi1 = int(input(\"Yapmak istediğiniz işlem için ilk sayıyı giriniz: \"))\n",
    "        sayi2 = int(input(\"Yapmak istediğiniz işlem için ikinci sayıyı giriniz: \"))\n",
    "        islem  = sayi1/sayi2\n",
    "        print(\"Girdiğiniz sayılara göre yaptığınız işlemin sonucu: \",islem)\n",
    "    elif islem == 0:\n",
    "        print(\"Çıkış yapılıyor..\")\n",
    "        break\n",
    "    "
   ]
  },
  {
   "cell_type": "code",
   "execution_count": null,
   "id": "08988c1b-efaf-4d32-ac6d-f89c6af7ef30",
   "metadata": {},
   "outputs": [],
   "source": [
    "while True:\n",
    "    sayi= int(input(\"1 ve 5 arasında sayı giriniz: \"))\n",
    "    if sayi == 0:\n",
    "        break\n",
    "    elif 1<sayi<5:\n",
    "        pass\n",
    "    print(\"merhaba\")\n",
    "\n"
   ]
  },
  {
   "cell_type": "code",
   "execution_count": null,
   "id": "919de97a-419f-411b-8489-94ab49a559d4",
   "metadata": {},
   "outputs": [],
   "source": [
    "sozcuk = \"Merhaba\"\n",
    "for harf in sozcuk:\n",
    "    print(harf)"
   ]
  },
  {
   "cell_type": "code",
   "execution_count": null,
   "id": "47027977-e5c3-4fce-889f-9917059bbe22",
   "metadata": {},
   "outputs": [],
   "source": [
    "sozcuk= \"Merhaba\"\n",
    "a=0\n",
    "while a<len(sozcuk):\n",
    "    print(sozcuk[a])\n",
    "    a+=1\n"
   ]
  },
  {
   "cell_type": "code",
   "execution_count": null,
   "id": "ae20aaab-1ff5-4c0f-982d-9eeac362250c",
   "metadata": {},
   "outputs": [],
   "source": [
    "sayilar=123456789\n",
    "for sayi in sayilar:\n",
    "    print(sayi)\n"
   ]
  },
  {
   "cell_type": "code",
   "execution_count": null,
   "id": "a3b6076a-3a82-4520-8b09-639f31fdb91f",
   "metadata": {},
   "outputs": [],
   "source": [
    "sayilar=\"123456789\"\n",
    "for sayi in sayilar:\n",
    "    print(sayi)"
   ]
  },
  {
   "cell_type": "code",
   "execution_count": null,
   "id": "a5548bbd-bb7f-42ff-b97d-bff556315d47",
   "metadata": {},
   "outputs": [],
   "source": [
    "for sayi in range(10):\n",
    "    print(sayi)\n"
   ]
  },
  {
   "cell_type": "code",
   "execution_count": null,
   "id": "427d4579-22e6-43ac-b9e0-f37f7a00a3a1",
   "metadata": {},
   "outputs": [],
   "source": [
    "for i in range(5,12):\n",
    "    print(i)"
   ]
  },
  {
   "cell_type": "code",
   "execution_count": null,
   "id": "0e059340-f96c-4641-971f-fd73cf680fb2",
   "metadata": {},
   "outputs": [],
   "source": [
    "for i in range(0,10,2):\n",
    "    print(i)"
   ]
  },
  {
   "cell_type": "code",
   "execution_count": null,
   "id": "1d09d0f2-86c1-4676-9eb5-d6fcd304d179",
   "metadata": {},
   "outputs": [],
   "source": [
    "for i in range(10,0,-3):\n",
    "    print(i)"
   ]
  },
  {
   "cell_type": "code",
   "execution_count": null,
   "id": "80fa01bc-75b2-4a1b-a5ca-b6ff0784af04",
   "metadata": {},
   "outputs": [],
   "source": [
    "for i in range(10):\n",
    "    \n"
   ]
  }
 ],
 "metadata": {
  "kernelspec": {
   "display_name": "Python 3 (ipykernel)",
   "language": "python",
   "name": "python3"
  },
  "language_info": {
   "codemirror_mode": {
    "name": "ipython",
    "version": 3
   },
   "file_extension": ".py",
   "mimetype": "text/x-python",
   "name": "python",
   "nbconvert_exporter": "python",
   "pygments_lexer": "ipython3",
   "version": "3.11.7"
  }
 },
 "nbformat": 4,
 "nbformat_minor": 5
}
